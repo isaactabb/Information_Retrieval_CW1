{
  "nbformat": 4,
  "nbformat_minor": 0,
  "metadata": {
    "colab": {
      "provenance": []
    },
    "kernelspec": {
      "name": "python3",
      "display_name": "Python 3"
    },
    "widgets": {
      "application/vnd.jupyter.widget-state+json": {
        "00f9ca4a17af441687e80a709536af63": {
          "model_module": "@jupyter-widgets/controls",
          "model_name": "HBoxModel",
          "model_module_version": "1.5.0",
          "state": {
            "_dom_classes": [],
            "_model_module": "@jupyter-widgets/controls",
            "_model_module_version": "1.5.0",
            "_model_name": "HBoxModel",
            "_view_count": null,
            "_view_module": "@jupyter-widgets/controls",
            "_view_module_version": "1.5.0",
            "_view_name": "HBoxView",
            "box_style": "",
            "children": [
              "IPY_MODEL_a14db67302444ef28e9fd84e91e6c749",
              "IPY_MODEL_c269e912be174f878c33213cb4efea4f",
              "IPY_MODEL_13bb4c865a02466fbf76b3165de97f5b"
            ],
            "layout": "IPY_MODEL_8ba77499f93d4e74b0103c4d45a5a453"
          }
        },
        "a14db67302444ef28e9fd84e91e6c749": {
          "model_module": "@jupyter-widgets/controls",
          "model_name": "HTMLModel",
          "model_module_version": "1.5.0",
          "state": {
            "_dom_classes": [],
            "_model_module": "@jupyter-widgets/controls",
            "_model_module_version": "1.5.0",
            "_model_name": "HTMLModel",
            "_view_count": null,
            "_view_module": "@jupyter-widgets/controls",
            "_view_module_version": "1.5.0",
            "_view_name": "HTMLView",
            "description": "",
            "description_tooltip": null,
            "layout": "IPY_MODEL_a9d93fd06a0247299756fb4248cdfc0a",
            "placeholder": "​",
            "style": "IPY_MODEL_24d3fced9ff742cb8771443fbe127b9d",
            "value": "pt.apply.query: 100%"
          }
        },
        "c269e912be174f878c33213cb4efea4f": {
          "model_module": "@jupyter-widgets/controls",
          "model_name": "FloatProgressModel",
          "model_module_version": "1.5.0",
          "state": {
            "_dom_classes": [],
            "_model_module": "@jupyter-widgets/controls",
            "_model_module_version": "1.5.0",
            "_model_name": "FloatProgressModel",
            "_view_count": null,
            "_view_module": "@jupyter-widgets/controls",
            "_view_module_version": "1.5.0",
            "_view_name": "ProgressView",
            "bar_style": "success",
            "description": "",
            "description_tooltip": null,
            "layout": "IPY_MODEL_2e4f6481ef344304b23e1a421c273cd1",
            "max": 75,
            "min": 0,
            "orientation": "horizontal",
            "style": "IPY_MODEL_8ff43487255942f3a10c39289bf8cd52",
            "value": 75
          }
        },
        "13bb4c865a02466fbf76b3165de97f5b": {
          "model_module": "@jupyter-widgets/controls",
          "model_name": "HTMLModel",
          "model_module_version": "1.5.0",
          "state": {
            "_dom_classes": [],
            "_model_module": "@jupyter-widgets/controls",
            "_model_module_version": "1.5.0",
            "_model_name": "HTMLModel",
            "_view_count": null,
            "_view_module": "@jupyter-widgets/controls",
            "_view_module_version": "1.5.0",
            "_view_name": "HTMLView",
            "description": "",
            "description_tooltip": null,
            "layout": "IPY_MODEL_14c122fb7a3b40b9a3ced4c99617b3bd",
            "placeholder": "​",
            "style": "IPY_MODEL_0c17ff7de35546ab97b0ae743ae5868d",
            "value": " 75/75 [00:12&lt;00:00,  7.03d/s]"
          }
        },
        "8ba77499f93d4e74b0103c4d45a5a453": {
          "model_module": "@jupyter-widgets/base",
          "model_name": "LayoutModel",
          "model_module_version": "1.2.0",
          "state": {
            "_model_module": "@jupyter-widgets/base",
            "_model_module_version": "1.2.0",
            "_model_name": "LayoutModel",
            "_view_count": null,
            "_view_module": "@jupyter-widgets/base",
            "_view_module_version": "1.2.0",
            "_view_name": "LayoutView",
            "align_content": null,
            "align_items": null,
            "align_self": null,
            "border": null,
            "bottom": null,
            "display": null,
            "flex": null,
            "flex_flow": null,
            "grid_area": null,
            "grid_auto_columns": null,
            "grid_auto_flow": null,
            "grid_auto_rows": null,
            "grid_column": null,
            "grid_gap": null,
            "grid_row": null,
            "grid_template_areas": null,
            "grid_template_columns": null,
            "grid_template_rows": null,
            "height": null,
            "justify_content": null,
            "justify_items": null,
            "left": null,
            "margin": null,
            "max_height": null,
            "max_width": null,
            "min_height": null,
            "min_width": null,
            "object_fit": null,
            "object_position": null,
            "order": null,
            "overflow": null,
            "overflow_x": null,
            "overflow_y": null,
            "padding": null,
            "right": null,
            "top": null,
            "visibility": null,
            "width": null
          }
        },
        "a9d93fd06a0247299756fb4248cdfc0a": {
          "model_module": "@jupyter-widgets/base",
          "model_name": "LayoutModel",
          "model_module_version": "1.2.0",
          "state": {
            "_model_module": "@jupyter-widgets/base",
            "_model_module_version": "1.2.0",
            "_model_name": "LayoutModel",
            "_view_count": null,
            "_view_module": "@jupyter-widgets/base",
            "_view_module_version": "1.2.0",
            "_view_name": "LayoutView",
            "align_content": null,
            "align_items": null,
            "align_self": null,
            "border": null,
            "bottom": null,
            "display": null,
            "flex": null,
            "flex_flow": null,
            "grid_area": null,
            "grid_auto_columns": null,
            "grid_auto_flow": null,
            "grid_auto_rows": null,
            "grid_column": null,
            "grid_gap": null,
            "grid_row": null,
            "grid_template_areas": null,
            "grid_template_columns": null,
            "grid_template_rows": null,
            "height": null,
            "justify_content": null,
            "justify_items": null,
            "left": null,
            "margin": null,
            "max_height": null,
            "max_width": null,
            "min_height": null,
            "min_width": null,
            "object_fit": null,
            "object_position": null,
            "order": null,
            "overflow": null,
            "overflow_x": null,
            "overflow_y": null,
            "padding": null,
            "right": null,
            "top": null,
            "visibility": null,
            "width": null
          }
        },
        "24d3fced9ff742cb8771443fbe127b9d": {
          "model_module": "@jupyter-widgets/controls",
          "model_name": "DescriptionStyleModel",
          "model_module_version": "1.5.0",
          "state": {
            "_model_module": "@jupyter-widgets/controls",
            "_model_module_version": "1.5.0",
            "_model_name": "DescriptionStyleModel",
            "_view_count": null,
            "_view_module": "@jupyter-widgets/base",
            "_view_module_version": "1.2.0",
            "_view_name": "StyleView",
            "description_width": ""
          }
        },
        "2e4f6481ef344304b23e1a421c273cd1": {
          "model_module": "@jupyter-widgets/base",
          "model_name": "LayoutModel",
          "model_module_version": "1.2.0",
          "state": {
            "_model_module": "@jupyter-widgets/base",
            "_model_module_version": "1.2.0",
            "_model_name": "LayoutModel",
            "_view_count": null,
            "_view_module": "@jupyter-widgets/base",
            "_view_module_version": "1.2.0",
            "_view_name": "LayoutView",
            "align_content": null,
            "align_items": null,
            "align_self": null,
            "border": null,
            "bottom": null,
            "display": null,
            "flex": null,
            "flex_flow": null,
            "grid_area": null,
            "grid_auto_columns": null,
            "grid_auto_flow": null,
            "grid_auto_rows": null,
            "grid_column": null,
            "grid_gap": null,
            "grid_row": null,
            "grid_template_areas": null,
            "grid_template_columns": null,
            "grid_template_rows": null,
            "height": null,
            "justify_content": null,
            "justify_items": null,
            "left": null,
            "margin": null,
            "max_height": null,
            "max_width": null,
            "min_height": null,
            "min_width": null,
            "object_fit": null,
            "object_position": null,
            "order": null,
            "overflow": null,
            "overflow_x": null,
            "overflow_y": null,
            "padding": null,
            "right": null,
            "top": null,
            "visibility": null,
            "width": null
          }
        },
        "8ff43487255942f3a10c39289bf8cd52": {
          "model_module": "@jupyter-widgets/controls",
          "model_name": "ProgressStyleModel",
          "model_module_version": "1.5.0",
          "state": {
            "_model_module": "@jupyter-widgets/controls",
            "_model_module_version": "1.5.0",
            "_model_name": "ProgressStyleModel",
            "_view_count": null,
            "_view_module": "@jupyter-widgets/base",
            "_view_module_version": "1.2.0",
            "_view_name": "StyleView",
            "bar_color": null,
            "description_width": ""
          }
        },
        "14c122fb7a3b40b9a3ced4c99617b3bd": {
          "model_module": "@jupyter-widgets/base",
          "model_name": "LayoutModel",
          "model_module_version": "1.2.0",
          "state": {
            "_model_module": "@jupyter-widgets/base",
            "_model_module_version": "1.2.0",
            "_model_name": "LayoutModel",
            "_view_count": null,
            "_view_module": "@jupyter-widgets/base",
            "_view_module_version": "1.2.0",
            "_view_name": "LayoutView",
            "align_content": null,
            "align_items": null,
            "align_self": null,
            "border": null,
            "bottom": null,
            "display": null,
            "flex": null,
            "flex_flow": null,
            "grid_area": null,
            "grid_auto_columns": null,
            "grid_auto_flow": null,
            "grid_auto_rows": null,
            "grid_column": null,
            "grid_gap": null,
            "grid_row": null,
            "grid_template_areas": null,
            "grid_template_columns": null,
            "grid_template_rows": null,
            "height": null,
            "justify_content": null,
            "justify_items": null,
            "left": null,
            "margin": null,
            "max_height": null,
            "max_width": null,
            "min_height": null,
            "min_width": null,
            "object_fit": null,
            "object_position": null,
            "order": null,
            "overflow": null,
            "overflow_x": null,
            "overflow_y": null,
            "padding": null,
            "right": null,
            "top": null,
            "visibility": null,
            "width": null
          }
        },
        "0c17ff7de35546ab97b0ae743ae5868d": {
          "model_module": "@jupyter-widgets/controls",
          "model_name": "DescriptionStyleModel",
          "model_module_version": "1.5.0",
          "state": {
            "_model_module": "@jupyter-widgets/controls",
            "_model_module_version": "1.5.0",
            "_model_name": "DescriptionStyleModel",
            "_view_count": null,
            "_view_module": "@jupyter-widgets/base",
            "_view_module_version": "1.2.0",
            "_view_name": "StyleView",
            "description_width": ""
          }
        },
        "35e15ef2951a40a28b826c36e3a65be2": {
          "model_module": "@jupyter-widgets/controls",
          "model_name": "HBoxModel",
          "model_module_version": "1.5.0",
          "state": {
            "_dom_classes": [],
            "_model_module": "@jupyter-widgets/controls",
            "_model_module_version": "1.5.0",
            "_model_name": "HBoxModel",
            "_view_count": null,
            "_view_module": "@jupyter-widgets/controls",
            "_view_module_version": "1.5.0",
            "_view_name": "HBoxView",
            "box_style": "",
            "children": [
              "IPY_MODEL_28aaa46cca694603b7e2eeb4cc81e41f",
              "IPY_MODEL_5ddbaf2240f34eb9ab27a3e201d07e4c",
              "IPY_MODEL_e7e8f8b699e74d538181ef06e7383c3e"
            ],
            "layout": "IPY_MODEL_bb3541b731c341219be8de82db664195"
          }
        },
        "28aaa46cca694603b7e2eeb4cc81e41f": {
          "model_module": "@jupyter-widgets/controls",
          "model_name": "HTMLModel",
          "model_module_version": "1.5.0",
          "state": {
            "_dom_classes": [],
            "_model_module": "@jupyter-widgets/controls",
            "_model_module_version": "1.5.0",
            "_model_name": "HTMLModel",
            "_view_count": null,
            "_view_module": "@jupyter-widgets/controls",
            "_view_module_version": "1.5.0",
            "_view_name": "HTMLView",
            "description": "",
            "description_tooltip": null,
            "layout": "IPY_MODEL_1580e970ce394ba99b2ad360bed62c27",
            "placeholder": "​",
            "style": "IPY_MODEL_a2dbc051ca66479c9af180d309b2ffcb",
            "value": "pt.apply.query: 100%"
          }
        },
        "5ddbaf2240f34eb9ab27a3e201d07e4c": {
          "model_module": "@jupyter-widgets/controls",
          "model_name": "FloatProgressModel",
          "model_module_version": "1.5.0",
          "state": {
            "_dom_classes": [],
            "_model_module": "@jupyter-widgets/controls",
            "_model_module_version": "1.5.0",
            "_model_name": "FloatProgressModel",
            "_view_count": null,
            "_view_module": "@jupyter-widgets/controls",
            "_view_module_version": "1.5.0",
            "_view_name": "ProgressView",
            "bar_style": "success",
            "description": "",
            "description_tooltip": null,
            "layout": "IPY_MODEL_fbe76af253d24b5a86222561e3e3d234",
            "max": 1,
            "min": 0,
            "orientation": "horizontal",
            "style": "IPY_MODEL_1a51eb0bf5684fe3969429f2018ed671",
            "value": 1
          }
        },
        "e7e8f8b699e74d538181ef06e7383c3e": {
          "model_module": "@jupyter-widgets/controls",
          "model_name": "HTMLModel",
          "model_module_version": "1.5.0",
          "state": {
            "_dom_classes": [],
            "_model_module": "@jupyter-widgets/controls",
            "_model_module_version": "1.5.0",
            "_model_name": "HTMLModel",
            "_view_count": null,
            "_view_module": "@jupyter-widgets/controls",
            "_view_module_version": "1.5.0",
            "_view_name": "HTMLView",
            "description": "",
            "description_tooltip": null,
            "layout": "IPY_MODEL_086fd066465b46a89a4669b81bf47205",
            "placeholder": "​",
            "style": "IPY_MODEL_f449bc072c4842a7a609dd4d0bce805e",
            "value": " 1/1 [00:00&lt;00:00,  9.67d/s]"
          }
        },
        "bb3541b731c341219be8de82db664195": {
          "model_module": "@jupyter-widgets/base",
          "model_name": "LayoutModel",
          "model_module_version": "1.2.0",
          "state": {
            "_model_module": "@jupyter-widgets/base",
            "_model_module_version": "1.2.0",
            "_model_name": "LayoutModel",
            "_view_count": null,
            "_view_module": "@jupyter-widgets/base",
            "_view_module_version": "1.2.0",
            "_view_name": "LayoutView",
            "align_content": null,
            "align_items": null,
            "align_self": null,
            "border": null,
            "bottom": null,
            "display": null,
            "flex": null,
            "flex_flow": null,
            "grid_area": null,
            "grid_auto_columns": null,
            "grid_auto_flow": null,
            "grid_auto_rows": null,
            "grid_column": null,
            "grid_gap": null,
            "grid_row": null,
            "grid_template_areas": null,
            "grid_template_columns": null,
            "grid_template_rows": null,
            "height": null,
            "justify_content": null,
            "justify_items": null,
            "left": null,
            "margin": null,
            "max_height": null,
            "max_width": null,
            "min_height": null,
            "min_width": null,
            "object_fit": null,
            "object_position": null,
            "order": null,
            "overflow": null,
            "overflow_x": null,
            "overflow_y": null,
            "padding": null,
            "right": null,
            "top": null,
            "visibility": null,
            "width": null
          }
        },
        "1580e970ce394ba99b2ad360bed62c27": {
          "model_module": "@jupyter-widgets/base",
          "model_name": "LayoutModel",
          "model_module_version": "1.2.0",
          "state": {
            "_model_module": "@jupyter-widgets/base",
            "_model_module_version": "1.2.0",
            "_model_name": "LayoutModel",
            "_view_count": null,
            "_view_module": "@jupyter-widgets/base",
            "_view_module_version": "1.2.0",
            "_view_name": "LayoutView",
            "align_content": null,
            "align_items": null,
            "align_self": null,
            "border": null,
            "bottom": null,
            "display": null,
            "flex": null,
            "flex_flow": null,
            "grid_area": null,
            "grid_auto_columns": null,
            "grid_auto_flow": null,
            "grid_auto_rows": null,
            "grid_column": null,
            "grid_gap": null,
            "grid_row": null,
            "grid_template_areas": null,
            "grid_template_columns": null,
            "grid_template_rows": null,
            "height": null,
            "justify_content": null,
            "justify_items": null,
            "left": null,
            "margin": null,
            "max_height": null,
            "max_width": null,
            "min_height": null,
            "min_width": null,
            "object_fit": null,
            "object_position": null,
            "order": null,
            "overflow": null,
            "overflow_x": null,
            "overflow_y": null,
            "padding": null,
            "right": null,
            "top": null,
            "visibility": null,
            "width": null
          }
        },
        "a2dbc051ca66479c9af180d309b2ffcb": {
          "model_module": "@jupyter-widgets/controls",
          "model_name": "DescriptionStyleModel",
          "model_module_version": "1.5.0",
          "state": {
            "_model_module": "@jupyter-widgets/controls",
            "_model_module_version": "1.5.0",
            "_model_name": "DescriptionStyleModel",
            "_view_count": null,
            "_view_module": "@jupyter-widgets/base",
            "_view_module_version": "1.2.0",
            "_view_name": "StyleView",
            "description_width": ""
          }
        },
        "fbe76af253d24b5a86222561e3e3d234": {
          "model_module": "@jupyter-widgets/base",
          "model_name": "LayoutModel",
          "model_module_version": "1.2.0",
          "state": {
            "_model_module": "@jupyter-widgets/base",
            "_model_module_version": "1.2.0",
            "_model_name": "LayoutModel",
            "_view_count": null,
            "_view_module": "@jupyter-widgets/base",
            "_view_module_version": "1.2.0",
            "_view_name": "LayoutView",
            "align_content": null,
            "align_items": null,
            "align_self": null,
            "border": null,
            "bottom": null,
            "display": null,
            "flex": null,
            "flex_flow": null,
            "grid_area": null,
            "grid_auto_columns": null,
            "grid_auto_flow": null,
            "grid_auto_rows": null,
            "grid_column": null,
            "grid_gap": null,
            "grid_row": null,
            "grid_template_areas": null,
            "grid_template_columns": null,
            "grid_template_rows": null,
            "height": null,
            "justify_content": null,
            "justify_items": null,
            "left": null,
            "margin": null,
            "max_height": null,
            "max_width": null,
            "min_height": null,
            "min_width": null,
            "object_fit": null,
            "object_position": null,
            "order": null,
            "overflow": null,
            "overflow_x": null,
            "overflow_y": null,
            "padding": null,
            "right": null,
            "top": null,
            "visibility": null,
            "width": null
          }
        },
        "1a51eb0bf5684fe3969429f2018ed671": {
          "model_module": "@jupyter-widgets/controls",
          "model_name": "ProgressStyleModel",
          "model_module_version": "1.5.0",
          "state": {
            "_model_module": "@jupyter-widgets/controls",
            "_model_module_version": "1.5.0",
            "_model_name": "ProgressStyleModel",
            "_view_count": null,
            "_view_module": "@jupyter-widgets/base",
            "_view_module_version": "1.2.0",
            "_view_name": "StyleView",
            "bar_color": null,
            "description_width": ""
          }
        },
        "086fd066465b46a89a4669b81bf47205": {
          "model_module": "@jupyter-widgets/base",
          "model_name": "LayoutModel",
          "model_module_version": "1.2.0",
          "state": {
            "_model_module": "@jupyter-widgets/base",
            "_model_module_version": "1.2.0",
            "_model_name": "LayoutModel",
            "_view_count": null,
            "_view_module": "@jupyter-widgets/base",
            "_view_module_version": "1.2.0",
            "_view_name": "LayoutView",
            "align_content": null,
            "align_items": null,
            "align_self": null,
            "border": null,
            "bottom": null,
            "display": null,
            "flex": null,
            "flex_flow": null,
            "grid_area": null,
            "grid_auto_columns": null,
            "grid_auto_flow": null,
            "grid_auto_rows": null,
            "grid_column": null,
            "grid_gap": null,
            "grid_row": null,
            "grid_template_areas": null,
            "grid_template_columns": null,
            "grid_template_rows": null,
            "height": null,
            "justify_content": null,
            "justify_items": null,
            "left": null,
            "margin": null,
            "max_height": null,
            "max_width": null,
            "min_height": null,
            "min_width": null,
            "object_fit": null,
            "object_position": null,
            "order": null,
            "overflow": null,
            "overflow_x": null,
            "overflow_y": null,
            "padding": null,
            "right": null,
            "top": null,
            "visibility": null,
            "width": null
          }
        },
        "f449bc072c4842a7a609dd4d0bce805e": {
          "model_module": "@jupyter-widgets/controls",
          "model_name": "DescriptionStyleModel",
          "model_module_version": "1.5.0",
          "state": {
            "_model_module": "@jupyter-widgets/controls",
            "_model_module_version": "1.5.0",
            "_model_name": "DescriptionStyleModel",
            "_view_count": null,
            "_view_module": "@jupyter-widgets/base",
            "_view_module_version": "1.2.0",
            "_view_name": "StyleView",
            "description_width": ""
          }
        },
        "0a62a3c3255047a99ef9d1e9d11eacaa": {
          "model_module": "@jupyter-widgets/controls",
          "model_name": "HBoxModel",
          "model_module_version": "1.5.0",
          "state": {
            "_dom_classes": [],
            "_model_module": "@jupyter-widgets/controls",
            "_model_module_version": "1.5.0",
            "_model_name": "HBoxModel",
            "_view_count": null,
            "_view_module": "@jupyter-widgets/controls",
            "_view_module_version": "1.5.0",
            "_view_name": "HBoxView",
            "box_style": "",
            "children": [
              "IPY_MODEL_f963ac7d02df48069e80d2885ed8386b",
              "IPY_MODEL_ff1d09536fc945dbad3005b46655e0d8",
              "IPY_MODEL_19b79b034f534f0ebe3d9b179e2aa9bb"
            ],
            "layout": "IPY_MODEL_11ace6bfd6b44bd3acff3df82d1c7647"
          }
        },
        "f963ac7d02df48069e80d2885ed8386b": {
          "model_module": "@jupyter-widgets/controls",
          "model_name": "HTMLModel",
          "model_module_version": "1.5.0",
          "state": {
            "_dom_classes": [],
            "_model_module": "@jupyter-widgets/controls",
            "_model_module_version": "1.5.0",
            "_model_name": "HTMLModel",
            "_view_count": null,
            "_view_module": "@jupyter-widgets/controls",
            "_view_module_version": "1.5.0",
            "_view_name": "HTMLView",
            "description": "",
            "description_tooltip": null,
            "layout": "IPY_MODEL_f0b1c003a8af447b9333f6fcc15488fd",
            "placeholder": "​",
            "style": "IPY_MODEL_43f2e25123e64fda96941b96fd06a3d7",
            "value": "pt.apply.query: 100%"
          }
        },
        "ff1d09536fc945dbad3005b46655e0d8": {
          "model_module": "@jupyter-widgets/controls",
          "model_name": "FloatProgressModel",
          "model_module_version": "1.5.0",
          "state": {
            "_dom_classes": [],
            "_model_module": "@jupyter-widgets/controls",
            "_model_module_version": "1.5.0",
            "_model_name": "FloatProgressModel",
            "_view_count": null,
            "_view_module": "@jupyter-widgets/controls",
            "_view_module_version": "1.5.0",
            "_view_name": "ProgressView",
            "bar_style": "success",
            "description": "",
            "description_tooltip": null,
            "layout": "IPY_MODEL_c3bb9a8fd65541bd8f08e1373adba1d0",
            "max": 1,
            "min": 0,
            "orientation": "horizontal",
            "style": "IPY_MODEL_9dda7c0d66c94a5db9f9d94eee10bfab",
            "value": 1
          }
        },
        "19b79b034f534f0ebe3d9b179e2aa9bb": {
          "model_module": "@jupyter-widgets/controls",
          "model_name": "HTMLModel",
          "model_module_version": "1.5.0",
          "state": {
            "_dom_classes": [],
            "_model_module": "@jupyter-widgets/controls",
            "_model_module_version": "1.5.0",
            "_model_name": "HTMLModel",
            "_view_count": null,
            "_view_module": "@jupyter-widgets/controls",
            "_view_module_version": "1.5.0",
            "_view_name": "HTMLView",
            "description": "",
            "description_tooltip": null,
            "layout": "IPY_MODEL_08f02f95c3d848a0abaa3100350746f6",
            "placeholder": "​",
            "style": "IPY_MODEL_57c9d1df00714d5f8bc68c9585ab2cdb",
            "value": " 1/1 [00:00&lt;00:00,  4.24d/s]"
          }
        },
        "11ace6bfd6b44bd3acff3df82d1c7647": {
          "model_module": "@jupyter-widgets/base",
          "model_name": "LayoutModel",
          "model_module_version": "1.2.0",
          "state": {
            "_model_module": "@jupyter-widgets/base",
            "_model_module_version": "1.2.0",
            "_model_name": "LayoutModel",
            "_view_count": null,
            "_view_module": "@jupyter-widgets/base",
            "_view_module_version": "1.2.0",
            "_view_name": "LayoutView",
            "align_content": null,
            "align_items": null,
            "align_self": null,
            "border": null,
            "bottom": null,
            "display": null,
            "flex": null,
            "flex_flow": null,
            "grid_area": null,
            "grid_auto_columns": null,
            "grid_auto_flow": null,
            "grid_auto_rows": null,
            "grid_column": null,
            "grid_gap": null,
            "grid_row": null,
            "grid_template_areas": null,
            "grid_template_columns": null,
            "grid_template_rows": null,
            "height": null,
            "justify_content": null,
            "justify_items": null,
            "left": null,
            "margin": null,
            "max_height": null,
            "max_width": null,
            "min_height": null,
            "min_width": null,
            "object_fit": null,
            "object_position": null,
            "order": null,
            "overflow": null,
            "overflow_x": null,
            "overflow_y": null,
            "padding": null,
            "right": null,
            "top": null,
            "visibility": null,
            "width": null
          }
        },
        "f0b1c003a8af447b9333f6fcc15488fd": {
          "model_module": "@jupyter-widgets/base",
          "model_name": "LayoutModel",
          "model_module_version": "1.2.0",
          "state": {
            "_model_module": "@jupyter-widgets/base",
            "_model_module_version": "1.2.0",
            "_model_name": "LayoutModel",
            "_view_count": null,
            "_view_module": "@jupyter-widgets/base",
            "_view_module_version": "1.2.0",
            "_view_name": "LayoutView",
            "align_content": null,
            "align_items": null,
            "align_self": null,
            "border": null,
            "bottom": null,
            "display": null,
            "flex": null,
            "flex_flow": null,
            "grid_area": null,
            "grid_auto_columns": null,
            "grid_auto_flow": null,
            "grid_auto_rows": null,
            "grid_column": null,
            "grid_gap": null,
            "grid_row": null,
            "grid_template_areas": null,
            "grid_template_columns": null,
            "grid_template_rows": null,
            "height": null,
            "justify_content": null,
            "justify_items": null,
            "left": null,
            "margin": null,
            "max_height": null,
            "max_width": null,
            "min_height": null,
            "min_width": null,
            "object_fit": null,
            "object_position": null,
            "order": null,
            "overflow": null,
            "overflow_x": null,
            "overflow_y": null,
            "padding": null,
            "right": null,
            "top": null,
            "visibility": null,
            "width": null
          }
        },
        "43f2e25123e64fda96941b96fd06a3d7": {
          "model_module": "@jupyter-widgets/controls",
          "model_name": "DescriptionStyleModel",
          "model_module_version": "1.5.0",
          "state": {
            "_model_module": "@jupyter-widgets/controls",
            "_model_module_version": "1.5.0",
            "_model_name": "DescriptionStyleModel",
            "_view_count": null,
            "_view_module": "@jupyter-widgets/base",
            "_view_module_version": "1.2.0",
            "_view_name": "StyleView",
            "description_width": ""
          }
        },
        "c3bb9a8fd65541bd8f08e1373adba1d0": {
          "model_module": "@jupyter-widgets/base",
          "model_name": "LayoutModel",
          "model_module_version": "1.2.0",
          "state": {
            "_model_module": "@jupyter-widgets/base",
            "_model_module_version": "1.2.0",
            "_model_name": "LayoutModel",
            "_view_count": null,
            "_view_module": "@jupyter-widgets/base",
            "_view_module_version": "1.2.0",
            "_view_name": "LayoutView",
            "align_content": null,
            "align_items": null,
            "align_self": null,
            "border": null,
            "bottom": null,
            "display": null,
            "flex": null,
            "flex_flow": null,
            "grid_area": null,
            "grid_auto_columns": null,
            "grid_auto_flow": null,
            "grid_auto_rows": null,
            "grid_column": null,
            "grid_gap": null,
            "grid_row": null,
            "grid_template_areas": null,
            "grid_template_columns": null,
            "grid_template_rows": null,
            "height": null,
            "justify_content": null,
            "justify_items": null,
            "left": null,
            "margin": null,
            "max_height": null,
            "max_width": null,
            "min_height": null,
            "min_width": null,
            "object_fit": null,
            "object_position": null,
            "order": null,
            "overflow": null,
            "overflow_x": null,
            "overflow_y": null,
            "padding": null,
            "right": null,
            "top": null,
            "visibility": null,
            "width": null
          }
        },
        "9dda7c0d66c94a5db9f9d94eee10bfab": {
          "model_module": "@jupyter-widgets/controls",
          "model_name": "ProgressStyleModel",
          "model_module_version": "1.5.0",
          "state": {
            "_model_module": "@jupyter-widgets/controls",
            "_model_module_version": "1.5.0",
            "_model_name": "ProgressStyleModel",
            "_view_count": null,
            "_view_module": "@jupyter-widgets/base",
            "_view_module_version": "1.2.0",
            "_view_name": "StyleView",
            "bar_color": null,
            "description_width": ""
          }
        },
        "08f02f95c3d848a0abaa3100350746f6": {
          "model_module": "@jupyter-widgets/base",
          "model_name": "LayoutModel",
          "model_module_version": "1.2.0",
          "state": {
            "_model_module": "@jupyter-widgets/base",
            "_model_module_version": "1.2.0",
            "_model_name": "LayoutModel",
            "_view_count": null,
            "_view_module": "@jupyter-widgets/base",
            "_view_module_version": "1.2.0",
            "_view_name": "LayoutView",
            "align_content": null,
            "align_items": null,
            "align_self": null,
            "border": null,
            "bottom": null,
            "display": null,
            "flex": null,
            "flex_flow": null,
            "grid_area": null,
            "grid_auto_columns": null,
            "grid_auto_flow": null,
            "grid_auto_rows": null,
            "grid_column": null,
            "grid_gap": null,
            "grid_row": null,
            "grid_template_areas": null,
            "grid_template_columns": null,
            "grid_template_rows": null,
            "height": null,
            "justify_content": null,
            "justify_items": null,
            "left": null,
            "margin": null,
            "max_height": null,
            "max_width": null,
            "min_height": null,
            "min_width": null,
            "object_fit": null,
            "object_position": null,
            "order": null,
            "overflow": null,
            "overflow_x": null,
            "overflow_y": null,
            "padding": null,
            "right": null,
            "top": null,
            "visibility": null,
            "width": null
          }
        },
        "57c9d1df00714d5f8bc68c9585ab2cdb": {
          "model_module": "@jupyter-widgets/controls",
          "model_name": "DescriptionStyleModel",
          "model_module_version": "1.5.0",
          "state": {
            "_model_module": "@jupyter-widgets/controls",
            "_model_module_version": "1.5.0",
            "_model_name": "DescriptionStyleModel",
            "_view_count": null,
            "_view_module": "@jupyter-widgets/base",
            "_view_module_version": "1.2.0",
            "_view_name": "StyleView",
            "description_width": ""
          }
        },
        "21ff31e4da7640a09101bb4498e90d56": {
          "model_module": "@jupyter-widgets/controls",
          "model_name": "HBoxModel",
          "model_module_version": "1.5.0",
          "state": {
            "_dom_classes": [],
            "_model_module": "@jupyter-widgets/controls",
            "_model_module_version": "1.5.0",
            "_model_name": "HBoxModel",
            "_view_count": null,
            "_view_module": "@jupyter-widgets/controls",
            "_view_module_version": "1.5.0",
            "_view_name": "HBoxView",
            "box_style": "",
            "children": [
              "IPY_MODEL_c9c06bdf1b274910a1bf9b32b6f8f285",
              "IPY_MODEL_535da8abc3db4613b20af4537a097beb",
              "IPY_MODEL_d092246be73141fcb59be90d96e9da87"
            ],
            "layout": "IPY_MODEL_50cc4b1ee092458c8b00b76bc412116e"
          }
        },
        "c9c06bdf1b274910a1bf9b32b6f8f285": {
          "model_module": "@jupyter-widgets/controls",
          "model_name": "HTMLModel",
          "model_module_version": "1.5.0",
          "state": {
            "_dom_classes": [],
            "_model_module": "@jupyter-widgets/controls",
            "_model_module_version": "1.5.0",
            "_model_name": "HTMLModel",
            "_view_count": null,
            "_view_module": "@jupyter-widgets/controls",
            "_view_module_version": "1.5.0",
            "_view_name": "HTMLView",
            "description": "",
            "description_tooltip": null,
            "layout": "IPY_MODEL_9e4428a296ff4aaa9d00876dfb5dd686",
            "placeholder": "​",
            "style": "IPY_MODEL_bd60a93131ea4a8bb02b6ee9f1df9dc8",
            "value": "pt.apply.query: 100%"
          }
        },
        "535da8abc3db4613b20af4537a097beb": {
          "model_module": "@jupyter-widgets/controls",
          "model_name": "FloatProgressModel",
          "model_module_version": "1.5.0",
          "state": {
            "_dom_classes": [],
            "_model_module": "@jupyter-widgets/controls",
            "_model_module_version": "1.5.0",
            "_model_name": "FloatProgressModel",
            "_view_count": null,
            "_view_module": "@jupyter-widgets/controls",
            "_view_module_version": "1.5.0",
            "_view_name": "ProgressView",
            "bar_style": "success",
            "description": "",
            "description_tooltip": null,
            "layout": "IPY_MODEL_f852a5c8c18b446f8b2e09d98e056ade",
            "max": 1,
            "min": 0,
            "orientation": "horizontal",
            "style": "IPY_MODEL_53b73c012ddd4030946897a7e8dbbea9",
            "value": 1
          }
        },
        "d092246be73141fcb59be90d96e9da87": {
          "model_module": "@jupyter-widgets/controls",
          "model_name": "HTMLModel",
          "model_module_version": "1.5.0",
          "state": {
            "_dom_classes": [],
            "_model_module": "@jupyter-widgets/controls",
            "_model_module_version": "1.5.0",
            "_model_name": "HTMLModel",
            "_view_count": null,
            "_view_module": "@jupyter-widgets/controls",
            "_view_module_version": "1.5.0",
            "_view_name": "HTMLView",
            "description": "",
            "description_tooltip": null,
            "layout": "IPY_MODEL_c25cd13e21f1443bb112e6b138914d56",
            "placeholder": "​",
            "style": "IPY_MODEL_e4fb15f91f4b4c5a94cf0c609e3c35c8",
            "value": " 1/1 [00:00&lt;00:00,  4.31d/s]"
          }
        },
        "50cc4b1ee092458c8b00b76bc412116e": {
          "model_module": "@jupyter-widgets/base",
          "model_name": "LayoutModel",
          "model_module_version": "1.2.0",
          "state": {
            "_model_module": "@jupyter-widgets/base",
            "_model_module_version": "1.2.0",
            "_model_name": "LayoutModel",
            "_view_count": null,
            "_view_module": "@jupyter-widgets/base",
            "_view_module_version": "1.2.0",
            "_view_name": "LayoutView",
            "align_content": null,
            "align_items": null,
            "align_self": null,
            "border": null,
            "bottom": null,
            "display": null,
            "flex": null,
            "flex_flow": null,
            "grid_area": null,
            "grid_auto_columns": null,
            "grid_auto_flow": null,
            "grid_auto_rows": null,
            "grid_column": null,
            "grid_gap": null,
            "grid_row": null,
            "grid_template_areas": null,
            "grid_template_columns": null,
            "grid_template_rows": null,
            "height": null,
            "justify_content": null,
            "justify_items": null,
            "left": null,
            "margin": null,
            "max_height": null,
            "max_width": null,
            "min_height": null,
            "min_width": null,
            "object_fit": null,
            "object_position": null,
            "order": null,
            "overflow": null,
            "overflow_x": null,
            "overflow_y": null,
            "padding": null,
            "right": null,
            "top": null,
            "visibility": null,
            "width": null
          }
        },
        "9e4428a296ff4aaa9d00876dfb5dd686": {
          "model_module": "@jupyter-widgets/base",
          "model_name": "LayoutModel",
          "model_module_version": "1.2.0",
          "state": {
            "_model_module": "@jupyter-widgets/base",
            "_model_module_version": "1.2.0",
            "_model_name": "LayoutModel",
            "_view_count": null,
            "_view_module": "@jupyter-widgets/base",
            "_view_module_version": "1.2.0",
            "_view_name": "LayoutView",
            "align_content": null,
            "align_items": null,
            "align_self": null,
            "border": null,
            "bottom": null,
            "display": null,
            "flex": null,
            "flex_flow": null,
            "grid_area": null,
            "grid_auto_columns": null,
            "grid_auto_flow": null,
            "grid_auto_rows": null,
            "grid_column": null,
            "grid_gap": null,
            "grid_row": null,
            "grid_template_areas": null,
            "grid_template_columns": null,
            "grid_template_rows": null,
            "height": null,
            "justify_content": null,
            "justify_items": null,
            "left": null,
            "margin": null,
            "max_height": null,
            "max_width": null,
            "min_height": null,
            "min_width": null,
            "object_fit": null,
            "object_position": null,
            "order": null,
            "overflow": null,
            "overflow_x": null,
            "overflow_y": null,
            "padding": null,
            "right": null,
            "top": null,
            "visibility": null,
            "width": null
          }
        },
        "bd60a93131ea4a8bb02b6ee9f1df9dc8": {
          "model_module": "@jupyter-widgets/controls",
          "model_name": "DescriptionStyleModel",
          "model_module_version": "1.5.0",
          "state": {
            "_model_module": "@jupyter-widgets/controls",
            "_model_module_version": "1.5.0",
            "_model_name": "DescriptionStyleModel",
            "_view_count": null,
            "_view_module": "@jupyter-widgets/base",
            "_view_module_version": "1.2.0",
            "_view_name": "StyleView",
            "description_width": ""
          }
        },
        "f852a5c8c18b446f8b2e09d98e056ade": {
          "model_module": "@jupyter-widgets/base",
          "model_name": "LayoutModel",
          "model_module_version": "1.2.0",
          "state": {
            "_model_module": "@jupyter-widgets/base",
            "_model_module_version": "1.2.0",
            "_model_name": "LayoutModel",
            "_view_count": null,
            "_view_module": "@jupyter-widgets/base",
            "_view_module_version": "1.2.0",
            "_view_name": "LayoutView",
            "align_content": null,
            "align_items": null,
            "align_self": null,
            "border": null,
            "bottom": null,
            "display": null,
            "flex": null,
            "flex_flow": null,
            "grid_area": null,
            "grid_auto_columns": null,
            "grid_auto_flow": null,
            "grid_auto_rows": null,
            "grid_column": null,
            "grid_gap": null,
            "grid_row": null,
            "grid_template_areas": null,
            "grid_template_columns": null,
            "grid_template_rows": null,
            "height": null,
            "justify_content": null,
            "justify_items": null,
            "left": null,
            "margin": null,
            "max_height": null,
            "max_width": null,
            "min_height": null,
            "min_width": null,
            "object_fit": null,
            "object_position": null,
            "order": null,
            "overflow": null,
            "overflow_x": null,
            "overflow_y": null,
            "padding": null,
            "right": null,
            "top": null,
            "visibility": null,
            "width": null
          }
        },
        "53b73c012ddd4030946897a7e8dbbea9": {
          "model_module": "@jupyter-widgets/controls",
          "model_name": "ProgressStyleModel",
          "model_module_version": "1.5.0",
          "state": {
            "_model_module": "@jupyter-widgets/controls",
            "_model_module_version": "1.5.0",
            "_model_name": "ProgressStyleModel",
            "_view_count": null,
            "_view_module": "@jupyter-widgets/base",
            "_view_module_version": "1.2.0",
            "_view_name": "StyleView",
            "bar_color": null,
            "description_width": ""
          }
        },
        "c25cd13e21f1443bb112e6b138914d56": {
          "model_module": "@jupyter-widgets/base",
          "model_name": "LayoutModel",
          "model_module_version": "1.2.0",
          "state": {
            "_model_module": "@jupyter-widgets/base",
            "_model_module_version": "1.2.0",
            "_model_name": "LayoutModel",
            "_view_count": null,
            "_view_module": "@jupyter-widgets/base",
            "_view_module_version": "1.2.0",
            "_view_name": "LayoutView",
            "align_content": null,
            "align_items": null,
            "align_self": null,
            "border": null,
            "bottom": null,
            "display": null,
            "flex": null,
            "flex_flow": null,
            "grid_area": null,
            "grid_auto_columns": null,
            "grid_auto_flow": null,
            "grid_auto_rows": null,
            "grid_column": null,
            "grid_gap": null,
            "grid_row": null,
            "grid_template_areas": null,
            "grid_template_columns": null,
            "grid_template_rows": null,
            "height": null,
            "justify_content": null,
            "justify_items": null,
            "left": null,
            "margin": null,
            "max_height": null,
            "max_width": null,
            "min_height": null,
            "min_width": null,
            "object_fit": null,
            "object_position": null,
            "order": null,
            "overflow": null,
            "overflow_x": null,
            "overflow_y": null,
            "padding": null,
            "right": null,
            "top": null,
            "visibility": null,
            "width": null
          }
        },
        "e4fb15f91f4b4c5a94cf0c609e3c35c8": {
          "model_module": "@jupyter-widgets/controls",
          "model_name": "DescriptionStyleModel",
          "model_module_version": "1.5.0",
          "state": {
            "_model_module": "@jupyter-widgets/controls",
            "_model_module_version": "1.5.0",
            "_model_name": "DescriptionStyleModel",
            "_view_count": null,
            "_view_module": "@jupyter-widgets/base",
            "_view_module_version": "1.2.0",
            "_view_name": "StyleView",
            "description_width": ""
          }
        },
        "64747508161f427f8c9f660b642f0557": {
          "model_module": "@jupyter-widgets/controls",
          "model_name": "HBoxModel",
          "model_module_version": "1.5.0",
          "state": {
            "_dom_classes": [],
            "_model_module": "@jupyter-widgets/controls",
            "_model_module_version": "1.5.0",
            "_model_name": "HBoxModel",
            "_view_count": null,
            "_view_module": "@jupyter-widgets/controls",
            "_view_module_version": "1.5.0",
            "_view_name": "HBoxView",
            "box_style": "",
            "children": [
              "IPY_MODEL_3ac9eeae777e4c6a9af054d9845b4cb5",
              "IPY_MODEL_b4a7e09be9e04833bfbd4eb6bc0321da",
              "IPY_MODEL_42f387c6971c4ff9bb1e94cc72be0eea"
            ],
            "layout": "IPY_MODEL_faf1ae41b9a14a188897b1b77bebac1b"
          }
        },
        "3ac9eeae777e4c6a9af054d9845b4cb5": {
          "model_module": "@jupyter-widgets/controls",
          "model_name": "HTMLModel",
          "model_module_version": "1.5.0",
          "state": {
            "_dom_classes": [],
            "_model_module": "@jupyter-widgets/controls",
            "_model_module_version": "1.5.0",
            "_model_name": "HTMLModel",
            "_view_count": null,
            "_view_module": "@jupyter-widgets/controls",
            "_view_module_version": "1.5.0",
            "_view_name": "HTMLView",
            "description": "",
            "description_tooltip": null,
            "layout": "IPY_MODEL_a545fb83fc3c41ff98b0806d13b36423",
            "placeholder": "​",
            "style": "IPY_MODEL_c454569e765540349727c970f0792711",
            "value": "pt.apply.query: 100%"
          }
        },
        "b4a7e09be9e04833bfbd4eb6bc0321da": {
          "model_module": "@jupyter-widgets/controls",
          "model_name": "FloatProgressModel",
          "model_module_version": "1.5.0",
          "state": {
            "_dom_classes": [],
            "_model_module": "@jupyter-widgets/controls",
            "_model_module_version": "1.5.0",
            "_model_name": "FloatProgressModel",
            "_view_count": null,
            "_view_module": "@jupyter-widgets/controls",
            "_view_module_version": "1.5.0",
            "_view_name": "ProgressView",
            "bar_style": "success",
            "description": "",
            "description_tooltip": null,
            "layout": "IPY_MODEL_4a1b99ce9761477a95057017e89b7797",
            "max": 1,
            "min": 0,
            "orientation": "horizontal",
            "style": "IPY_MODEL_f1edd503f2f84ec3963caf5df01c9ae2",
            "value": 1
          }
        },
        "42f387c6971c4ff9bb1e94cc72be0eea": {
          "model_module": "@jupyter-widgets/controls",
          "model_name": "HTMLModel",
          "model_module_version": "1.5.0",
          "state": {
            "_dom_classes": [],
            "_model_module": "@jupyter-widgets/controls",
            "_model_module_version": "1.5.0",
            "_model_name": "HTMLModel",
            "_view_count": null,
            "_view_module": "@jupyter-widgets/controls",
            "_view_module_version": "1.5.0",
            "_view_name": "HTMLView",
            "description": "",
            "description_tooltip": null,
            "layout": "IPY_MODEL_102280bb10f5434f9f771f7e8029b347",
            "placeholder": "​",
            "style": "IPY_MODEL_157a79a430fd4b55ae296e9b2213a4c9",
            "value": " 1/1 [00:00&lt;00:00,  5.51d/s]"
          }
        },
        "faf1ae41b9a14a188897b1b77bebac1b": {
          "model_module": "@jupyter-widgets/base",
          "model_name": "LayoutModel",
          "model_module_version": "1.2.0",
          "state": {
            "_model_module": "@jupyter-widgets/base",
            "_model_module_version": "1.2.0",
            "_model_name": "LayoutModel",
            "_view_count": null,
            "_view_module": "@jupyter-widgets/base",
            "_view_module_version": "1.2.0",
            "_view_name": "LayoutView",
            "align_content": null,
            "align_items": null,
            "align_self": null,
            "border": null,
            "bottom": null,
            "display": null,
            "flex": null,
            "flex_flow": null,
            "grid_area": null,
            "grid_auto_columns": null,
            "grid_auto_flow": null,
            "grid_auto_rows": null,
            "grid_column": null,
            "grid_gap": null,
            "grid_row": null,
            "grid_template_areas": null,
            "grid_template_columns": null,
            "grid_template_rows": null,
            "height": null,
            "justify_content": null,
            "justify_items": null,
            "left": null,
            "margin": null,
            "max_height": null,
            "max_width": null,
            "min_height": null,
            "min_width": null,
            "object_fit": null,
            "object_position": null,
            "order": null,
            "overflow": null,
            "overflow_x": null,
            "overflow_y": null,
            "padding": null,
            "right": null,
            "top": null,
            "visibility": null,
            "width": null
          }
        },
        "a545fb83fc3c41ff98b0806d13b36423": {
          "model_module": "@jupyter-widgets/base",
          "model_name": "LayoutModel",
          "model_module_version": "1.2.0",
          "state": {
            "_model_module": "@jupyter-widgets/base",
            "_model_module_version": "1.2.0",
            "_model_name": "LayoutModel",
            "_view_count": null,
            "_view_module": "@jupyter-widgets/base",
            "_view_module_version": "1.2.0",
            "_view_name": "LayoutView",
            "align_content": null,
            "align_items": null,
            "align_self": null,
            "border": null,
            "bottom": null,
            "display": null,
            "flex": null,
            "flex_flow": null,
            "grid_area": null,
            "grid_auto_columns": null,
            "grid_auto_flow": null,
            "grid_auto_rows": null,
            "grid_column": null,
            "grid_gap": null,
            "grid_row": null,
            "grid_template_areas": null,
            "grid_template_columns": null,
            "grid_template_rows": null,
            "height": null,
            "justify_content": null,
            "justify_items": null,
            "left": null,
            "margin": null,
            "max_height": null,
            "max_width": null,
            "min_height": null,
            "min_width": null,
            "object_fit": null,
            "object_position": null,
            "order": null,
            "overflow": null,
            "overflow_x": null,
            "overflow_y": null,
            "padding": null,
            "right": null,
            "top": null,
            "visibility": null,
            "width": null
          }
        },
        "c454569e765540349727c970f0792711": {
          "model_module": "@jupyter-widgets/controls",
          "model_name": "DescriptionStyleModel",
          "model_module_version": "1.5.0",
          "state": {
            "_model_module": "@jupyter-widgets/controls",
            "_model_module_version": "1.5.0",
            "_model_name": "DescriptionStyleModel",
            "_view_count": null,
            "_view_module": "@jupyter-widgets/base",
            "_view_module_version": "1.2.0",
            "_view_name": "StyleView",
            "description_width": ""
          }
        },
        "4a1b99ce9761477a95057017e89b7797": {
          "model_module": "@jupyter-widgets/base",
          "model_name": "LayoutModel",
          "model_module_version": "1.2.0",
          "state": {
            "_model_module": "@jupyter-widgets/base",
            "_model_module_version": "1.2.0",
            "_model_name": "LayoutModel",
            "_view_count": null,
            "_view_module": "@jupyter-widgets/base",
            "_view_module_version": "1.2.0",
            "_view_name": "LayoutView",
            "align_content": null,
            "align_items": null,
            "align_self": null,
            "border": null,
            "bottom": null,
            "display": null,
            "flex": null,
            "flex_flow": null,
            "grid_area": null,
            "grid_auto_columns": null,
            "grid_auto_flow": null,
            "grid_auto_rows": null,
            "grid_column": null,
            "grid_gap": null,
            "grid_row": null,
            "grid_template_areas": null,
            "grid_template_columns": null,
            "grid_template_rows": null,
            "height": null,
            "justify_content": null,
            "justify_items": null,
            "left": null,
            "margin": null,
            "max_height": null,
            "max_width": null,
            "min_height": null,
            "min_width": null,
            "object_fit": null,
            "object_position": null,
            "order": null,
            "overflow": null,
            "overflow_x": null,
            "overflow_y": null,
            "padding": null,
            "right": null,
            "top": null,
            "visibility": null,
            "width": null
          }
        },
        "f1edd503f2f84ec3963caf5df01c9ae2": {
          "model_module": "@jupyter-widgets/controls",
          "model_name": "ProgressStyleModel",
          "model_module_version": "1.5.0",
          "state": {
            "_model_module": "@jupyter-widgets/controls",
            "_model_module_version": "1.5.0",
            "_model_name": "ProgressStyleModel",
            "_view_count": null,
            "_view_module": "@jupyter-widgets/base",
            "_view_module_version": "1.2.0",
            "_view_name": "StyleView",
            "bar_color": null,
            "description_width": ""
          }
        },
        "102280bb10f5434f9f771f7e8029b347": {
          "model_module": "@jupyter-widgets/base",
          "model_name": "LayoutModel",
          "model_module_version": "1.2.0",
          "state": {
            "_model_module": "@jupyter-widgets/base",
            "_model_module_version": "1.2.0",
            "_model_name": "LayoutModel",
            "_view_count": null,
            "_view_module": "@jupyter-widgets/base",
            "_view_module_version": "1.2.0",
            "_view_name": "LayoutView",
            "align_content": null,
            "align_items": null,
            "align_self": null,
            "border": null,
            "bottom": null,
            "display": null,
            "flex": null,
            "flex_flow": null,
            "grid_area": null,
            "grid_auto_columns": null,
            "grid_auto_flow": null,
            "grid_auto_rows": null,
            "grid_column": null,
            "grid_gap": null,
            "grid_row": null,
            "grid_template_areas": null,
            "grid_template_columns": null,
            "grid_template_rows": null,
            "height": null,
            "justify_content": null,
            "justify_items": null,
            "left": null,
            "margin": null,
            "max_height": null,
            "max_width": null,
            "min_height": null,
            "min_width": null,
            "object_fit": null,
            "object_position": null,
            "order": null,
            "overflow": null,
            "overflow_x": null,
            "overflow_y": null,
            "padding": null,
            "right": null,
            "top": null,
            "visibility": null,
            "width": null
          }
        },
        "157a79a430fd4b55ae296e9b2213a4c9": {
          "model_module": "@jupyter-widgets/controls",
          "model_name": "DescriptionStyleModel",
          "model_module_version": "1.5.0",
          "state": {
            "_model_module": "@jupyter-widgets/controls",
            "_model_module_version": "1.5.0",
            "_model_name": "DescriptionStyleModel",
            "_view_count": null,
            "_view_module": "@jupyter-widgets/base",
            "_view_module_version": "1.2.0",
            "_view_name": "StyleView",
            "description_width": ""
          }
        },
        "7f5b2c28ee3c4a6ab861e163281f1efd": {
          "model_module": "@jupyter-widgets/controls",
          "model_name": "HBoxModel",
          "model_module_version": "1.5.0",
          "state": {
            "_dom_classes": [],
            "_model_module": "@jupyter-widgets/controls",
            "_model_module_version": "1.5.0",
            "_model_name": "HBoxModel",
            "_view_count": null,
            "_view_module": "@jupyter-widgets/controls",
            "_view_module_version": "1.5.0",
            "_view_name": "HBoxView",
            "box_style": "",
            "children": [
              "IPY_MODEL_db3552cdefd94c0a9fda060891746cec",
              "IPY_MODEL_541fc3c58cec4ce88be3226c9181d27d",
              "IPY_MODEL_a5352004b001489f9f0fa783725a4aaf"
            ],
            "layout": "IPY_MODEL_ae6b33edfb15470889855c3f71da0937"
          }
        },
        "db3552cdefd94c0a9fda060891746cec": {
          "model_module": "@jupyter-widgets/controls",
          "model_name": "HTMLModel",
          "model_module_version": "1.5.0",
          "state": {
            "_dom_classes": [],
            "_model_module": "@jupyter-widgets/controls",
            "_model_module_version": "1.5.0",
            "_model_name": "HTMLModel",
            "_view_count": null,
            "_view_module": "@jupyter-widgets/controls",
            "_view_module_version": "1.5.0",
            "_view_name": "HTMLView",
            "description": "",
            "description_tooltip": null,
            "layout": "IPY_MODEL_ffb23c64890b4f4196c95d94bb3ef981",
            "placeholder": "​",
            "style": "IPY_MODEL_7e73c526612a42e8940450b5796cd980",
            "value": "pt.apply.query: 100%"
          }
        },
        "541fc3c58cec4ce88be3226c9181d27d": {
          "model_module": "@jupyter-widgets/controls",
          "model_name": "FloatProgressModel",
          "model_module_version": "1.5.0",
          "state": {
            "_dom_classes": [],
            "_model_module": "@jupyter-widgets/controls",
            "_model_module_version": "1.5.0",
            "_model_name": "FloatProgressModel",
            "_view_count": null,
            "_view_module": "@jupyter-widgets/controls",
            "_view_module_version": "1.5.0",
            "_view_name": "ProgressView",
            "bar_style": "success",
            "description": "",
            "description_tooltip": null,
            "layout": "IPY_MODEL_f60c2f88869c44759d369d852c58a044",
            "max": 1,
            "min": 0,
            "orientation": "horizontal",
            "style": "IPY_MODEL_6a503ade787c4ba5b5208c449551bf91",
            "value": 1
          }
        },
        "a5352004b001489f9f0fa783725a4aaf": {
          "model_module": "@jupyter-widgets/controls",
          "model_name": "HTMLModel",
          "model_module_version": "1.5.0",
          "state": {
            "_dom_classes": [],
            "_model_module": "@jupyter-widgets/controls",
            "_model_module_version": "1.5.0",
            "_model_name": "HTMLModel",
            "_view_count": null,
            "_view_module": "@jupyter-widgets/controls",
            "_view_module_version": "1.5.0",
            "_view_name": "HTMLView",
            "description": "",
            "description_tooltip": null,
            "layout": "IPY_MODEL_bfff4adfbf7c459fbf4ba7675bf85677",
            "placeholder": "​",
            "style": "IPY_MODEL_5ac60a7d1bb44239be4e6159fdcab10a",
            "value": " 1/1 [00:00&lt;00:00,  9.14d/s]"
          }
        },
        "ae6b33edfb15470889855c3f71da0937": {
          "model_module": "@jupyter-widgets/base",
          "model_name": "LayoutModel",
          "model_module_version": "1.2.0",
          "state": {
            "_model_module": "@jupyter-widgets/base",
            "_model_module_version": "1.2.0",
            "_model_name": "LayoutModel",
            "_view_count": null,
            "_view_module": "@jupyter-widgets/base",
            "_view_module_version": "1.2.0",
            "_view_name": "LayoutView",
            "align_content": null,
            "align_items": null,
            "align_self": null,
            "border": null,
            "bottom": null,
            "display": null,
            "flex": null,
            "flex_flow": null,
            "grid_area": null,
            "grid_auto_columns": null,
            "grid_auto_flow": null,
            "grid_auto_rows": null,
            "grid_column": null,
            "grid_gap": null,
            "grid_row": null,
            "grid_template_areas": null,
            "grid_template_columns": null,
            "grid_template_rows": null,
            "height": null,
            "justify_content": null,
            "justify_items": null,
            "left": null,
            "margin": null,
            "max_height": null,
            "max_width": null,
            "min_height": null,
            "min_width": null,
            "object_fit": null,
            "object_position": null,
            "order": null,
            "overflow": null,
            "overflow_x": null,
            "overflow_y": null,
            "padding": null,
            "right": null,
            "top": null,
            "visibility": null,
            "width": null
          }
        },
        "ffb23c64890b4f4196c95d94bb3ef981": {
          "model_module": "@jupyter-widgets/base",
          "model_name": "LayoutModel",
          "model_module_version": "1.2.0",
          "state": {
            "_model_module": "@jupyter-widgets/base",
            "_model_module_version": "1.2.0",
            "_model_name": "LayoutModel",
            "_view_count": null,
            "_view_module": "@jupyter-widgets/base",
            "_view_module_version": "1.2.0",
            "_view_name": "LayoutView",
            "align_content": null,
            "align_items": null,
            "align_self": null,
            "border": null,
            "bottom": null,
            "display": null,
            "flex": null,
            "flex_flow": null,
            "grid_area": null,
            "grid_auto_columns": null,
            "grid_auto_flow": null,
            "grid_auto_rows": null,
            "grid_column": null,
            "grid_gap": null,
            "grid_row": null,
            "grid_template_areas": null,
            "grid_template_columns": null,
            "grid_template_rows": null,
            "height": null,
            "justify_content": null,
            "justify_items": null,
            "left": null,
            "margin": null,
            "max_height": null,
            "max_width": null,
            "min_height": null,
            "min_width": null,
            "object_fit": null,
            "object_position": null,
            "order": null,
            "overflow": null,
            "overflow_x": null,
            "overflow_y": null,
            "padding": null,
            "right": null,
            "top": null,
            "visibility": null,
            "width": null
          }
        },
        "7e73c526612a42e8940450b5796cd980": {
          "model_module": "@jupyter-widgets/controls",
          "model_name": "DescriptionStyleModel",
          "model_module_version": "1.5.0",
          "state": {
            "_model_module": "@jupyter-widgets/controls",
            "_model_module_version": "1.5.0",
            "_model_name": "DescriptionStyleModel",
            "_view_count": null,
            "_view_module": "@jupyter-widgets/base",
            "_view_module_version": "1.2.0",
            "_view_name": "StyleView",
            "description_width": ""
          }
        },
        "f60c2f88869c44759d369d852c58a044": {
          "model_module": "@jupyter-widgets/base",
          "model_name": "LayoutModel",
          "model_module_version": "1.2.0",
          "state": {
            "_model_module": "@jupyter-widgets/base",
            "_model_module_version": "1.2.0",
            "_model_name": "LayoutModel",
            "_view_count": null,
            "_view_module": "@jupyter-widgets/base",
            "_view_module_version": "1.2.0",
            "_view_name": "LayoutView",
            "align_content": null,
            "align_items": null,
            "align_self": null,
            "border": null,
            "bottom": null,
            "display": null,
            "flex": null,
            "flex_flow": null,
            "grid_area": null,
            "grid_auto_columns": null,
            "grid_auto_flow": null,
            "grid_auto_rows": null,
            "grid_column": null,
            "grid_gap": null,
            "grid_row": null,
            "grid_template_areas": null,
            "grid_template_columns": null,
            "grid_template_rows": null,
            "height": null,
            "justify_content": null,
            "justify_items": null,
            "left": null,
            "margin": null,
            "max_height": null,
            "max_width": null,
            "min_height": null,
            "min_width": null,
            "object_fit": null,
            "object_position": null,
            "order": null,
            "overflow": null,
            "overflow_x": null,
            "overflow_y": null,
            "padding": null,
            "right": null,
            "top": null,
            "visibility": null,
            "width": null
          }
        },
        "6a503ade787c4ba5b5208c449551bf91": {
          "model_module": "@jupyter-widgets/controls",
          "model_name": "ProgressStyleModel",
          "model_module_version": "1.5.0",
          "state": {
            "_model_module": "@jupyter-widgets/controls",
            "_model_module_version": "1.5.0",
            "_model_name": "ProgressStyleModel",
            "_view_count": null,
            "_view_module": "@jupyter-widgets/base",
            "_view_module_version": "1.2.0",
            "_view_name": "StyleView",
            "bar_color": null,
            "description_width": ""
          }
        },
        "bfff4adfbf7c459fbf4ba7675bf85677": {
          "model_module": "@jupyter-widgets/base",
          "model_name": "LayoutModel",
          "model_module_version": "1.2.0",
          "state": {
            "_model_module": "@jupyter-widgets/base",
            "_model_module_version": "1.2.0",
            "_model_name": "LayoutModel",
            "_view_count": null,
            "_view_module": "@jupyter-widgets/base",
            "_view_module_version": "1.2.0",
            "_view_name": "LayoutView",
            "align_content": null,
            "align_items": null,
            "align_self": null,
            "border": null,
            "bottom": null,
            "display": null,
            "flex": null,
            "flex_flow": null,
            "grid_area": null,
            "grid_auto_columns": null,
            "grid_auto_flow": null,
            "grid_auto_rows": null,
            "grid_column": null,
            "grid_gap": null,
            "grid_row": null,
            "grid_template_areas": null,
            "grid_template_columns": null,
            "grid_template_rows": null,
            "height": null,
            "justify_content": null,
            "justify_items": null,
            "left": null,
            "margin": null,
            "max_height": null,
            "max_width": null,
            "min_height": null,
            "min_width": null,
            "object_fit": null,
            "object_position": null,
            "order": null,
            "overflow": null,
            "overflow_x": null,
            "overflow_y": null,
            "padding": null,
            "right": null,
            "top": null,
            "visibility": null,
            "width": null
          }
        },
        "5ac60a7d1bb44239be4e6159fdcab10a": {
          "model_module": "@jupyter-widgets/controls",
          "model_name": "DescriptionStyleModel",
          "model_module_version": "1.5.0",
          "state": {
            "_model_module": "@jupyter-widgets/controls",
            "_model_module_version": "1.5.0",
            "_model_name": "DescriptionStyleModel",
            "_view_count": null,
            "_view_module": "@jupyter-widgets/base",
            "_view_module_version": "1.2.0",
            "_view_name": "StyleView",
            "description_width": ""
          }
        }
      }
    }
  },
  "cells": [
    {
      "cell_type": "markdown",
      "metadata": {
        "id": "OrfB2Z3LfT33"
      },
      "source": [
        "# Information Retrieval Exercise 1 Notebook\n",
        "\n",
        "This is the template notebook for Exercise 1. This is an assessed exercise. The detailed specification for the exercise and the corresponding Exercise 1 Quiz submission instance are available on the Moodle page of the course.\n",
        "\n",
        "## Assumed Knowledge\n",
        "\n",
        "This Exercise assumes knowedge of Pandas and PyTerrier from the Warmup Exercise, which you should have completed by now. The relevant parts of the PyTerrier documentation are:\n",
        " - [Using Terrier indices in PyTerrier](https://pyterrier.readthedocs.io/en/latest/terrier-indexing.html)\n",
        " - [Terrier Retrieval using PyTerrier](https://pyterrier.readthedocs.io/en/latest/terrier-retrieval.html), e.g. BatchRetrieve\n",
        " - [Operators on PyTerrier transformers](https://pyterrier.readthedocs.io/en/latest/operators.html)\n",
        "\n",
        "\n",
        "## Setup\n",
        "\n",
        "NB: Windows users may need to use `%pip install  --user python-terrier gensim` -- you can ignore warnings about cython, PATH etc. If in doubt, resort to Colab."
      ]
    },
    {
      "cell_type": "code",
      "metadata": {
        "id": "0m5M7WiZfNfk"
      },
      "source": [
        "%pip install -q python-terrier gensim\n"
      ],
      "execution_count": null,
      "outputs": []
    },
    {
      "cell_type": "code",
      "metadata": {
        "id": "pEJSTrbdfdK8"
      },
      "source": [
        "import pyterrier as pt\n",
        "if not pt.started():\n",
        "  pt.init()\n",
        "\n",
        "import pandas as pd\n",
        "pd.set_option('display.max_colwidth', 150)\n",
        "pd.set_option('display.max_rows', 200)"
      ],
      "execution_count": null,
      "outputs": []
    },
    {
      "cell_type": "markdown",
      "metadata": {
        "id": "NJRbjP2_64IV"
      },
      "source": [
        "# Datasets for Ex1\n",
        "\n",
        "For Exercise 1, we'll be using the Datasets API to obtain the files we need for this exercise. PyTerrier actually provides many datasets. You can list all of them using `pt.list_datasets()`."
      ]
    },
    {
      "cell_type": "code",
      "metadata": {
        "id": "9ZJDJ6dl-X2R",
        "colab": {
          "base_uri": "https://localhost:8080/",
          "height": 554
        },
        "outputId": "53005e08-330c-410e-9224-a49140810b13"
      },
      "source": [
        "pt.list_datasets()"
      ],
      "execution_count": null,
      "outputs": [
        {
          "output_type": "execute_result",
          "data": {
            "text/plain": [
              "                         dataset  \\\n",
              "0                          50pct   \n",
              "1                        antique   \n",
              "2                        vaswani   \n",
              "3               msmarco_document   \n",
              "4             msmarcov2_document   \n",
              "..                           ...   \n",
              "641                     irds:hc4   \n",
              "654                 irds:neuclir   \n",
              "655               irds:neuclir/1   \n",
              "662      trec-deep-learning-docs   \n",
              "663  trec-deep-learning-passages   \n",
              "\n",
              "                                                              topics  \\\n",
              "0                                             [training, validation]   \n",
              "1                                                      [train, test]   \n",
              "2                                                               True   \n",
              "3                    [train, dev, test, test-2020, leaderboard-2020]   \n",
              "4                     [train, dev1, dev2, valid1, valid2, trec_2021]   \n",
              "..                                                               ...   \n",
              "641                                                             None   \n",
              "654                                                             None   \n",
              "655                                                             None   \n",
              "662                  [train, dev, test, test-2020, leaderboard-2020]   \n",
              "663  [train, dev, dev.small, eval, eval.small, test-2019, test-2020]   \n",
              "\n",
              "    topics_lang                                          qrels corpus  \\\n",
              "0            en                         [training, validation]   None   \n",
              "1            en                                  [train, test]   True   \n",
              "2            en                                           True   True   \n",
              "3            en                  [train, dev, test, test-2020]   True   \n",
              "4            en            [train, dev1, dev2, valid1, valid2]   None   \n",
              "..          ...                                            ...    ...   \n",
              "641        None                                           None   None   \n",
              "654        None                                           None   None   \n",
              "655        None                                           None   None   \n",
              "662          en                  [train, dev, test, test-2020]   True   \n",
              "663          en  [train, dev, test-2019, test-2020, dev.small]   True   \n",
              "\n",
              "    corpus_lang       index  \\\n",
              "0          None  [ex2, ex3]   \n",
              "1            en        None   \n",
              "2            en        True   \n",
              "3            en        True   \n",
              "4          None        True   \n",
              "..          ...         ...   \n",
              "641        None        None   \n",
              "654        None        None   \n",
              "655        None        None   \n",
              "662          en        True   \n",
              "663          en        True   \n",
              "\n",
              "                                                        info_url  \n",
              "0                                                           None  \n",
              "1         https://ciir.cs.umass.edu/downloads/Antique/readme.txt  \n",
              "2        http://ir.dcs.gla.ac.uk/resources/test_collections/npl/  \n",
              "3                           https://microsoft.github.io/msmarco/  \n",
              "4    https://microsoft.github.io/msmarco/TREC-Deep-Learning.html  \n",
              "..                                                           ...  \n",
              "641                             https://ir-datasets.com/hc4.html  \n",
              "654                         https://ir-datasets.com/neuclir.html  \n",
              "655               https://ir-datasets.com/neuclir.html#neuclir/1  \n",
              "662                         https://microsoft.github.io/msmarco/  \n",
              "663         https://microsoft.github.io/MSMARCO-Passage-Ranking/  \n",
              "\n",
              "[420 rows x 8 columns]"
            ],
            "text/html": [
              "\n",
              "  <div id=\"df-ffc0881a-796e-44bc-8029-b89a1960678b\">\n",
              "    <div class=\"colab-df-container\">\n",
              "      <div>\n",
              "<style scoped>\n",
              "    .dataframe tbody tr th:only-of-type {\n",
              "        vertical-align: middle;\n",
              "    }\n",
              "\n",
              "    .dataframe tbody tr th {\n",
              "        vertical-align: top;\n",
              "    }\n",
              "\n",
              "    .dataframe thead th {\n",
              "        text-align: right;\n",
              "    }\n",
              "</style>\n",
              "<table border=\"1\" class=\"dataframe\">\n",
              "  <thead>\n",
              "    <tr style=\"text-align: right;\">\n",
              "      <th></th>\n",
              "      <th>dataset</th>\n",
              "      <th>topics</th>\n",
              "      <th>topics_lang</th>\n",
              "      <th>qrels</th>\n",
              "      <th>corpus</th>\n",
              "      <th>corpus_lang</th>\n",
              "      <th>index</th>\n",
              "      <th>info_url</th>\n",
              "    </tr>\n",
              "  </thead>\n",
              "  <tbody>\n",
              "    <tr>\n",
              "      <th>0</th>\n",
              "      <td>50pct</td>\n",
              "      <td>[training, validation]</td>\n",
              "      <td>en</td>\n",
              "      <td>[training, validation]</td>\n",
              "      <td>None</td>\n",
              "      <td>None</td>\n",
              "      <td>[ex2, ex3]</td>\n",
              "      <td>None</td>\n",
              "    </tr>\n",
              "    <tr>\n",
              "      <th>1</th>\n",
              "      <td>antique</td>\n",
              "      <td>[train, test]</td>\n",
              "      <td>en</td>\n",
              "      <td>[train, test]</td>\n",
              "      <td>True</td>\n",
              "      <td>en</td>\n",
              "      <td>None</td>\n",
              "      <td>https://ciir.cs.umass.edu/downloads/Antique/readme.txt</td>\n",
              "    </tr>\n",
              "    <tr>\n",
              "      <th>2</th>\n",
              "      <td>vaswani</td>\n",
              "      <td>True</td>\n",
              "      <td>en</td>\n",
              "      <td>True</td>\n",
              "      <td>True</td>\n",
              "      <td>en</td>\n",
              "      <td>True</td>\n",
              "      <td>http://ir.dcs.gla.ac.uk/resources/test_collections/npl/</td>\n",
              "    </tr>\n",
              "    <tr>\n",
              "      <th>3</th>\n",
              "      <td>msmarco_document</td>\n",
              "      <td>[train, dev, test, test-2020, leaderboard-2020]</td>\n",
              "      <td>en</td>\n",
              "      <td>[train, dev, test, test-2020]</td>\n",
              "      <td>True</td>\n",
              "      <td>en</td>\n",
              "      <td>True</td>\n",
              "      <td>https://microsoft.github.io/msmarco/</td>\n",
              "    </tr>\n",
              "    <tr>\n",
              "      <th>4</th>\n",
              "      <td>msmarcov2_document</td>\n",
              "      <td>[train, dev1, dev2, valid1, valid2, trec_2021]</td>\n",
              "      <td>en</td>\n",
              "      <td>[train, dev1, dev2, valid1, valid2]</td>\n",
              "      <td>None</td>\n",
              "      <td>None</td>\n",
              "      <td>True</td>\n",
              "      <td>https://microsoft.github.io/msmarco/TREC-Deep-Learning.html</td>\n",
              "    </tr>\n",
              "    <tr>\n",
              "      <th>...</th>\n",
              "      <td>...</td>\n",
              "      <td>...</td>\n",
              "      <td>...</td>\n",
              "      <td>...</td>\n",
              "      <td>...</td>\n",
              "      <td>...</td>\n",
              "      <td>...</td>\n",
              "      <td>...</td>\n",
              "    </tr>\n",
              "    <tr>\n",
              "      <th>641</th>\n",
              "      <td>irds:hc4</td>\n",
              "      <td>None</td>\n",
              "      <td>None</td>\n",
              "      <td>None</td>\n",
              "      <td>None</td>\n",
              "      <td>None</td>\n",
              "      <td>None</td>\n",
              "      <td>https://ir-datasets.com/hc4.html</td>\n",
              "    </tr>\n",
              "    <tr>\n",
              "      <th>654</th>\n",
              "      <td>irds:neuclir</td>\n",
              "      <td>None</td>\n",
              "      <td>None</td>\n",
              "      <td>None</td>\n",
              "      <td>None</td>\n",
              "      <td>None</td>\n",
              "      <td>None</td>\n",
              "      <td>https://ir-datasets.com/neuclir.html</td>\n",
              "    </tr>\n",
              "    <tr>\n",
              "      <th>655</th>\n",
              "      <td>irds:neuclir/1</td>\n",
              "      <td>None</td>\n",
              "      <td>None</td>\n",
              "      <td>None</td>\n",
              "      <td>None</td>\n",
              "      <td>None</td>\n",
              "      <td>None</td>\n",
              "      <td>https://ir-datasets.com/neuclir.html#neuclir/1</td>\n",
              "    </tr>\n",
              "    <tr>\n",
              "      <th>662</th>\n",
              "      <td>trec-deep-learning-docs</td>\n",
              "      <td>[train, dev, test, test-2020, leaderboard-2020]</td>\n",
              "      <td>en</td>\n",
              "      <td>[train, dev, test, test-2020]</td>\n",
              "      <td>True</td>\n",
              "      <td>en</td>\n",
              "      <td>True</td>\n",
              "      <td>https://microsoft.github.io/msmarco/</td>\n",
              "    </tr>\n",
              "    <tr>\n",
              "      <th>663</th>\n",
              "      <td>trec-deep-learning-passages</td>\n",
              "      <td>[train, dev, dev.small, eval, eval.small, test-2019, test-2020]</td>\n",
              "      <td>en</td>\n",
              "      <td>[train, dev, test-2019, test-2020, dev.small]</td>\n",
              "      <td>True</td>\n",
              "      <td>en</td>\n",
              "      <td>True</td>\n",
              "      <td>https://microsoft.github.io/MSMARCO-Passage-Ranking/</td>\n",
              "    </tr>\n",
              "  </tbody>\n",
              "</table>\n",
              "<p>420 rows × 8 columns</p>\n",
              "</div>\n",
              "      <button class=\"colab-df-convert\" onclick=\"convertToInteractive('df-ffc0881a-796e-44bc-8029-b89a1960678b')\"\n",
              "              title=\"Convert this dataframe to an interactive table.\"\n",
              "              style=\"display:none;\">\n",
              "        \n",
              "  <svg xmlns=\"http://www.w3.org/2000/svg\" height=\"24px\"viewBox=\"0 0 24 24\"\n",
              "       width=\"24px\">\n",
              "    <path d=\"M0 0h24v24H0V0z\" fill=\"none\"/>\n",
              "    <path d=\"M18.56 5.44l.94 2.06.94-2.06 2.06-.94-2.06-.94-.94-2.06-.94 2.06-2.06.94zm-11 1L8.5 8.5l.94-2.06 2.06-.94-2.06-.94L8.5 2.5l-.94 2.06-2.06.94zm10 10l.94 2.06.94-2.06 2.06-.94-2.06-.94-.94-2.06-.94 2.06-2.06.94z\"/><path d=\"M17.41 7.96l-1.37-1.37c-.4-.4-.92-.59-1.43-.59-.52 0-1.04.2-1.43.59L10.3 9.45l-7.72 7.72c-.78.78-.78 2.05 0 2.83L4 21.41c.39.39.9.59 1.41.59.51 0 1.02-.2 1.41-.59l7.78-7.78 2.81-2.81c.8-.78.8-2.07 0-2.86zM5.41 20L4 18.59l7.72-7.72 1.47 1.35L5.41 20z\"/>\n",
              "  </svg>\n",
              "      </button>\n",
              "      \n",
              "  <style>\n",
              "    .colab-df-container {\n",
              "      display:flex;\n",
              "      flex-wrap:wrap;\n",
              "      gap: 12px;\n",
              "    }\n",
              "\n",
              "    .colab-df-convert {\n",
              "      background-color: #E8F0FE;\n",
              "      border: none;\n",
              "      border-radius: 50%;\n",
              "      cursor: pointer;\n",
              "      display: none;\n",
              "      fill: #1967D2;\n",
              "      height: 32px;\n",
              "      padding: 0 0 0 0;\n",
              "      width: 32px;\n",
              "    }\n",
              "\n",
              "    .colab-df-convert:hover {\n",
              "      background-color: #E2EBFA;\n",
              "      box-shadow: 0px 1px 2px rgba(60, 64, 67, 0.3), 0px 1px 3px 1px rgba(60, 64, 67, 0.15);\n",
              "      fill: #174EA6;\n",
              "    }\n",
              "\n",
              "    [theme=dark] .colab-df-convert {\n",
              "      background-color: #3B4455;\n",
              "      fill: #D2E3FC;\n",
              "    }\n",
              "\n",
              "    [theme=dark] .colab-df-convert:hover {\n",
              "      background-color: #434B5C;\n",
              "      box-shadow: 0px 1px 3px 1px rgba(0, 0, 0, 0.15);\n",
              "      filter: drop-shadow(0px 1px 2px rgba(0, 0, 0, 0.3));\n",
              "      fill: #FFFFFF;\n",
              "    }\n",
              "  </style>\n",
              "\n",
              "      <script>\n",
              "        const buttonEl =\n",
              "          document.querySelector('#df-ffc0881a-796e-44bc-8029-b89a1960678b button.colab-df-convert');\n",
              "        buttonEl.style.display =\n",
              "          google.colab.kernel.accessAllowed ? 'block' : 'none';\n",
              "\n",
              "        async function convertToInteractive(key) {\n",
              "          const element = document.querySelector('#df-ffc0881a-796e-44bc-8029-b89a1960678b');\n",
              "          const dataTable =\n",
              "            await google.colab.kernel.invokeFunction('convertToInteractive',\n",
              "                                                     [key], {});\n",
              "          if (!dataTable) return;\n",
              "\n",
              "          const docLinkHtml = 'Like what you see? Visit the ' +\n",
              "            '<a target=\"_blank\" href=https://colab.research.google.com/notebooks/data_table.ipynb>data table notebook</a>'\n",
              "            + ' to learn more about interactive tables.';\n",
              "          element.innerHTML = '';\n",
              "          dataTable['output_type'] = 'display_data';\n",
              "          await google.colab.output.renderOutput(dataTable, element);\n",
              "          const docLink = document.createElement('div');\n",
              "          docLink.innerHTML = docLinkHtml;\n",
              "          element.appendChild(docLink);\n",
              "        }\n",
              "      </script>\n",
              "    </div>\n",
              "  </div>\n",
              "  "
            ]
          },
          "metadata": {},
          "execution_count": 84
        }
      ]
    },
    {
      "cell_type": "markdown",
      "metadata": {
        "id": "wD3GIPfC7EHS"
      },
      "source": [
        "There are several sets of files we need for Exercise 1:\n",
        " - We need an index for 50% of the TREC GOV corpus. We provide this through the \"50pct\" dataset, but you will need the username and password that we will assign to you once you sign the user license agreement.\n",
        " - the topics (queries) and qrels (relevance assessments) for evaluating the performance of our search engine. These come from the \"trec-wt-2004\" dataset.\n",
        "\n",
        "Update your username and password. DO NOT SHARE your login details with other students - all they need to do is to agree to the user agreement on Moodle.\n",
        "\n"
      ]
    },
    {
      "cell_type": "code",
      "metadata": {
        "id": "GzxpU1Kn7t8n"
      },
      "source": [
        "USERNAME = \"2850756t\"\n",
        "PASSWORD = \"799cb19a\"\n",
        "\n",
        "dotgov_50pct = pt.get_dataset(\"50pct\", user=USERNAME, password=PASSWORD)\n",
        "dotgov_topicsqrels = pt.get_dataset(\"trec-wt-2004\")"
      ],
      "execution_count": null,
      "outputs": []
    },
    {
      "cell_type": "markdown",
      "metadata": {
        "id": "xi4PSIgmaN5K"
      },
      "source": [
        "The size of the \"50pct\" index is 800MB - this will take a minute or so for Colab to download before we load it for the first time."
      ]
    },
    {
      "cell_type": "code",
      "metadata": {
        "id": "SLGyh2OkuaXd"
      },
      "source": [
        "indexref = dotgov_50pct.get_index('ex2')\n",
        "index = pt.IndexFactory.of(indexref)\n"
      ],
      "execution_count": null,
      "outputs": []
    },
    {
      "cell_type": "markdown",
      "metadata": {
        "id": "L0BTGU9_aQ44"
      },
      "source": [
        "# Q1\n",
        "\n",
        "Using this setup, you now have sufficient knowledge from the warm-up exercise to complete this task, namely to get the indexing statistics of the \"50pct\" collection."
      ]
    },
    {
      "cell_type": "code",
      "metadata": {
        "id": "DD2dAGIdLQg7",
        "colab": {
          "base_uri": "https://localhost:8080/"
        },
        "outputId": "55c79b28-6f2f-4dab-9cd2-c1008dc1fcf0"
      },
      "source": [
        "# Start by using PyTerrier to load the provided index of the collection. Print the index collection\n",
        "# statistics and answer the corresponding Quiz questions by entering the obtained indexing statistics:\n",
        "# number of documents, number of terms, number of tokens, number of postings.\n",
        "\n",
        "print(index.getCollectionStatistics())\n",
        "\n",
        "# Number of docs: 807775\n",
        "# Number of terms: 2043788\n",
        "# Number of postings: 177737957\n",
        "# Number of tokens: 572916194\n"
      ],
      "execution_count": null,
      "outputs": [
        {
          "output_type": "stream",
          "name": "stdout",
          "text": [
            "Number of documents: 807775\n",
            "Number of terms: 2043788\n",
            "Number of postings: 177737957\n",
            "Number of fields: 0\n",
            "Number of tokens: 572916194\n",
            "Field names: []\n",
            "Positions:   false\n",
            "\n"
          ]
        }
      ]
    },
    {
      "cell_type": "markdown",
      "metadata": {
        "id": "rzW2v-qchgIF"
      },
      "source": [
        "# Retrieval & Evaluation\n",
        "\n",
        "In our experiments, we are using three sets of topics: \"hp\", \"np\" and \"td\". We can obtain them from the `dotgov_topicsqrels` dataset as follows:"
      ]
    },
    {
      "cell_type": "code",
      "metadata": {
        "id": "qR5fkwEglDIA",
        "colab": {
          "base_uri": "https://localhost:8080/",
          "height": 206
        },
        "outputId": "f66be2aa-b342-4137-c389-acaf19ab6c4d"
      },
      "source": [
        "topics = dotgov_topicsqrels.get_topics(variant=\"hp\")\n",
        "topics.head(5)"
      ],
      "execution_count": null,
      "outputs": [
        {
          "output_type": "execute_result",
          "data": {
            "text/plain": [
              "  qid                                        query\n",
              "0   6                         philadelphia streets\n",
              "1   7                                 togo embassy\n",
              "2   9                                    baltimore\n",
              "3  17                                 secure linux\n",
              "4  29  grand canyon monitoring and research center"
            ],
            "text/html": [
              "\n",
              "  <div id=\"df-395e6b85-a66f-4aee-87ec-ceaa0e8c28c1\">\n",
              "    <div class=\"colab-df-container\">\n",
              "      <div>\n",
              "<style scoped>\n",
              "    .dataframe tbody tr th:only-of-type {\n",
              "        vertical-align: middle;\n",
              "    }\n",
              "\n",
              "    .dataframe tbody tr th {\n",
              "        vertical-align: top;\n",
              "    }\n",
              "\n",
              "    .dataframe thead th {\n",
              "        text-align: right;\n",
              "    }\n",
              "</style>\n",
              "<table border=\"1\" class=\"dataframe\">\n",
              "  <thead>\n",
              "    <tr style=\"text-align: right;\">\n",
              "      <th></th>\n",
              "      <th>qid</th>\n",
              "      <th>query</th>\n",
              "    </tr>\n",
              "  </thead>\n",
              "  <tbody>\n",
              "    <tr>\n",
              "      <th>0</th>\n",
              "      <td>6</td>\n",
              "      <td>philadelphia streets</td>\n",
              "    </tr>\n",
              "    <tr>\n",
              "      <th>1</th>\n",
              "      <td>7</td>\n",
              "      <td>togo embassy</td>\n",
              "    </tr>\n",
              "    <tr>\n",
              "      <th>2</th>\n",
              "      <td>9</td>\n",
              "      <td>baltimore</td>\n",
              "    </tr>\n",
              "    <tr>\n",
              "      <th>3</th>\n",
              "      <td>17</td>\n",
              "      <td>secure linux</td>\n",
              "    </tr>\n",
              "    <tr>\n",
              "      <th>4</th>\n",
              "      <td>29</td>\n",
              "      <td>grand canyon monitoring and research center</td>\n",
              "    </tr>\n",
              "  </tbody>\n",
              "</table>\n",
              "</div>\n",
              "      <button class=\"colab-df-convert\" onclick=\"convertToInteractive('df-395e6b85-a66f-4aee-87ec-ceaa0e8c28c1')\"\n",
              "              title=\"Convert this dataframe to an interactive table.\"\n",
              "              style=\"display:none;\">\n",
              "        \n",
              "  <svg xmlns=\"http://www.w3.org/2000/svg\" height=\"24px\"viewBox=\"0 0 24 24\"\n",
              "       width=\"24px\">\n",
              "    <path d=\"M0 0h24v24H0V0z\" fill=\"none\"/>\n",
              "    <path d=\"M18.56 5.44l.94 2.06.94-2.06 2.06-.94-2.06-.94-.94-2.06-.94 2.06-2.06.94zm-11 1L8.5 8.5l.94-2.06 2.06-.94-2.06-.94L8.5 2.5l-.94 2.06-2.06.94zm10 10l.94 2.06.94-2.06 2.06-.94-2.06-.94-.94-2.06-.94 2.06-2.06.94z\"/><path d=\"M17.41 7.96l-1.37-1.37c-.4-.4-.92-.59-1.43-.59-.52 0-1.04.2-1.43.59L10.3 9.45l-7.72 7.72c-.78.78-.78 2.05 0 2.83L4 21.41c.39.39.9.59 1.41.59.51 0 1.02-.2 1.41-.59l7.78-7.78 2.81-2.81c.8-.78.8-2.07 0-2.86zM5.41 20L4 18.59l7.72-7.72 1.47 1.35L5.41 20z\"/>\n",
              "  </svg>\n",
              "      </button>\n",
              "      \n",
              "  <style>\n",
              "    .colab-df-container {\n",
              "      display:flex;\n",
              "      flex-wrap:wrap;\n",
              "      gap: 12px;\n",
              "    }\n",
              "\n",
              "    .colab-df-convert {\n",
              "      background-color: #E8F0FE;\n",
              "      border: none;\n",
              "      border-radius: 50%;\n",
              "      cursor: pointer;\n",
              "      display: none;\n",
              "      fill: #1967D2;\n",
              "      height: 32px;\n",
              "      padding: 0 0 0 0;\n",
              "      width: 32px;\n",
              "    }\n",
              "\n",
              "    .colab-df-convert:hover {\n",
              "      background-color: #E2EBFA;\n",
              "      box-shadow: 0px 1px 2px rgba(60, 64, 67, 0.3), 0px 1px 3px 1px rgba(60, 64, 67, 0.15);\n",
              "      fill: #174EA6;\n",
              "    }\n",
              "\n",
              "    [theme=dark] .colab-df-convert {\n",
              "      background-color: #3B4455;\n",
              "      fill: #D2E3FC;\n",
              "    }\n",
              "\n",
              "    [theme=dark] .colab-df-convert:hover {\n",
              "      background-color: #434B5C;\n",
              "      box-shadow: 0px 1px 3px 1px rgba(0, 0, 0, 0.15);\n",
              "      filter: drop-shadow(0px 1px 2px rgba(0, 0, 0, 0.3));\n",
              "      fill: #FFFFFF;\n",
              "    }\n",
              "  </style>\n",
              "\n",
              "      <script>\n",
              "        const buttonEl =\n",
              "          document.querySelector('#df-395e6b85-a66f-4aee-87ec-ceaa0e8c28c1 button.colab-df-convert');\n",
              "        buttonEl.style.display =\n",
              "          google.colab.kernel.accessAllowed ? 'block' : 'none';\n",
              "\n",
              "        async function convertToInteractive(key) {\n",
              "          const element = document.querySelector('#df-395e6b85-a66f-4aee-87ec-ceaa0e8c28c1');\n",
              "          const dataTable =\n",
              "            await google.colab.kernel.invokeFunction('convertToInteractive',\n",
              "                                                     [key], {});\n",
              "          if (!dataTable) return;\n",
              "\n",
              "          const docLinkHtml = 'Like what you see? Visit the ' +\n",
              "            '<a target=\"_blank\" href=https://colab.research.google.com/notebooks/data_table.ipynb>data table notebook</a>'\n",
              "            + ' to learn more about interactive tables.';\n",
              "          element.innerHTML = '';\n",
              "          dataTable['output_type'] = 'display_data';\n",
              "          await google.colab.output.renderOutput(dataTable, element);\n",
              "          const docLink = document.createElement('div');\n",
              "          docLink.innerHTML = docLinkHtml;\n",
              "          element.appendChild(docLink);\n",
              "        }\n",
              "      </script>\n",
              "    </div>\n",
              "  </div>\n",
              "  "
            ]
          },
          "metadata": {},
          "execution_count": 88
        }
      ]
    },
    {
      "cell_type": "markdown",
      "metadata": {
        "id": "aDjZa_9v_vuw"
      },
      "source": [
        "Let's create a simple TF_IDF retriever - we will use this for demonstrating IR evaluation using PyTerrier."
      ]
    },
    {
      "cell_type": "code",
      "metadata": {
        "id": "vfqR_MHF7wvn"
      },
      "source": [
        "retr = pt.BatchRetrieve(index, wmodel=\"TF_IDF\")"
      ],
      "execution_count": null,
      "outputs": []
    },
    {
      "cell_type": "markdown",
      "metadata": {
        "id": "JeNYoPbrj7FN"
      },
      "source": [
        "Let's see how we can actually evaluate our TF_IDF retrieval system. Firstly, we'll need the qrels."
      ]
    },
    {
      "cell_type": "code",
      "metadata": {
        "id": "uvw_CXrak5MQ"
      },
      "source": [
        "qrels = dotgov_topicsqrels.get_qrels(variant='hp')"
      ],
      "execution_count": null,
      "outputs": []
    },
    {
      "cell_type": "markdown",
      "metadata": {
        "id": "ON8yEcWukIIA"
      },
      "source": [
        "We can use `pt.Utils.evaluate(results, qrels)` to evaluate the results.    \n",
        "Args:    \n",
        " - metrics, `default = [\"map\", ndcg\"]`, select the evaluation metrics    \n",
        " - perquery, `default = False`, select whether to show the mean of the metrics over all queries or the metrics for each query"
      ]
    },
    {
      "cell_type": "code",
      "metadata": {
        "id": "LXfETppwj55p",
        "colab": {
          "base_uri": "https://localhost:8080/"
        },
        "outputId": "495f70f3-b508-42c9-cade-2e0a102bdb87"
      },
      "source": [
        "res = retr.transform(topics)\n",
        "eval = pt.Utils.evaluate(res, qrels, metrics=[\"map\"]) # perquery defaults to false here so it shows the results over all queries\n",
        "eval"
      ],
      "execution_count": null,
      "outputs": [
        {
          "output_type": "execute_result",
          "data": {
            "text/plain": [
              "{'map': 0.20894845478512017}"
            ]
          },
          "metadata": {},
          "execution_count": 92
        }
      ]
    },
    {
      "cell_type": "markdown",
      "metadata": {
        "id": "Ph_ZxuEPJVeN"
      },
      "source": [
        "However, creating the res dataframe for each system in turn, and then evaluating it, is laborious. We strongly recommend using [`pt.Experiment()`](https://pyterrier.readthedocs.io/en/latest/experiments.html) to evaluate one or more retrieval systems at once, in a declarative manner.\n",
        "\n",
        "Take the time to read the [documentation for `pt.Experiment()`](https://pyterrier.readthedocs.io/en/latest/experiments.html) to understand its available functionality. Tasks Q2-Q4 will all require that you adapt the arguments to `pt.Experiment()` and use its output in different ways (e.g. for significance testing)."
      ]
    },
    {
      "cell_type": "code",
      "metadata": {
        "id": "hdUacQVaJVpd",
        "colab": {
          "base_uri": "https://localhost:8080/",
          "height": 81
        },
        "outputId": "59600c91-7f07-40d0-f10b-3d6cf8db5a1e"
      },
      "source": [
        "pt.Experiment(\n",
        "    [retr],\n",
        "     dotgov_topicsqrels.get_topics(variant='hp'),\n",
        "     dotgov_topicsqrels.get_qrels(variant='hp'),\n",
        "     eval_metrics=['map']\n",
        ")"
      ],
      "execution_count": null,
      "outputs": [
        {
          "output_type": "execute_result",
          "data": {
            "text/plain": [
              "         name       map\n",
              "0  BR(TF_IDF)  0.208948"
            ],
            "text/html": [
              "\n",
              "  <div id=\"df-e4b35c50-514a-4eca-97ad-d10591d74cef\">\n",
              "    <div class=\"colab-df-container\">\n",
              "      <div>\n",
              "<style scoped>\n",
              "    .dataframe tbody tr th:only-of-type {\n",
              "        vertical-align: middle;\n",
              "    }\n",
              "\n",
              "    .dataframe tbody tr th {\n",
              "        vertical-align: top;\n",
              "    }\n",
              "\n",
              "    .dataframe thead th {\n",
              "        text-align: right;\n",
              "    }\n",
              "</style>\n",
              "<table border=\"1\" class=\"dataframe\">\n",
              "  <thead>\n",
              "    <tr style=\"text-align: right;\">\n",
              "      <th></th>\n",
              "      <th>name</th>\n",
              "      <th>map</th>\n",
              "    </tr>\n",
              "  </thead>\n",
              "  <tbody>\n",
              "    <tr>\n",
              "      <th>0</th>\n",
              "      <td>BR(TF_IDF)</td>\n",
              "      <td>0.208948</td>\n",
              "    </tr>\n",
              "  </tbody>\n",
              "</table>\n",
              "</div>\n",
              "      <button class=\"colab-df-convert\" onclick=\"convertToInteractive('df-e4b35c50-514a-4eca-97ad-d10591d74cef')\"\n",
              "              title=\"Convert this dataframe to an interactive table.\"\n",
              "              style=\"display:none;\">\n",
              "        \n",
              "  <svg xmlns=\"http://www.w3.org/2000/svg\" height=\"24px\"viewBox=\"0 0 24 24\"\n",
              "       width=\"24px\">\n",
              "    <path d=\"M0 0h24v24H0V0z\" fill=\"none\"/>\n",
              "    <path d=\"M18.56 5.44l.94 2.06.94-2.06 2.06-.94-2.06-.94-.94-2.06-.94 2.06-2.06.94zm-11 1L8.5 8.5l.94-2.06 2.06-.94-2.06-.94L8.5 2.5l-.94 2.06-2.06.94zm10 10l.94 2.06.94-2.06 2.06-.94-2.06-.94-.94-2.06-.94 2.06-2.06.94z\"/><path d=\"M17.41 7.96l-1.37-1.37c-.4-.4-.92-.59-1.43-.59-.52 0-1.04.2-1.43.59L10.3 9.45l-7.72 7.72c-.78.78-.78 2.05 0 2.83L4 21.41c.39.39.9.59 1.41.59.51 0 1.02-.2 1.41-.59l7.78-7.78 2.81-2.81c.8-.78.8-2.07 0-2.86zM5.41 20L4 18.59l7.72-7.72 1.47 1.35L5.41 20z\"/>\n",
              "  </svg>\n",
              "      </button>\n",
              "      \n",
              "  <style>\n",
              "    .colab-df-container {\n",
              "      display:flex;\n",
              "      flex-wrap:wrap;\n",
              "      gap: 12px;\n",
              "    }\n",
              "\n",
              "    .colab-df-convert {\n",
              "      background-color: #E8F0FE;\n",
              "      border: none;\n",
              "      border-radius: 50%;\n",
              "      cursor: pointer;\n",
              "      display: none;\n",
              "      fill: #1967D2;\n",
              "      height: 32px;\n",
              "      padding: 0 0 0 0;\n",
              "      width: 32px;\n",
              "    }\n",
              "\n",
              "    .colab-df-convert:hover {\n",
              "      background-color: #E2EBFA;\n",
              "      box-shadow: 0px 1px 2px rgba(60, 64, 67, 0.3), 0px 1px 3px 1px rgba(60, 64, 67, 0.15);\n",
              "      fill: #174EA6;\n",
              "    }\n",
              "\n",
              "    [theme=dark] .colab-df-convert {\n",
              "      background-color: #3B4455;\n",
              "      fill: #D2E3FC;\n",
              "    }\n",
              "\n",
              "    [theme=dark] .colab-df-convert:hover {\n",
              "      background-color: #434B5C;\n",
              "      box-shadow: 0px 1px 3px 1px rgba(0, 0, 0, 0.15);\n",
              "      filter: drop-shadow(0px 1px 2px rgba(0, 0, 0, 0.3));\n",
              "      fill: #FFFFFF;\n",
              "    }\n",
              "  </style>\n",
              "\n",
              "      <script>\n",
              "        const buttonEl =\n",
              "          document.querySelector('#df-e4b35c50-514a-4eca-97ad-d10591d74cef button.colab-df-convert');\n",
              "        buttonEl.style.display =\n",
              "          google.colab.kernel.accessAllowed ? 'block' : 'none';\n",
              "\n",
              "        async function convertToInteractive(key) {\n",
              "          const element = document.querySelector('#df-e4b35c50-514a-4eca-97ad-d10591d74cef');\n",
              "          const dataTable =\n",
              "            await google.colab.kernel.invokeFunction('convertToInteractive',\n",
              "                                                     [key], {});\n",
              "          if (!dataTable) return;\n",
              "\n",
              "          const docLinkHtml = 'Like what you see? Visit the ' +\n",
              "            '<a target=\"_blank\" href=https://colab.research.google.com/notebooks/data_table.ipynb>data table notebook</a>'\n",
              "            + ' to learn more about interactive tables.';\n",
              "          element.innerHTML = '';\n",
              "          dataTable['output_type'] = 'display_data';\n",
              "          await google.colab.output.renderOutput(dataTable, element);\n",
              "          const docLink = document.createElement('div');\n",
              "          docLink.innerHTML = docLinkHtml;\n",
              "          element.appendChild(docLink);\n",
              "        }\n",
              "      </script>\n",
              "    </div>\n",
              "  </div>\n",
              "  "
            ]
          },
          "metadata": {},
          "execution_count": 93
        }
      ]
    },
    {
      "cell_type": "markdown",
      "metadata": {
        "id": "ZZ-9Oo8ebpu9"
      },
      "source": [
        "# Q2(a)\n",
        "\n",
        "You now have enough information to complete Q2(a) of the assessed exercise.\n",
        "\n",
        "*Hint*: We encourage you to write your own functions that perform reusable operations across different topic sets."
      ]
    },
    {
      "cell_type": "code",
      "metadata": {
        "id": "bwSEX6jYIu1r"
      },
      "source": [
        "# rename retr to retr_tfidf for specs\n",
        "retr_tfidf = retr\n",
        "# retrieve bm25\n",
        "retr_bm25 = pt.BatchRetrieve(index, wmodel=\"BM25\")\n",
        "# retrieve pl2\n",
        "retr_pl2 = pt.BatchRetrieve(index, wmodel=\"PL2\")\n",
        "\n",
        "# Define a function for (a)\n",
        "def run_experiment_q2(topic_set):\n",
        "  # this experiment takes the specific topic set\n",
        "  # uses the evaluation metric MAP\n",
        "  # rounds MAP to 4 decimals\n",
        "  # and uses TFIDF as a baseline\n",
        "  return pt.Experiment(\n",
        "      [retr_tfidf, retr_bm25, retr_pl2],\n",
        "      pt.get_dataset(\"trec-wt-2004\").get_topics(topic_set),\n",
        "      pt.get_dataset(\"trec-wt-2004\").get_qrels(topic_set),\n",
        "      eval_metrics=['map'],\n",
        "      round={\"map\" : 4},\n",
        "      names=[\"TFIDF\", \"BM25\", \"PL2\"],\n",
        "      baseline=0\n",
        "  )"
      ],
      "execution_count": null,
      "outputs": []
    },
    {
      "cell_type": "markdown",
      "source": [
        "Now I will run the experiment on the 'hp' set."
      ],
      "metadata": {
        "id": "JWOiCxwfxbc5"
      }
    },
    {
      "cell_type": "code",
      "source": [
        "run_experiment_q2('hp')"
      ],
      "metadata": {
        "colab": {
          "base_uri": "https://localhost:8080/",
          "height": 143
        },
        "id": "ITizLTehxF1o",
        "outputId": "b24114df-1933-4e7a-926f-436f2b8ac731"
      },
      "execution_count": null,
      "outputs": [
        {
          "output_type": "execute_result",
          "data": {
            "text/plain": [
              "    name     map  map +  map -  map p-value\n",
              "0  TFIDF  0.2089    NaN    NaN          NaN\n",
              "1   BM25  0.2186   11.0   20.0     0.463462\n",
              "2    PL2  0.2251   17.0   36.0     0.448418"
            ],
            "text/html": [
              "\n",
              "  <div id=\"df-0fc1c858-c5ed-42fc-bd73-6640b728cccf\">\n",
              "    <div class=\"colab-df-container\">\n",
              "      <div>\n",
              "<style scoped>\n",
              "    .dataframe tbody tr th:only-of-type {\n",
              "        vertical-align: middle;\n",
              "    }\n",
              "\n",
              "    .dataframe tbody tr th {\n",
              "        vertical-align: top;\n",
              "    }\n",
              "\n",
              "    .dataframe thead th {\n",
              "        text-align: right;\n",
              "    }\n",
              "</style>\n",
              "<table border=\"1\" class=\"dataframe\">\n",
              "  <thead>\n",
              "    <tr style=\"text-align: right;\">\n",
              "      <th></th>\n",
              "      <th>name</th>\n",
              "      <th>map</th>\n",
              "      <th>map +</th>\n",
              "      <th>map -</th>\n",
              "      <th>map p-value</th>\n",
              "    </tr>\n",
              "  </thead>\n",
              "  <tbody>\n",
              "    <tr>\n",
              "      <th>0</th>\n",
              "      <td>TFIDF</td>\n",
              "      <td>0.2089</td>\n",
              "      <td>NaN</td>\n",
              "      <td>NaN</td>\n",
              "      <td>NaN</td>\n",
              "    </tr>\n",
              "    <tr>\n",
              "      <th>1</th>\n",
              "      <td>BM25</td>\n",
              "      <td>0.2186</td>\n",
              "      <td>11.0</td>\n",
              "      <td>20.0</td>\n",
              "      <td>0.463462</td>\n",
              "    </tr>\n",
              "    <tr>\n",
              "      <th>2</th>\n",
              "      <td>PL2</td>\n",
              "      <td>0.2251</td>\n",
              "      <td>17.0</td>\n",
              "      <td>36.0</td>\n",
              "      <td>0.448418</td>\n",
              "    </tr>\n",
              "  </tbody>\n",
              "</table>\n",
              "</div>\n",
              "      <button class=\"colab-df-convert\" onclick=\"convertToInteractive('df-0fc1c858-c5ed-42fc-bd73-6640b728cccf')\"\n",
              "              title=\"Convert this dataframe to an interactive table.\"\n",
              "              style=\"display:none;\">\n",
              "        \n",
              "  <svg xmlns=\"http://www.w3.org/2000/svg\" height=\"24px\"viewBox=\"0 0 24 24\"\n",
              "       width=\"24px\">\n",
              "    <path d=\"M0 0h24v24H0V0z\" fill=\"none\"/>\n",
              "    <path d=\"M18.56 5.44l.94 2.06.94-2.06 2.06-.94-2.06-.94-.94-2.06-.94 2.06-2.06.94zm-11 1L8.5 8.5l.94-2.06 2.06-.94-2.06-.94L8.5 2.5l-.94 2.06-2.06.94zm10 10l.94 2.06.94-2.06 2.06-.94-2.06-.94-.94-2.06-.94 2.06-2.06.94z\"/><path d=\"M17.41 7.96l-1.37-1.37c-.4-.4-.92-.59-1.43-.59-.52 0-1.04.2-1.43.59L10.3 9.45l-7.72 7.72c-.78.78-.78 2.05 0 2.83L4 21.41c.39.39.9.59 1.41.59.51 0 1.02-.2 1.41-.59l7.78-7.78 2.81-2.81c.8-.78.8-2.07 0-2.86zM5.41 20L4 18.59l7.72-7.72 1.47 1.35L5.41 20z\"/>\n",
              "  </svg>\n",
              "      </button>\n",
              "      \n",
              "  <style>\n",
              "    .colab-df-container {\n",
              "      display:flex;\n",
              "      flex-wrap:wrap;\n",
              "      gap: 12px;\n",
              "    }\n",
              "\n",
              "    .colab-df-convert {\n",
              "      background-color: #E8F0FE;\n",
              "      border: none;\n",
              "      border-radius: 50%;\n",
              "      cursor: pointer;\n",
              "      display: none;\n",
              "      fill: #1967D2;\n",
              "      height: 32px;\n",
              "      padding: 0 0 0 0;\n",
              "      width: 32px;\n",
              "    }\n",
              "\n",
              "    .colab-df-convert:hover {\n",
              "      background-color: #E2EBFA;\n",
              "      box-shadow: 0px 1px 2px rgba(60, 64, 67, 0.3), 0px 1px 3px 1px rgba(60, 64, 67, 0.15);\n",
              "      fill: #174EA6;\n",
              "    }\n",
              "\n",
              "    [theme=dark] .colab-df-convert {\n",
              "      background-color: #3B4455;\n",
              "      fill: #D2E3FC;\n",
              "    }\n",
              "\n",
              "    [theme=dark] .colab-df-convert:hover {\n",
              "      background-color: #434B5C;\n",
              "      box-shadow: 0px 1px 3px 1px rgba(0, 0, 0, 0.15);\n",
              "      filter: drop-shadow(0px 1px 2px rgba(0, 0, 0, 0.3));\n",
              "      fill: #FFFFFF;\n",
              "    }\n",
              "  </style>\n",
              "\n",
              "      <script>\n",
              "        const buttonEl =\n",
              "          document.querySelector('#df-0fc1c858-c5ed-42fc-bd73-6640b728cccf button.colab-df-convert');\n",
              "        buttonEl.style.display =\n",
              "          google.colab.kernel.accessAllowed ? 'block' : 'none';\n",
              "\n",
              "        async function convertToInteractive(key) {\n",
              "          const element = document.querySelector('#df-0fc1c858-c5ed-42fc-bd73-6640b728cccf');\n",
              "          const dataTable =\n",
              "            await google.colab.kernel.invokeFunction('convertToInteractive',\n",
              "                                                     [key], {});\n",
              "          if (!dataTable) return;\n",
              "\n",
              "          const docLinkHtml = 'Like what you see? Visit the ' +\n",
              "            '<a target=\"_blank\" href=https://colab.research.google.com/notebooks/data_table.ipynb>data table notebook</a>'\n",
              "            + ' to learn more about interactive tables.';\n",
              "          element.innerHTML = '';\n",
              "          dataTable['output_type'] = 'display_data';\n",
              "          await google.colab.output.renderOutput(dataTable, element);\n",
              "          const docLink = document.createElement('div');\n",
              "          docLink.innerHTML = docLinkHtml;\n",
              "          element.appendChild(docLink);\n",
              "        }\n",
              "      </script>\n",
              "    </div>\n",
              "  </div>\n",
              "  "
            ]
          },
          "metadata": {},
          "execution_count": 95
        }
      ]
    },
    {
      "cell_type": "markdown",
      "source": [
        "Next I will run the experiment on the 'np' set."
      ],
      "metadata": {
        "id": "UTj9vuQ1xfcH"
      }
    },
    {
      "cell_type": "code",
      "source": [
        "run_experiment_q2('np')"
      ],
      "metadata": {
        "colab": {
          "base_uri": "https://localhost:8080/",
          "height": 143
        },
        "id": "8zfbrUySxooT",
        "outputId": "256a61cf-7e27-487f-c0f9-d8360004b145"
      },
      "execution_count": null,
      "outputs": [
        {
          "output_type": "execute_result",
          "data": {
            "text/plain": [
              "    name     map  map +  map -  map p-value\n",
              "0  TFIDF  0.4477    NaN    NaN          NaN\n",
              "1   BM25  0.4416    6.0   11.0     0.066561\n",
              "2    PL2  0.4392   17.0   20.0     0.654736"
            ],
            "text/html": [
              "\n",
              "  <div id=\"df-b7ddfd8d-ff04-44fc-bb2a-0be264b780fa\">\n",
              "    <div class=\"colab-df-container\">\n",
              "      <div>\n",
              "<style scoped>\n",
              "    .dataframe tbody tr th:only-of-type {\n",
              "        vertical-align: middle;\n",
              "    }\n",
              "\n",
              "    .dataframe tbody tr th {\n",
              "        vertical-align: top;\n",
              "    }\n",
              "\n",
              "    .dataframe thead th {\n",
              "        text-align: right;\n",
              "    }\n",
              "</style>\n",
              "<table border=\"1\" class=\"dataframe\">\n",
              "  <thead>\n",
              "    <tr style=\"text-align: right;\">\n",
              "      <th></th>\n",
              "      <th>name</th>\n",
              "      <th>map</th>\n",
              "      <th>map +</th>\n",
              "      <th>map -</th>\n",
              "      <th>map p-value</th>\n",
              "    </tr>\n",
              "  </thead>\n",
              "  <tbody>\n",
              "    <tr>\n",
              "      <th>0</th>\n",
              "      <td>TFIDF</td>\n",
              "      <td>0.4477</td>\n",
              "      <td>NaN</td>\n",
              "      <td>NaN</td>\n",
              "      <td>NaN</td>\n",
              "    </tr>\n",
              "    <tr>\n",
              "      <th>1</th>\n",
              "      <td>BM25</td>\n",
              "      <td>0.4416</td>\n",
              "      <td>6.0</td>\n",
              "      <td>11.0</td>\n",
              "      <td>0.066561</td>\n",
              "    </tr>\n",
              "    <tr>\n",
              "      <th>2</th>\n",
              "      <td>PL2</td>\n",
              "      <td>0.4392</td>\n",
              "      <td>17.0</td>\n",
              "      <td>20.0</td>\n",
              "      <td>0.654736</td>\n",
              "    </tr>\n",
              "  </tbody>\n",
              "</table>\n",
              "</div>\n",
              "      <button class=\"colab-df-convert\" onclick=\"convertToInteractive('df-b7ddfd8d-ff04-44fc-bb2a-0be264b780fa')\"\n",
              "              title=\"Convert this dataframe to an interactive table.\"\n",
              "              style=\"display:none;\">\n",
              "        \n",
              "  <svg xmlns=\"http://www.w3.org/2000/svg\" height=\"24px\"viewBox=\"0 0 24 24\"\n",
              "       width=\"24px\">\n",
              "    <path d=\"M0 0h24v24H0V0z\" fill=\"none\"/>\n",
              "    <path d=\"M18.56 5.44l.94 2.06.94-2.06 2.06-.94-2.06-.94-.94-2.06-.94 2.06-2.06.94zm-11 1L8.5 8.5l.94-2.06 2.06-.94-2.06-.94L8.5 2.5l-.94 2.06-2.06.94zm10 10l.94 2.06.94-2.06 2.06-.94-2.06-.94-.94-2.06-.94 2.06-2.06.94z\"/><path d=\"M17.41 7.96l-1.37-1.37c-.4-.4-.92-.59-1.43-.59-.52 0-1.04.2-1.43.59L10.3 9.45l-7.72 7.72c-.78.78-.78 2.05 0 2.83L4 21.41c.39.39.9.59 1.41.59.51 0 1.02-.2 1.41-.59l7.78-7.78 2.81-2.81c.8-.78.8-2.07 0-2.86zM5.41 20L4 18.59l7.72-7.72 1.47 1.35L5.41 20z\"/>\n",
              "  </svg>\n",
              "      </button>\n",
              "      \n",
              "  <style>\n",
              "    .colab-df-container {\n",
              "      display:flex;\n",
              "      flex-wrap:wrap;\n",
              "      gap: 12px;\n",
              "    }\n",
              "\n",
              "    .colab-df-convert {\n",
              "      background-color: #E8F0FE;\n",
              "      border: none;\n",
              "      border-radius: 50%;\n",
              "      cursor: pointer;\n",
              "      display: none;\n",
              "      fill: #1967D2;\n",
              "      height: 32px;\n",
              "      padding: 0 0 0 0;\n",
              "      width: 32px;\n",
              "    }\n",
              "\n",
              "    .colab-df-convert:hover {\n",
              "      background-color: #E2EBFA;\n",
              "      box-shadow: 0px 1px 2px rgba(60, 64, 67, 0.3), 0px 1px 3px 1px rgba(60, 64, 67, 0.15);\n",
              "      fill: #174EA6;\n",
              "    }\n",
              "\n",
              "    [theme=dark] .colab-df-convert {\n",
              "      background-color: #3B4455;\n",
              "      fill: #D2E3FC;\n",
              "    }\n",
              "\n",
              "    [theme=dark] .colab-df-convert:hover {\n",
              "      background-color: #434B5C;\n",
              "      box-shadow: 0px 1px 3px 1px rgba(0, 0, 0, 0.15);\n",
              "      filter: drop-shadow(0px 1px 2px rgba(0, 0, 0, 0.3));\n",
              "      fill: #FFFFFF;\n",
              "    }\n",
              "  </style>\n",
              "\n",
              "      <script>\n",
              "        const buttonEl =\n",
              "          document.querySelector('#df-b7ddfd8d-ff04-44fc-bb2a-0be264b780fa button.colab-df-convert');\n",
              "        buttonEl.style.display =\n",
              "          google.colab.kernel.accessAllowed ? 'block' : 'none';\n",
              "\n",
              "        async function convertToInteractive(key) {\n",
              "          const element = document.querySelector('#df-b7ddfd8d-ff04-44fc-bb2a-0be264b780fa');\n",
              "          const dataTable =\n",
              "            await google.colab.kernel.invokeFunction('convertToInteractive',\n",
              "                                                     [key], {});\n",
              "          if (!dataTable) return;\n",
              "\n",
              "          const docLinkHtml = 'Like what you see? Visit the ' +\n",
              "            '<a target=\"_blank\" href=https://colab.research.google.com/notebooks/data_table.ipynb>data table notebook</a>'\n",
              "            + ' to learn more about interactive tables.';\n",
              "          element.innerHTML = '';\n",
              "          dataTable['output_type'] = 'display_data';\n",
              "          await google.colab.output.renderOutput(dataTable, element);\n",
              "          const docLink = document.createElement('div');\n",
              "          docLink.innerHTML = docLinkHtml;\n",
              "          element.appendChild(docLink);\n",
              "        }\n",
              "      </script>\n",
              "    </div>\n",
              "  </div>\n",
              "  "
            ]
          },
          "metadata": {},
          "execution_count": 96
        }
      ]
    },
    {
      "cell_type": "markdown",
      "source": [
        "Finally I will run the experiment on the 'td' set."
      ],
      "metadata": {
        "id": "fLyO7WJwxkSt"
      }
    },
    {
      "cell_type": "code",
      "source": [
        "run_experiment_q2('td')"
      ],
      "metadata": {
        "colab": {
          "base_uri": "https://localhost:8080/",
          "height": 143
        },
        "id": "tUoOG3gRxwhO",
        "outputId": "f4b7da1b-61d2-47be-8e4b-fc207d74675f"
      },
      "execution_count": null,
      "outputs": [
        {
          "output_type": "execute_result",
          "data": {
            "text/plain": [
              "    name     map  map +  map -  map p-value\n",
              "0  TFIDF  0.0698    NaN    NaN          NaN\n",
              "1   BM25  0.0703   26.0   31.0     0.249291\n",
              "2    PL2  0.0695   39.0   36.0     0.862098"
            ],
            "text/html": [
              "\n",
              "  <div id=\"df-28ff8c92-9996-4d6a-9436-9927a716b5f0\">\n",
              "    <div class=\"colab-df-container\">\n",
              "      <div>\n",
              "<style scoped>\n",
              "    .dataframe tbody tr th:only-of-type {\n",
              "        vertical-align: middle;\n",
              "    }\n",
              "\n",
              "    .dataframe tbody tr th {\n",
              "        vertical-align: top;\n",
              "    }\n",
              "\n",
              "    .dataframe thead th {\n",
              "        text-align: right;\n",
              "    }\n",
              "</style>\n",
              "<table border=\"1\" class=\"dataframe\">\n",
              "  <thead>\n",
              "    <tr style=\"text-align: right;\">\n",
              "      <th></th>\n",
              "      <th>name</th>\n",
              "      <th>map</th>\n",
              "      <th>map +</th>\n",
              "      <th>map -</th>\n",
              "      <th>map p-value</th>\n",
              "    </tr>\n",
              "  </thead>\n",
              "  <tbody>\n",
              "    <tr>\n",
              "      <th>0</th>\n",
              "      <td>TFIDF</td>\n",
              "      <td>0.0698</td>\n",
              "      <td>NaN</td>\n",
              "      <td>NaN</td>\n",
              "      <td>NaN</td>\n",
              "    </tr>\n",
              "    <tr>\n",
              "      <th>1</th>\n",
              "      <td>BM25</td>\n",
              "      <td>0.0703</td>\n",
              "      <td>26.0</td>\n",
              "      <td>31.0</td>\n",
              "      <td>0.249291</td>\n",
              "    </tr>\n",
              "    <tr>\n",
              "      <th>2</th>\n",
              "      <td>PL2</td>\n",
              "      <td>0.0695</td>\n",
              "      <td>39.0</td>\n",
              "      <td>36.0</td>\n",
              "      <td>0.862098</td>\n",
              "    </tr>\n",
              "  </tbody>\n",
              "</table>\n",
              "</div>\n",
              "      <button class=\"colab-df-convert\" onclick=\"convertToInteractive('df-28ff8c92-9996-4d6a-9436-9927a716b5f0')\"\n",
              "              title=\"Convert this dataframe to an interactive table.\"\n",
              "              style=\"display:none;\">\n",
              "        \n",
              "  <svg xmlns=\"http://www.w3.org/2000/svg\" height=\"24px\"viewBox=\"0 0 24 24\"\n",
              "       width=\"24px\">\n",
              "    <path d=\"M0 0h24v24H0V0z\" fill=\"none\"/>\n",
              "    <path d=\"M18.56 5.44l.94 2.06.94-2.06 2.06-.94-2.06-.94-.94-2.06-.94 2.06-2.06.94zm-11 1L8.5 8.5l.94-2.06 2.06-.94-2.06-.94L8.5 2.5l-.94 2.06-2.06.94zm10 10l.94 2.06.94-2.06 2.06-.94-2.06-.94-.94-2.06-.94 2.06-2.06.94z\"/><path d=\"M17.41 7.96l-1.37-1.37c-.4-.4-.92-.59-1.43-.59-.52 0-1.04.2-1.43.59L10.3 9.45l-7.72 7.72c-.78.78-.78 2.05 0 2.83L4 21.41c.39.39.9.59 1.41.59.51 0 1.02-.2 1.41-.59l7.78-7.78 2.81-2.81c.8-.78.8-2.07 0-2.86zM5.41 20L4 18.59l7.72-7.72 1.47 1.35L5.41 20z\"/>\n",
              "  </svg>\n",
              "      </button>\n",
              "      \n",
              "  <style>\n",
              "    .colab-df-container {\n",
              "      display:flex;\n",
              "      flex-wrap:wrap;\n",
              "      gap: 12px;\n",
              "    }\n",
              "\n",
              "    .colab-df-convert {\n",
              "      background-color: #E8F0FE;\n",
              "      border: none;\n",
              "      border-radius: 50%;\n",
              "      cursor: pointer;\n",
              "      display: none;\n",
              "      fill: #1967D2;\n",
              "      height: 32px;\n",
              "      padding: 0 0 0 0;\n",
              "      width: 32px;\n",
              "    }\n",
              "\n",
              "    .colab-df-convert:hover {\n",
              "      background-color: #E2EBFA;\n",
              "      box-shadow: 0px 1px 2px rgba(60, 64, 67, 0.3), 0px 1px 3px 1px rgba(60, 64, 67, 0.15);\n",
              "      fill: #174EA6;\n",
              "    }\n",
              "\n",
              "    [theme=dark] .colab-df-convert {\n",
              "      background-color: #3B4455;\n",
              "      fill: #D2E3FC;\n",
              "    }\n",
              "\n",
              "    [theme=dark] .colab-df-convert:hover {\n",
              "      background-color: #434B5C;\n",
              "      box-shadow: 0px 1px 3px 1px rgba(0, 0, 0, 0.15);\n",
              "      filter: drop-shadow(0px 1px 2px rgba(0, 0, 0, 0.3));\n",
              "      fill: #FFFFFF;\n",
              "    }\n",
              "  </style>\n",
              "\n",
              "      <script>\n",
              "        const buttonEl =\n",
              "          document.querySelector('#df-28ff8c92-9996-4d6a-9436-9927a716b5f0 button.colab-df-convert');\n",
              "        buttonEl.style.display =\n",
              "          google.colab.kernel.accessAllowed ? 'block' : 'none';\n",
              "\n",
              "        async function convertToInteractive(key) {\n",
              "          const element = document.querySelector('#df-28ff8c92-9996-4d6a-9436-9927a716b5f0');\n",
              "          const dataTable =\n",
              "            await google.colab.kernel.invokeFunction('convertToInteractive',\n",
              "                                                     [key], {});\n",
              "          if (!dataTable) return;\n",
              "\n",
              "          const docLinkHtml = 'Like what you see? Visit the ' +\n",
              "            '<a target=\"_blank\" href=https://colab.research.google.com/notebooks/data_table.ipynb>data table notebook</a>'\n",
              "            + ' to learn more about interactive tables.';\n",
              "          element.innerHTML = '';\n",
              "          dataTable['output_type'] = 'display_data';\n",
              "          await google.colab.output.renderOutput(dataTable, element);\n",
              "          const docLink = document.createElement('div');\n",
              "          docLink.innerHTML = docLinkHtml;\n",
              "          element.appendChild(docLink);\n",
              "        }\n",
              "      </script>\n",
              "    </div>\n",
              "  </div>\n",
              "  "
            ]
          },
          "metadata": {},
          "execution_count": 15
        }
      ]
    },
    {
      "cell_type": "markdown",
      "source": [
        "Let's create dataframes for topics and qrels that include hp, np, and td."
      ],
      "metadata": {
        "id": "Tzaq0YZG2btQ"
      }
    },
    {
      "cell_type": "code",
      "source": [
        "# create dataframes for each variant's topics\n",
        "hp_topics = pt.get_dataset(\"trec-wt-2004\").get_topics('hp')\n",
        "np_topics = pt.get_dataset(\"trec-wt-2004\").get_topics('np')\n",
        "td_topics = pt.get_dataset(\"trec-wt-2004\").get_topics('td')\n",
        "\n",
        "# create dataframes for each variant's qrels\n",
        "hp_qrels = pt.get_dataset(\"trec-wt-2004\").get_qrels('hp')\n",
        "np_qrels = pt.get_dataset(\"trec-wt-2004\").get_qrels('np')\n",
        "td_qrels = pt.get_dataset(\"trec-wt-2004\").get_qrels('td')\n",
        "\n",
        "# concatenate so that all topic sets are in dataframes together\n",
        "all_topics = pd.concat([hp_topics, np_topics, td_topics])\n",
        "all_qrels = pd.concat([hp_qrels, np_qrels, td_qrels])\n",
        "\n"
      ],
      "metadata": {
        "id": "Q_VB-43L2Smj"
      },
      "execution_count": null,
      "outputs": []
    },
    {
      "cell_type": "markdown",
      "source": [
        "Now we can run the experiment on all three topics combined to retrieve the average MAP across the three topic sets."
      ],
      "metadata": {
        "id": "9El8XjFm4Hqa"
      }
    },
    {
      "cell_type": "code",
      "source": [
        "# run the same MAP experiment, this time across all 3 topic sets\n",
        "pt.Experiment(\n",
        "      [retr_tfidf, retr_bm25, retr_pl2],\n",
        "      all_topics,\n",
        "      all_qrels,\n",
        "      eval_metrics=['map'],\n",
        "      round={\"map\" : 4},\n",
        "      names=[\"TFIDF\", \"BM25\", \"PL2\"],\n",
        "      baseline=0\n",
        "  )"
      ],
      "metadata": {
        "colab": {
          "base_uri": "https://localhost:8080/",
          "height": 143
        },
        "id": "gy2aqGBV4bJ-",
        "outputId": "eea8158b-1a3a-4c08-c2e5-ef720899175e"
      },
      "execution_count": null,
      "outputs": [
        {
          "output_type": "execute_result",
          "data": {
            "text/plain": [
              "    name     map  map +  map -  map p-value\n",
              "0  TFIDF  0.2422    NaN    NaN          NaN\n",
              "1   BM25  0.2435   43.0   62.0     0.770693\n",
              "2    PL2  0.2446   73.0   92.0     0.796196"
            ],
            "text/html": [
              "\n",
              "  <div id=\"df-7928976b-3ac7-4eae-af22-c49bc3559566\">\n",
              "    <div class=\"colab-df-container\">\n",
              "      <div>\n",
              "<style scoped>\n",
              "    .dataframe tbody tr th:only-of-type {\n",
              "        vertical-align: middle;\n",
              "    }\n",
              "\n",
              "    .dataframe tbody tr th {\n",
              "        vertical-align: top;\n",
              "    }\n",
              "\n",
              "    .dataframe thead th {\n",
              "        text-align: right;\n",
              "    }\n",
              "</style>\n",
              "<table border=\"1\" class=\"dataframe\">\n",
              "  <thead>\n",
              "    <tr style=\"text-align: right;\">\n",
              "      <th></th>\n",
              "      <th>name</th>\n",
              "      <th>map</th>\n",
              "      <th>map +</th>\n",
              "      <th>map -</th>\n",
              "      <th>map p-value</th>\n",
              "    </tr>\n",
              "  </thead>\n",
              "  <tbody>\n",
              "    <tr>\n",
              "      <th>0</th>\n",
              "      <td>TFIDF</td>\n",
              "      <td>0.2422</td>\n",
              "      <td>NaN</td>\n",
              "      <td>NaN</td>\n",
              "      <td>NaN</td>\n",
              "    </tr>\n",
              "    <tr>\n",
              "      <th>1</th>\n",
              "      <td>BM25</td>\n",
              "      <td>0.2435</td>\n",
              "      <td>43.0</td>\n",
              "      <td>62.0</td>\n",
              "      <td>0.770693</td>\n",
              "    </tr>\n",
              "    <tr>\n",
              "      <th>2</th>\n",
              "      <td>PL2</td>\n",
              "      <td>0.2446</td>\n",
              "      <td>73.0</td>\n",
              "      <td>92.0</td>\n",
              "      <td>0.796196</td>\n",
              "    </tr>\n",
              "  </tbody>\n",
              "</table>\n",
              "</div>\n",
              "      <button class=\"colab-df-convert\" onclick=\"convertToInteractive('df-7928976b-3ac7-4eae-af22-c49bc3559566')\"\n",
              "              title=\"Convert this dataframe to an interactive table.\"\n",
              "              style=\"display:none;\">\n",
              "        \n",
              "  <svg xmlns=\"http://www.w3.org/2000/svg\" height=\"24px\"viewBox=\"0 0 24 24\"\n",
              "       width=\"24px\">\n",
              "    <path d=\"M0 0h24v24H0V0z\" fill=\"none\"/>\n",
              "    <path d=\"M18.56 5.44l.94 2.06.94-2.06 2.06-.94-2.06-.94-.94-2.06-.94 2.06-2.06.94zm-11 1L8.5 8.5l.94-2.06 2.06-.94-2.06-.94L8.5 2.5l-.94 2.06-2.06.94zm10 10l.94 2.06.94-2.06 2.06-.94-2.06-.94-.94-2.06-.94 2.06-2.06.94z\"/><path d=\"M17.41 7.96l-1.37-1.37c-.4-.4-.92-.59-1.43-.59-.52 0-1.04.2-1.43.59L10.3 9.45l-7.72 7.72c-.78.78-.78 2.05 0 2.83L4 21.41c.39.39.9.59 1.41.59.51 0 1.02-.2 1.41-.59l7.78-7.78 2.81-2.81c.8-.78.8-2.07 0-2.86zM5.41 20L4 18.59l7.72-7.72 1.47 1.35L5.41 20z\"/>\n",
              "  </svg>\n",
              "      </button>\n",
              "      \n",
              "  <style>\n",
              "    .colab-df-container {\n",
              "      display:flex;\n",
              "      flex-wrap:wrap;\n",
              "      gap: 12px;\n",
              "    }\n",
              "\n",
              "    .colab-df-convert {\n",
              "      background-color: #E8F0FE;\n",
              "      border: none;\n",
              "      border-radius: 50%;\n",
              "      cursor: pointer;\n",
              "      display: none;\n",
              "      fill: #1967D2;\n",
              "      height: 32px;\n",
              "      padding: 0 0 0 0;\n",
              "      width: 32px;\n",
              "    }\n",
              "\n",
              "    .colab-df-convert:hover {\n",
              "      background-color: #E2EBFA;\n",
              "      box-shadow: 0px 1px 2px rgba(60, 64, 67, 0.3), 0px 1px 3px 1px rgba(60, 64, 67, 0.15);\n",
              "      fill: #174EA6;\n",
              "    }\n",
              "\n",
              "    [theme=dark] .colab-df-convert {\n",
              "      background-color: #3B4455;\n",
              "      fill: #D2E3FC;\n",
              "    }\n",
              "\n",
              "    [theme=dark] .colab-df-convert:hover {\n",
              "      background-color: #434B5C;\n",
              "      box-shadow: 0px 1px 3px 1px rgba(0, 0, 0, 0.15);\n",
              "      filter: drop-shadow(0px 1px 2px rgba(0, 0, 0, 0.3));\n",
              "      fill: #FFFFFF;\n",
              "    }\n",
              "  </style>\n",
              "\n",
              "      <script>\n",
              "        const buttonEl =\n",
              "          document.querySelector('#df-7928976b-3ac7-4eae-af22-c49bc3559566 button.colab-df-convert');\n",
              "        buttonEl.style.display =\n",
              "          google.colab.kernel.accessAllowed ? 'block' : 'none';\n",
              "\n",
              "        async function convertToInteractive(key) {\n",
              "          const element = document.querySelector('#df-7928976b-3ac7-4eae-af22-c49bc3559566');\n",
              "          const dataTable =\n",
              "            await google.colab.kernel.invokeFunction('convertToInteractive',\n",
              "                                                     [key], {});\n",
              "          if (!dataTable) return;\n",
              "\n",
              "          const docLinkHtml = 'Like what you see? Visit the ' +\n",
              "            '<a target=\"_blank\" href=https://colab.research.google.com/notebooks/data_table.ipynb>data table notebook</a>'\n",
              "            + ' to learn more about interactive tables.';\n",
              "          element.innerHTML = '';\n",
              "          dataTable['output_type'] = 'display_data';\n",
              "          await google.colab.output.renderOutput(dataTable, element);\n",
              "          const docLink = document.createElement('div');\n",
              "          docLink.innerHTML = docLinkHtml;\n",
              "          element.appendChild(docLink);\n",
              "        }\n",
              "      </script>\n",
              "    </div>\n",
              "  </div>\n",
              "  "
            ]
          },
          "metadata": {},
          "execution_count": 98
        }
      ]
    },
    {
      "cell_type": "markdown",
      "metadata": {
        "id": "VbIV9xcFe586"
      },
      "source": [
        "#Q2(b)\n",
        "\n",
        "Question 2(b) is concerned with drawing interpolated recall precision graphs, each comparing TFIDF, BM25 and PL2, allowing you to answer the corresponding quiz questions. You will need to use the `\"iprec_at_recall\"` measure. In each graph, you should have three curves, respectively, addressing the \"hp\", \"np\", and \"td\" topic sets.\n",
        "\n",
        "*Hint*: Matplotlib has a [`savefig()`](https://chartio.com/resources/tutorials/how-to-save-a-plot-to-a-file-using-matplotlib/#the-savefig-method) function for saving a PNG of a figure."
      ]
    },
    {
      "cell_type": "markdown",
      "source": [
        "Function to retrieve iprec_at_recall dataframes for each topic set."
      ],
      "metadata": {
        "id": "O7sz-ZYQmks5"
      }
    },
    {
      "cell_type": "code",
      "metadata": {
        "id": "eDRQw-hQIyvc"
      },
      "source": [
        "# this function will retrieve the iprec at recall values for the given topic set\n",
        "def get_iprec_at_recall(topic_set):\n",
        "    return pt.Experiment(\n",
        "        [retr_tfidf, retr_bm25, retr_pl2],\n",
        "        pt.get_dataset(\"trec-wt-2004\").get_topics(topic_set),\n",
        "        pt.get_dataset(\"trec-wt-2004\").get_qrels(topic_set),\n",
        "        eval_metrics=['iprec_at_recall'],\n",
        "        names=[\"TFIDF\", \"BM25\", \"PL2\"]\n",
        "    )\n",
        "\n",
        "# call the iprec_at_recall function on each topic set, saving the resulting dataframe\n",
        "hp_iprec_recall = get_iprec_at_recall('hp')\n",
        "np_iprec_recall = get_iprec_at_recall('np')\n",
        "td_iprec_recall = get_iprec_at_recall('td')\n"
      ],
      "execution_count": null,
      "outputs": []
    },
    {
      "cell_type": "markdown",
      "source": [
        "Create the HP graph."
      ],
      "metadata": {
        "id": "09skQZMrmoJe"
      }
    },
    {
      "cell_type": "code",
      "source": [
        "import matplotlib.pyplot as plt\n",
        "import numpy as np\n",
        "\n",
        "# create x-axis list incremented by 0.1\n",
        "x = np.arange(0.0, 1.1, 0.1).tolist()\n",
        "# save the values for each of the three weighting models\n",
        "hp_tfidf = hp_iprec_recall.loc[0, :].values.tolist()[1:]\n",
        "hp_bm25 = hp_iprec_recall.loc[1, :].values.tolist()[1:]\n",
        "hp_pl2 = hp_iprec_recall.loc[2, :].values.tolist()[1:]\n",
        "\n",
        "# create the plot\n",
        "plt.plot(x, hp_tfidf, label = \"TFIDF\")\n",
        "plt.plot(x, hp_bm25, label = \"BM25\")\n",
        "plt.plot(x, hp_pl2, label = \"PL2\")\n",
        "plt.xlabel(\"Recall\")\n",
        "plt.ylabel(\"Precision\")\n",
        "plt.title(\"HP Interpolated Precision Recall\")\n",
        "plt.legend()\n",
        "plt.savefig(\"hp_ipr.png\")"
      ],
      "metadata": {
        "colab": {
          "base_uri": "https://localhost:8080/",
          "height": 295
        },
        "id": "G3M7WXlljUHN",
        "outputId": "100423dd-d109-49c1-e2c3-017da209fac4"
      },
      "execution_count": null,
      "outputs": [
        {
          "output_type": "display_data",
          "data": {
            "text/plain": [
              "<Figure size 432x288 with 1 Axes>"
            ],
            "image/png": "[encoded data removed]"
          },
          "metadata": {
            "needs_background": "light"
          }
        }
      ]
    },
    {
      "cell_type": "markdown",
      "source": [
        "Here is the full iprec_recall dataframe for 'hp':\n"
      ],
      "metadata": {
        "id": "aWse1fBlteis"
      }
    },
    {
      "cell_type": "code",
      "source": [
        "hp_iprec_recall"
      ],
      "metadata": {
        "colab": {
          "base_uri": "https://localhost:8080/",
          "height": 143
        },
        "id": "lMwZFvOftgwq",
        "outputId": "08f4ec8d-12be-4fd7-8c00-e6fa1e4e1c49"
      },
      "execution_count": null,
      "outputs": [
        {
          "output_type": "execute_result",
          "data": {
            "text/plain": [
              "    name  IPrec@0.0  IPrec@0.1  IPrec@0.2  IPrec@0.3  IPrec@0.4  IPrec@0.5  \\\n",
              "0  TFIDF   0.213123   0.213123   0.213123   0.213123   0.213123   0.213123   \n",
              "1   BM25   0.222756   0.222756   0.222756   0.222756   0.222756   0.222756   \n",
              "2    PL2   0.229183   0.229183   0.229183   0.229183   0.229183   0.229183   \n",
              "\n",
              "   IPrec@0.6  IPrec@0.7  IPrec@0.8  IPrec@0.9  IPrec@1.0  \n",
              "0   0.206457   0.206457   0.206457   0.206457   0.206457  \n",
              "1   0.216090   0.216090   0.216090   0.216090   0.216090  \n",
              "2   0.222516   0.222516   0.222516   0.222516   0.222516  "
            ],
            "text/html": [
              "\n",
              "  <div id=\"df-5469a1ed-e31d-4adf-a191-cebc35dadd7b\">\n",
              "    <div class=\"colab-df-container\">\n",
              "      <div>\n",
              "<style scoped>\n",
              "    .dataframe tbody tr th:only-of-type {\n",
              "        vertical-align: middle;\n",
              "    }\n",
              "\n",
              "    .dataframe tbody tr th {\n",
              "        vertical-align: top;\n",
              "    }\n",
              "\n",
              "    .dataframe thead th {\n",
              "        text-align: right;\n",
              "    }\n",
              "</style>\n",
              "<table border=\"1\" class=\"dataframe\">\n",
              "  <thead>\n",
              "    <tr style=\"text-align: right;\">\n",
              "      <th></th>\n",
              "      <th>name</th>\n",
              "      <th>IPrec@0.0</th>\n",
              "      <th>IPrec@0.1</th>\n",
              "      <th>IPrec@0.2</th>\n",
              "      <th>IPrec@0.3</th>\n",
              "      <th>IPrec@0.4</th>\n",
              "      <th>IPrec@0.5</th>\n",
              "      <th>IPrec@0.6</th>\n",
              "      <th>IPrec@0.7</th>\n",
              "      <th>IPrec@0.8</th>\n",
              "      <th>IPrec@0.9</th>\n",
              "      <th>IPrec@1.0</th>\n",
              "    </tr>\n",
              "  </thead>\n",
              "  <tbody>\n",
              "    <tr>\n",
              "      <th>0</th>\n",
              "      <td>TFIDF</td>\n",
              "      <td>0.213123</td>\n",
              "      <td>0.213123</td>\n",
              "      <td>0.213123</td>\n",
              "      <td>0.213123</td>\n",
              "      <td>0.213123</td>\n",
              "      <td>0.213123</td>\n",
              "      <td>0.206457</td>\n",
              "      <td>0.206457</td>\n",
              "      <td>0.206457</td>\n",
              "      <td>0.206457</td>\n",
              "      <td>0.206457</td>\n",
              "    </tr>\n",
              "    <tr>\n",
              "      <th>1</th>\n",
              "      <td>BM25</td>\n",
              "      <td>0.222756</td>\n",
              "      <td>0.222756</td>\n",
              "      <td>0.222756</td>\n",
              "      <td>0.222756</td>\n",
              "      <td>0.222756</td>\n",
              "      <td>0.222756</td>\n",
              "      <td>0.216090</td>\n",
              "      <td>0.216090</td>\n",
              "      <td>0.216090</td>\n",
              "      <td>0.216090</td>\n",
              "      <td>0.216090</td>\n",
              "    </tr>\n",
              "    <tr>\n",
              "      <th>2</th>\n",
              "      <td>PL2</td>\n",
              "      <td>0.229183</td>\n",
              "      <td>0.229183</td>\n",
              "      <td>0.229183</td>\n",
              "      <td>0.229183</td>\n",
              "      <td>0.229183</td>\n",
              "      <td>0.229183</td>\n",
              "      <td>0.222516</td>\n",
              "      <td>0.222516</td>\n",
              "      <td>0.222516</td>\n",
              "      <td>0.222516</td>\n",
              "      <td>0.222516</td>\n",
              "    </tr>\n",
              "  </tbody>\n",
              "</table>\n",
              "</div>\n",
              "      <button class=\"colab-df-convert\" onclick=\"convertToInteractive('df-5469a1ed-e31d-4adf-a191-cebc35dadd7b')\"\n",
              "              title=\"Convert this dataframe to an interactive table.\"\n",
              "              style=\"display:none;\">\n",
              "        \n",
              "  <svg xmlns=\"http://www.w3.org/2000/svg\" height=\"24px\"viewBox=\"0 0 24 24\"\n",
              "       width=\"24px\">\n",
              "    <path d=\"M0 0h24v24H0V0z\" fill=\"none\"/>\n",
              "    <path d=\"M18.56 5.44l.94 2.06.94-2.06 2.06-.94-2.06-.94-.94-2.06-.94 2.06-2.06.94zm-11 1L8.5 8.5l.94-2.06 2.06-.94-2.06-.94L8.5 2.5l-.94 2.06-2.06.94zm10 10l.94 2.06.94-2.06 2.06-.94-2.06-.94-.94-2.06-.94 2.06-2.06.94z\"/><path d=\"M17.41 7.96l-1.37-1.37c-.4-.4-.92-.59-1.43-.59-.52 0-1.04.2-1.43.59L10.3 9.45l-7.72 7.72c-.78.78-.78 2.05 0 2.83L4 21.41c.39.39.9.59 1.41.59.51 0 1.02-.2 1.41-.59l7.78-7.78 2.81-2.81c.8-.78.8-2.07 0-2.86zM5.41 20L4 18.59l7.72-7.72 1.47 1.35L5.41 20z\"/>\n",
              "  </svg>\n",
              "      </button>\n",
              "      \n",
              "  <style>\n",
              "    .colab-df-container {\n",
              "      display:flex;\n",
              "      flex-wrap:wrap;\n",
              "      gap: 12px;\n",
              "    }\n",
              "\n",
              "    .colab-df-convert {\n",
              "      background-color: #E8F0FE;\n",
              "      border: none;\n",
              "      border-radius: 50%;\n",
              "      cursor: pointer;\n",
              "      display: none;\n",
              "      fill: #1967D2;\n",
              "      height: 32px;\n",
              "      padding: 0 0 0 0;\n",
              "      width: 32px;\n",
              "    }\n",
              "\n",
              "    .colab-df-convert:hover {\n",
              "      background-color: #E2EBFA;\n",
              "      box-shadow: 0px 1px 2px rgba(60, 64, 67, 0.3), 0px 1px 3px 1px rgba(60, 64, 67, 0.15);\n",
              "      fill: #174EA6;\n",
              "    }\n",
              "\n",
              "    [theme=dark] .colab-df-convert {\n",
              "      background-color: #3B4455;\n",
              "      fill: #D2E3FC;\n",
              "    }\n",
              "\n",
              "    [theme=dark] .colab-df-convert:hover {\n",
              "      background-color: #434B5C;\n",
              "      box-shadow: 0px 1px 3px 1px rgba(0, 0, 0, 0.15);\n",
              "      filter: drop-shadow(0px 1px 2px rgba(0, 0, 0, 0.3));\n",
              "      fill: #FFFFFF;\n",
              "    }\n",
              "  </style>\n",
              "\n",
              "      <script>\n",
              "        const buttonEl =\n",
              "          document.querySelector('#df-5469a1ed-e31d-4adf-a191-cebc35dadd7b button.colab-df-convert');\n",
              "        buttonEl.style.display =\n",
              "          google.colab.kernel.accessAllowed ? 'block' : 'none';\n",
              "\n",
              "        async function convertToInteractive(key) {\n",
              "          const element = document.querySelector('#df-5469a1ed-e31d-4adf-a191-cebc35dadd7b');\n",
              "          const dataTable =\n",
              "            await google.colab.kernel.invokeFunction('convertToInteractive',\n",
              "                                                     [key], {});\n",
              "          if (!dataTable) return;\n",
              "\n",
              "          const docLinkHtml = 'Like what you see? Visit the ' +\n",
              "            '<a target=\"_blank\" href=https://colab.research.google.com/notebooks/data_table.ipynb>data table notebook</a>'\n",
              "            + ' to learn more about interactive tables.';\n",
              "          element.innerHTML = '';\n",
              "          dataTable['output_type'] = 'display_data';\n",
              "          await google.colab.output.renderOutput(dataTable, element);\n",
              "          const docLink = document.createElement('div');\n",
              "          docLink.innerHTML = docLinkHtml;\n",
              "          element.appendChild(docLink);\n",
              "        }\n",
              "      </script>\n",
              "    </div>\n",
              "  </div>\n",
              "  "
            ]
          },
          "metadata": {},
          "execution_count": 101
        }
      ]
    },
    {
      "cell_type": "markdown",
      "source": [
        "Create the NP Graph.\n"
      ],
      "metadata": {
        "id": "v3GnRUoDgXw9"
      }
    },
    {
      "cell_type": "code",
      "source": [
        "# save the values for each of the 3 weighting models\n",
        "np_tfidf = np_iprec_recall.loc[0, :].values.tolist()[1:]\n",
        "np_bm25 = np_iprec_recall.loc[1, :].values.tolist()[1:]\n",
        "np_pl2 = np_iprec_recall.loc[2, :].values.tolist()[1:]\n",
        "\n",
        "# create the tfidf plot\n",
        "plt.plot(x, np_tfidf, label = \"TFIDF\")\n",
        "plt.plot(x, np_bm25, label = \"BM25\")\n",
        "plt.plot(x, np_pl2, label = \"PL2\")\n",
        "plt.xlabel(\"Recall\")\n",
        "plt.ylabel(\"Precision\")\n",
        "plt.title(\"NP Interpolated Precision Recall\")\n",
        "plt.legend()\n",
        "plt.savefig(\"np_ipr.png\")"
      ],
      "metadata": {
        "colab": {
          "base_uri": "https://localhost:8080/",
          "height": 295
        },
        "id": "fEkkR62wmvkG",
        "outputId": "d39fe04a-27af-4336-cb40-70286da85ac3"
      },
      "execution_count": null,
      "outputs": [
        {
          "output_type": "display_data",
          "data": {
            "text/plain": [
              "<Figure size 432x288 with 1 Axes>"
            ],
            "image/png": "[encoded data removed]"
          },
          "metadata": {
            "needs_background": "light"
          }
        }
      ]
    },
    {
      "cell_type": "markdown",
      "source": [
        "Here is the full iprec_recall dataframe for 'np':"
      ],
      "metadata": {
        "id": "jU98uWEHm6Fc"
      }
    },
    {
      "cell_type": "code",
      "source": [
        "np_iprec_recall"
      ],
      "metadata": {
        "colab": {
          "base_uri": "https://localhost:8080/",
          "height": 143
        },
        "id": "O0g6irAowUpR",
        "outputId": "f0b5adaf-ae07-4040-a588-c001740f10b1"
      },
      "execution_count": null,
      "outputs": [
        {
          "output_type": "execute_result",
          "data": {
            "text/plain": [
              "    name  IPrec@0.0  IPrec@0.1  IPrec@0.2  IPrec@0.3  IPrec@0.4  IPrec@0.5  \\\n",
              "0  TFIDF   0.449847   0.449847   0.449847   0.449847   0.449847   0.449847   \n",
              "1   BM25   0.443682   0.443682   0.443682   0.443682   0.443682   0.443682   \n",
              "2    PL2   0.443162   0.443162   0.443162   0.443162   0.443162   0.443162   \n",
              "\n",
              "   IPrec@0.6  IPrec@0.7  IPrec@0.8  IPrec@0.9  IPrec@1.0  \n",
              "0   0.446609   0.446609   0.446609   0.446609   0.446609  \n",
              "1   0.440296   0.440296   0.440296   0.440296   0.440296  \n",
              "2   0.436496   0.436496   0.436496   0.436496   0.436496  "
            ],
            "text/html": [
              "\n",
              "  <div id=\"df-0a3a4da9-536c-4fc4-ac76-b06a02101538\">\n",
              "    <div class=\"colab-df-container\">\n",
              "      <div>\n",
              "<style scoped>\n",
              "    .dataframe tbody tr th:only-of-type {\n",
              "        vertical-align: middle;\n",
              "    }\n",
              "\n",
              "    .dataframe tbody tr th {\n",
              "        vertical-align: top;\n",
              "    }\n",
              "\n",
              "    .dataframe thead th {\n",
              "        text-align: right;\n",
              "    }\n",
              "</style>\n",
              "<table border=\"1\" class=\"dataframe\">\n",
              "  <thead>\n",
              "    <tr style=\"text-align: right;\">\n",
              "      <th></th>\n",
              "      <th>name</th>\n",
              "      <th>IPrec@0.0</th>\n",
              "      <th>IPrec@0.1</th>\n",
              "      <th>IPrec@0.2</th>\n",
              "      <th>IPrec@0.3</th>\n",
              "      <th>IPrec@0.4</th>\n",
              "      <th>IPrec@0.5</th>\n",
              "      <th>IPrec@0.6</th>\n",
              "      <th>IPrec@0.7</th>\n",
              "      <th>IPrec@0.8</th>\n",
              "      <th>IPrec@0.9</th>\n",
              "      <th>IPrec@1.0</th>\n",
              "    </tr>\n",
              "  </thead>\n",
              "  <tbody>\n",
              "    <tr>\n",
              "      <th>0</th>\n",
              "      <td>TFIDF</td>\n",
              "      <td>0.449847</td>\n",
              "      <td>0.449847</td>\n",
              "      <td>0.449847</td>\n",
              "      <td>0.449847</td>\n",
              "      <td>0.449847</td>\n",
              "      <td>0.449847</td>\n",
              "      <td>0.446609</td>\n",
              "      <td>0.446609</td>\n",
              "      <td>0.446609</td>\n",
              "      <td>0.446609</td>\n",
              "      <td>0.446609</td>\n",
              "    </tr>\n",
              "    <tr>\n",
              "      <th>1</th>\n",
              "      <td>BM25</td>\n",
              "      <td>0.443682</td>\n",
              "      <td>0.443682</td>\n",
              "      <td>0.443682</td>\n",
              "      <td>0.443682</td>\n",
              "      <td>0.443682</td>\n",
              "      <td>0.443682</td>\n",
              "      <td>0.440296</td>\n",
              "      <td>0.440296</td>\n",
              "      <td>0.440296</td>\n",
              "      <td>0.440296</td>\n",
              "      <td>0.440296</td>\n",
              "    </tr>\n",
              "    <tr>\n",
              "      <th>2</th>\n",
              "      <td>PL2</td>\n",
              "      <td>0.443162</td>\n",
              "      <td>0.443162</td>\n",
              "      <td>0.443162</td>\n",
              "      <td>0.443162</td>\n",
              "      <td>0.443162</td>\n",
              "      <td>0.443162</td>\n",
              "      <td>0.436496</td>\n",
              "      <td>0.436496</td>\n",
              "      <td>0.436496</td>\n",
              "      <td>0.436496</td>\n",
              "      <td>0.436496</td>\n",
              "    </tr>\n",
              "  </tbody>\n",
              "</table>\n",
              "</div>\n",
              "      <button class=\"colab-df-convert\" onclick=\"convertToInteractive('df-0a3a4da9-536c-4fc4-ac76-b06a02101538')\"\n",
              "              title=\"Convert this dataframe to an interactive table.\"\n",
              "              style=\"display:none;\">\n",
              "        \n",
              "  <svg xmlns=\"http://www.w3.org/2000/svg\" height=\"24px\"viewBox=\"0 0 24 24\"\n",
              "       width=\"24px\">\n",
              "    <path d=\"M0 0h24v24H0V0z\" fill=\"none\"/>\n",
              "    <path d=\"M18.56 5.44l.94 2.06.94-2.06 2.06-.94-2.06-.94-.94-2.06-.94 2.06-2.06.94zm-11 1L8.5 8.5l.94-2.06 2.06-.94-2.06-.94L8.5 2.5l-.94 2.06-2.06.94zm10 10l.94 2.06.94-2.06 2.06-.94-2.06-.94-.94-2.06-.94 2.06-2.06.94z\"/><path d=\"M17.41 7.96l-1.37-1.37c-.4-.4-.92-.59-1.43-.59-.52 0-1.04.2-1.43.59L10.3 9.45l-7.72 7.72c-.78.78-.78 2.05 0 2.83L4 21.41c.39.39.9.59 1.41.59.51 0 1.02-.2 1.41-.59l7.78-7.78 2.81-2.81c.8-.78.8-2.07 0-2.86zM5.41 20L4 18.59l7.72-7.72 1.47 1.35L5.41 20z\"/>\n",
              "  </svg>\n",
              "      </button>\n",
              "      \n",
              "  <style>\n",
              "    .colab-df-container {\n",
              "      display:flex;\n",
              "      flex-wrap:wrap;\n",
              "      gap: 12px;\n",
              "    }\n",
              "\n",
              "    .colab-df-convert {\n",
              "      background-color: #E8F0FE;\n",
              "      border: none;\n",
              "      border-radius: 50%;\n",
              "      cursor: pointer;\n",
              "      display: none;\n",
              "      fill: #1967D2;\n",
              "      height: 32px;\n",
              "      padding: 0 0 0 0;\n",
              "      width: 32px;\n",
              "    }\n",
              "\n",
              "    .colab-df-convert:hover {\n",
              "      background-color: #E2EBFA;\n",
              "      box-shadow: 0px 1px 2px rgba(60, 64, 67, 0.3), 0px 1px 3px 1px rgba(60, 64, 67, 0.15);\n",
              "      fill: #174EA6;\n",
              "    }\n",
              "\n",
              "    [theme=dark] .colab-df-convert {\n",
              "      background-color: #3B4455;\n",
              "      fill: #D2E3FC;\n",
              "    }\n",
              "\n",
              "    [theme=dark] .colab-df-convert:hover {\n",
              "      background-color: #434B5C;\n",
              "      box-shadow: 0px 1px 3px 1px rgba(0, 0, 0, 0.15);\n",
              "      filter: drop-shadow(0px 1px 2px rgba(0, 0, 0, 0.3));\n",
              "      fill: #FFFFFF;\n",
              "    }\n",
              "  </style>\n",
              "\n",
              "      <script>\n",
              "        const buttonEl =\n",
              "          document.querySelector('#df-0a3a4da9-536c-4fc4-ac76-b06a02101538 button.colab-df-convert');\n",
              "        buttonEl.style.display =\n",
              "          google.colab.kernel.accessAllowed ? 'block' : 'none';\n",
              "\n",
              "        async function convertToInteractive(key) {\n",
              "          const element = document.querySelector('#df-0a3a4da9-536c-4fc4-ac76-b06a02101538');\n",
              "          const dataTable =\n",
              "            await google.colab.kernel.invokeFunction('convertToInteractive',\n",
              "                                                     [key], {});\n",
              "          if (!dataTable) return;\n",
              "\n",
              "          const docLinkHtml = 'Like what you see? Visit the ' +\n",
              "            '<a target=\"_blank\" href=https://colab.research.google.com/notebooks/data_table.ipynb>data table notebook</a>'\n",
              "            + ' to learn more about interactive tables.';\n",
              "          element.innerHTML = '';\n",
              "          dataTable['output_type'] = 'display_data';\n",
              "          await google.colab.output.renderOutput(dataTable, element);\n",
              "          const docLink = document.createElement('div');\n",
              "          docLink.innerHTML = docLinkHtml;\n",
              "          element.appendChild(docLink);\n",
              "        }\n",
              "      </script>\n",
              "    </div>\n",
              "  </div>\n",
              "  "
            ]
          },
          "metadata": {},
          "execution_count": 22
        }
      ]
    },
    {
      "cell_type": "markdown",
      "source": [
        "And finally, the TD graph."
      ],
      "metadata": {
        "id": "6MhkNcEnoIFT"
      }
    },
    {
      "cell_type": "code",
      "source": [
        "# save the values for each of the 3 weighting models\n",
        "td_tfidf = td_iprec_recall.loc[0, :].values.tolist()[1:]\n",
        "td_bm25 = td_iprec_recall.loc[1, :].values.tolist()[1:]\n",
        "td_pl2 = td_iprec_recall.loc[2, :].values.tolist()[1:]\n",
        "\n",
        "# create the plot\n",
        "plt.plot(x, td_tfidf, label = \"TFIDF\")\n",
        "plt.plot(x, td_bm25, label = \"BM25\")\n",
        "plt.plot(x, td_pl2, label = \"PL2\")\n",
        "plt.xlabel(\"Recall\")\n",
        "plt.ylabel(\"Precision\")\n",
        "plt.title(\"TD Interpolated Precision Recall\")\n",
        "plt.legend()\n",
        "plt.savefig(\"td_ipr.png\")"
      ],
      "metadata": {
        "colab": {
          "base_uri": "https://localhost:8080/",
          "height": 295
        },
        "id": "pZemFIq2oHyl",
        "outputId": "2d9f995c-4e95-45eb-83c7-81cf6ebea866"
      },
      "execution_count": null,
      "outputs": [
        {
          "output_type": "display_data",
          "data": {
            "text/plain": [
              "<Figure size 432x288 with 1 Axes>"
            ],
            "image/png": "[encoded data removed]"
          },
          "metadata": {
            "needs_background": "light"
          }
        }
      ]
    },
    {
      "cell_type": "markdown",
      "source": [
        "Here is the full iprec_recall dataframe for 'td':"
      ],
      "metadata": {
        "id": "64WIIApGm8Gt"
      }
    },
    {
      "cell_type": "code",
      "source": [
        "td_iprec_recall"
      ],
      "metadata": {
        "colab": {
          "base_uri": "https://localhost:8080/",
          "height": 143
        },
        "id": "JqmBsLkrw1ot",
        "outputId": "e469cf41-224e-496e-b26a-39a7ade49f7a"
      },
      "execution_count": null,
      "outputs": [
        {
          "output_type": "execute_result",
          "data": {
            "text/plain": [
              "    name  IPrec@0.0  IPrec@0.1  IPrec@0.2  IPrec@0.3  IPrec@0.4  IPrec@0.5  \\\n",
              "0  TFIDF   0.276114   0.175919   0.128181   0.101728   0.086377   0.057259   \n",
              "1   BM25   0.274648   0.176544   0.128443   0.103514   0.087262   0.058282   \n",
              "2    PL2   0.270838   0.164414   0.124698   0.106343   0.087748   0.058264   \n",
              "\n",
              "   IPrec@0.6  IPrec@0.7  IPrec@0.8  IPrec@0.9  IPrec@1.0  \n",
              "0   0.041509   0.024809   0.012481   0.006777   0.005552  \n",
              "1   0.042106   0.025099   0.012327   0.006695   0.005591  \n",
              "2   0.043410   0.027931   0.012583   0.006585   0.005594  "
            ],
            "text/html": [
              "\n",
              "  <div id=\"df-83724cd6-15a9-43f8-aebb-9da74306fb1f\">\n",
              "    <div class=\"colab-df-container\">\n",
              "      <div>\n",
              "<style scoped>\n",
              "    .dataframe tbody tr th:only-of-type {\n",
              "        vertical-align: middle;\n",
              "    }\n",
              "\n",
              "    .dataframe tbody tr th {\n",
              "        vertical-align: top;\n",
              "    }\n",
              "\n",
              "    .dataframe thead th {\n",
              "        text-align: right;\n",
              "    }\n",
              "</style>\n",
              "<table border=\"1\" class=\"dataframe\">\n",
              "  <thead>\n",
              "    <tr style=\"text-align: right;\">\n",
              "      <th></th>\n",
              "      <th>name</th>\n",
              "      <th>IPrec@0.0</th>\n",
              "      <th>IPrec@0.1</th>\n",
              "      <th>IPrec@0.2</th>\n",
              "      <th>IPrec@0.3</th>\n",
              "      <th>IPrec@0.4</th>\n",
              "      <th>IPrec@0.5</th>\n",
              "      <th>IPrec@0.6</th>\n",
              "      <th>IPrec@0.7</th>\n",
              "      <th>IPrec@0.8</th>\n",
              "      <th>IPrec@0.9</th>\n",
              "      <th>IPrec@1.0</th>\n",
              "    </tr>\n",
              "  </thead>\n",
              "  <tbody>\n",
              "    <tr>\n",
              "      <th>0</th>\n",
              "      <td>TFIDF</td>\n",
              "      <td>0.276114</td>\n",
              "      <td>0.175919</td>\n",
              "      <td>0.128181</td>\n",
              "      <td>0.101728</td>\n",
              "      <td>0.086377</td>\n",
              "      <td>0.057259</td>\n",
              "      <td>0.041509</td>\n",
              "      <td>0.024809</td>\n",
              "      <td>0.012481</td>\n",
              "      <td>0.006777</td>\n",
              "      <td>0.005552</td>\n",
              "    </tr>\n",
              "    <tr>\n",
              "      <th>1</th>\n",
              "      <td>BM25</td>\n",
              "      <td>0.274648</td>\n",
              "      <td>0.176544</td>\n",
              "      <td>0.128443</td>\n",
              "      <td>0.103514</td>\n",
              "      <td>0.087262</td>\n",
              "      <td>0.058282</td>\n",
              "      <td>0.042106</td>\n",
              "      <td>0.025099</td>\n",
              "      <td>0.012327</td>\n",
              "      <td>0.006695</td>\n",
              "      <td>0.005591</td>\n",
              "    </tr>\n",
              "    <tr>\n",
              "      <th>2</th>\n",
              "      <td>PL2</td>\n",
              "      <td>0.270838</td>\n",
              "      <td>0.164414</td>\n",
              "      <td>0.124698</td>\n",
              "      <td>0.106343</td>\n",
              "      <td>0.087748</td>\n",
              "      <td>0.058264</td>\n",
              "      <td>0.043410</td>\n",
              "      <td>0.027931</td>\n",
              "      <td>0.012583</td>\n",
              "      <td>0.006585</td>\n",
              "      <td>0.005594</td>\n",
              "    </tr>\n",
              "  </tbody>\n",
              "</table>\n",
              "</div>\n",
              "      <button class=\"colab-df-convert\" onclick=\"convertToInteractive('df-83724cd6-15a9-43f8-aebb-9da74306fb1f')\"\n",
              "              title=\"Convert this dataframe to an interactive table.\"\n",
              "              style=\"display:none;\">\n",
              "        \n",
              "  <svg xmlns=\"http://www.w3.org/2000/svg\" height=\"24px\"viewBox=\"0 0 24 24\"\n",
              "       width=\"24px\">\n",
              "    <path d=\"M0 0h24v24H0V0z\" fill=\"none\"/>\n",
              "    <path d=\"M18.56 5.44l.94 2.06.94-2.06 2.06-.94-2.06-.94-.94-2.06-.94 2.06-2.06.94zm-11 1L8.5 8.5l.94-2.06 2.06-.94-2.06-.94L8.5 2.5l-.94 2.06-2.06.94zm10 10l.94 2.06.94-2.06 2.06-.94-2.06-.94-.94-2.06-.94 2.06-2.06.94z\"/><path d=\"M17.41 7.96l-1.37-1.37c-.4-.4-.92-.59-1.43-.59-.52 0-1.04.2-1.43.59L10.3 9.45l-7.72 7.72c-.78.78-.78 2.05 0 2.83L4 21.41c.39.39.9.59 1.41.59.51 0 1.02-.2 1.41-.59l7.78-7.78 2.81-2.81c.8-.78.8-2.07 0-2.86zM5.41 20L4 18.59l7.72-7.72 1.47 1.35L5.41 20z\"/>\n",
              "  </svg>\n",
              "      </button>\n",
              "      \n",
              "  <style>\n",
              "    .colab-df-container {\n",
              "      display:flex;\n",
              "      flex-wrap:wrap;\n",
              "      gap: 12px;\n",
              "    }\n",
              "\n",
              "    .colab-df-convert {\n",
              "      background-color: #E8F0FE;\n",
              "      border: none;\n",
              "      border-radius: 50%;\n",
              "      cursor: pointer;\n",
              "      display: none;\n",
              "      fill: #1967D2;\n",
              "      height: 32px;\n",
              "      padding: 0 0 0 0;\n",
              "      width: 32px;\n",
              "    }\n",
              "\n",
              "    .colab-df-convert:hover {\n",
              "      background-color: #E2EBFA;\n",
              "      box-shadow: 0px 1px 2px rgba(60, 64, 67, 0.3), 0px 1px 3px 1px rgba(60, 64, 67, 0.15);\n",
              "      fill: #174EA6;\n",
              "    }\n",
              "\n",
              "    [theme=dark] .colab-df-convert {\n",
              "      background-color: #3B4455;\n",
              "      fill: #D2E3FC;\n",
              "    }\n",
              "\n",
              "    [theme=dark] .colab-df-convert:hover {\n",
              "      background-color: #434B5C;\n",
              "      box-shadow: 0px 1px 3px 1px rgba(0, 0, 0, 0.15);\n",
              "      filter: drop-shadow(0px 1px 2px rgba(0, 0, 0, 0.3));\n",
              "      fill: #FFFFFF;\n",
              "    }\n",
              "  </style>\n",
              "\n",
              "      <script>\n",
              "        const buttonEl =\n",
              "          document.querySelector('#df-83724cd6-15a9-43f8-aebb-9da74306fb1f button.colab-df-convert');\n",
              "        buttonEl.style.display =\n",
              "          google.colab.kernel.accessAllowed ? 'block' : 'none';\n",
              "\n",
              "        async function convertToInteractive(key) {\n",
              "          const element = document.querySelector('#df-83724cd6-15a9-43f8-aebb-9da74306fb1f');\n",
              "          const dataTable =\n",
              "            await google.colab.kernel.invokeFunction('convertToInteractive',\n",
              "                                                     [key], {});\n",
              "          if (!dataTable) return;\n",
              "\n",
              "          const docLinkHtml = 'Like what you see? Visit the ' +\n",
              "            '<a target=\"_blank\" href=https://colab.research.google.com/notebooks/data_table.ipynb>data table notebook</a>'\n",
              "            + ' to learn more about interactive tables.';\n",
              "          element.innerHTML = '';\n",
              "          dataTable['output_type'] = 'display_data';\n",
              "          await google.colab.output.renderOutput(dataTable, element);\n",
              "          const docLink = document.createElement('div');\n",
              "          docLink.innerHTML = docLinkHtml;\n",
              "          element.appendChild(docLink);\n",
              "        }\n",
              "      </script>\n",
              "    </div>\n",
              "  </div>\n",
              "  "
            ]
          },
          "metadata": {},
          "execution_count": 24
        }
      ]
    },
    {
      "cell_type": "markdown",
      "metadata": {
        "id": "ixEtgsSeiKEA"
      },
      "source": [
        "#Q2 (c)\n",
        "\n",
        "Now identify the most effective weighting model in terms of average MAP across the 3 topic sets. To find this model,\n",
        "simply identify the weighting model with the highest average performance across the 3 topic sets."
      ]
    },
    {
      "cell_type": "code",
      "metadata": {
        "id": "5LNFH_9gIzuB",
        "colab": {
          "base_uri": "https://localhost:8080/",
          "height": 143
        },
        "outputId": "3bf58d7a-1c72-4cfd-d6e7-15be64964a44"
      },
      "source": [
        "# same experiment from the last question in Q2 (a)\n",
        "pt.Experiment(\n",
        "      [retr_tfidf, retr_bm25, retr_pl2],\n",
        "      all_topics,\n",
        "      all_qrels,\n",
        "      eval_metrics=['map'],\n",
        "      round={\"map\" : 4},\n",
        "      names=[\"TFIDF\", \"BM25\", \"PL2\"],\n",
        "      baseline=0\n",
        "  )\n",
        "\n",
        "# The max is PL2 with .2446"
      ],
      "execution_count": null,
      "outputs": [
        {
          "output_type": "execute_result",
          "data": {
            "text/plain": [
              "    name     map  map +  map -  map p-value\n",
              "0  TFIDF  0.2422    NaN    NaN          NaN\n",
              "1   BM25  0.2435   43.0   62.0     0.770693\n",
              "2    PL2  0.2446   73.0   92.0     0.796196"
            ],
            "text/html": [
              "\n",
              "  <div id=\"df-a4889c11-1c09-4fd3-9c6d-b44cd5ae6e52\">\n",
              "    <div class=\"colab-df-container\">\n",
              "      <div>\n",
              "<style scoped>\n",
              "    .dataframe tbody tr th:only-of-type {\n",
              "        vertical-align: middle;\n",
              "    }\n",
              "\n",
              "    .dataframe tbody tr th {\n",
              "        vertical-align: top;\n",
              "    }\n",
              "\n",
              "    .dataframe thead th {\n",
              "        text-align: right;\n",
              "    }\n",
              "</style>\n",
              "<table border=\"1\" class=\"dataframe\">\n",
              "  <thead>\n",
              "    <tr style=\"text-align: right;\">\n",
              "      <th></th>\n",
              "      <th>name</th>\n",
              "      <th>map</th>\n",
              "      <th>map +</th>\n",
              "      <th>map -</th>\n",
              "      <th>map p-value</th>\n",
              "    </tr>\n",
              "  </thead>\n",
              "  <tbody>\n",
              "    <tr>\n",
              "      <th>0</th>\n",
              "      <td>TFIDF</td>\n",
              "      <td>0.2422</td>\n",
              "      <td>NaN</td>\n",
              "      <td>NaN</td>\n",
              "      <td>NaN</td>\n",
              "    </tr>\n",
              "    <tr>\n",
              "      <th>1</th>\n",
              "      <td>BM25</td>\n",
              "      <td>0.2435</td>\n",
              "      <td>43.0</td>\n",
              "      <td>62.0</td>\n",
              "      <td>0.770693</td>\n",
              "    </tr>\n",
              "    <tr>\n",
              "      <th>2</th>\n",
              "      <td>PL2</td>\n",
              "      <td>0.2446</td>\n",
              "      <td>73.0</td>\n",
              "      <td>92.0</td>\n",
              "      <td>0.796196</td>\n",
              "    </tr>\n",
              "  </tbody>\n",
              "</table>\n",
              "</div>\n",
              "      <button class=\"colab-df-convert\" onclick=\"convertToInteractive('df-a4889c11-1c09-4fd3-9c6d-b44cd5ae6e52')\"\n",
              "              title=\"Convert this dataframe to an interactive table.\"\n",
              "              style=\"display:none;\">\n",
              "        \n",
              "  <svg xmlns=\"http://www.w3.org/2000/svg\" height=\"24px\"viewBox=\"0 0 24 24\"\n",
              "       width=\"24px\">\n",
              "    <path d=\"M0 0h24v24H0V0z\" fill=\"none\"/>\n",
              "    <path d=\"M18.56 5.44l.94 2.06.94-2.06 2.06-.94-2.06-.94-.94-2.06-.94 2.06-2.06.94zm-11 1L8.5 8.5l.94-2.06 2.06-.94-2.06-.94L8.5 2.5l-.94 2.06-2.06.94zm10 10l.94 2.06.94-2.06 2.06-.94-2.06-.94-.94-2.06-.94 2.06-2.06.94z\"/><path d=\"M17.41 7.96l-1.37-1.37c-.4-.4-.92-.59-1.43-.59-.52 0-1.04.2-1.43.59L10.3 9.45l-7.72 7.72c-.78.78-.78 2.05 0 2.83L4 21.41c.39.39.9.59 1.41.59.51 0 1.02-.2 1.41-.59l7.78-7.78 2.81-2.81c.8-.78.8-2.07 0-2.86zM5.41 20L4 18.59l7.72-7.72 1.47 1.35L5.41 20z\"/>\n",
              "  </svg>\n",
              "      </button>\n",
              "      \n",
              "  <style>\n",
              "    .colab-df-container {\n",
              "      display:flex;\n",
              "      flex-wrap:wrap;\n",
              "      gap: 12px;\n",
              "    }\n",
              "\n",
              "    .colab-df-convert {\n",
              "      background-color: #E8F0FE;\n",
              "      border: none;\n",
              "      border-radius: 50%;\n",
              "      cursor: pointer;\n",
              "      display: none;\n",
              "      fill: #1967D2;\n",
              "      height: 32px;\n",
              "      padding: 0 0 0 0;\n",
              "      width: 32px;\n",
              "    }\n",
              "\n",
              "    .colab-df-convert:hover {\n",
              "      background-color: #E2EBFA;\n",
              "      box-shadow: 0px 1px 2px rgba(60, 64, 67, 0.3), 0px 1px 3px 1px rgba(60, 64, 67, 0.15);\n",
              "      fill: #174EA6;\n",
              "    }\n",
              "\n",
              "    [theme=dark] .colab-df-convert {\n",
              "      background-color: #3B4455;\n",
              "      fill: #D2E3FC;\n",
              "    }\n",
              "\n",
              "    [theme=dark] .colab-df-convert:hover {\n",
              "      background-color: #434B5C;\n",
              "      box-shadow: 0px 1px 3px 1px rgba(0, 0, 0, 0.15);\n",
              "      filter: drop-shadow(0px 1px 2px rgba(0, 0, 0, 0.3));\n",
              "      fill: #FFFFFF;\n",
              "    }\n",
              "  </style>\n",
              "\n",
              "      <script>\n",
              "        const buttonEl =\n",
              "          document.querySelector('#df-a4889c11-1c09-4fd3-9c6d-b44cd5ae6e52 button.colab-df-convert');\n",
              "        buttonEl.style.display =\n",
              "          google.colab.kernel.accessAllowed ? 'block' : 'none';\n",
              "\n",
              "        async function convertToInteractive(key) {\n",
              "          const element = document.querySelector('#df-a4889c11-1c09-4fd3-9c6d-b44cd5ae6e52');\n",
              "          const dataTable =\n",
              "            await google.colab.kernel.invokeFunction('convertToInteractive',\n",
              "                                                     [key], {});\n",
              "          if (!dataTable) return;\n",
              "\n",
              "          const docLinkHtml = 'Like what you see? Visit the ' +\n",
              "            '<a target=\"_blank\" href=https://colab.research.google.com/notebooks/data_table.ipynb>data table notebook</a>'\n",
              "            + ' to learn more about interactive tables.';\n",
              "          element.innerHTML = '';\n",
              "          dataTable['output_type'] = 'display_data';\n",
              "          await google.colab.output.renderOutput(dataTable, element);\n",
              "          const docLink = document.createElement('div');\n",
              "          docLink.innerHTML = docLinkHtml;\n",
              "          element.appendChild(docLink);\n",
              "        }\n",
              "      </script>\n",
              "    </div>\n",
              "  </div>\n",
              "  "
            ]
          },
          "metadata": {},
          "execution_count": 25
        }
      ]
    },
    {
      "cell_type": "markdown",
      "metadata": {
        "id": "2lmdaFvk56na"
      },
      "source": [
        "# Q3 Query Expansion"
      ]
    },
    {
      "cell_type": "markdown",
      "metadata": {
        "id": "hUE4Kcn18WmR"
      },
      "source": [
        "Query expansion is one of the most well-known and effective techniques for improving the effectiveness of a search engine. We'll be using Terrier's Bo1 query expansion model.\n",
        "\n",
        "See the [relevant documentation](https://pyterrier.readthedocs.io/en/latest/rewrite.html#bo1queryexpansion) about creating a QE transformer pipeline in PyTerrier using the Bo1 model.\n",
        "\n",
        "You now have enough information to conduct Q3(a) and (b).\n",
        "\n"
      ]
    },
    {
      "cell_type": "markdown",
      "metadata": {
        "id": "MYz0Rs1U6ATl"
      },
      "source": [
        "#Q3(a)\n",
        "Run the required experiments for evaluating the application of query expansion on the best weighting model identified in the previous question Q2(c)."
      ]
    },
    {
      "cell_type": "markdown",
      "source": [
        "Create Bo1 expansion model and pipeline."
      ],
      "metadata": {
        "id": "okQUCYNen5a_"
      }
    },
    {
      "cell_type": "code",
      "metadata": {
        "id": "fb0ZKxI7I0vP"
      },
      "source": [
        "# define the query expansion model\n",
        "bo1 = pt.rewrite.Bo1QueryExpansion(index)\n",
        "# retrieve pl2\n",
        "pl2 = pt.BatchRetrieve(index, wmodel='PL2')\n",
        "# define expansion pipeline\n",
        "query_exp_pipeline = pl2 >> bo1 >> pl2"
      ],
      "execution_count": null,
      "outputs": []
    },
    {
      "cell_type": "markdown",
      "source": [
        "Define experiment with Bo1 QE pipeline."
      ],
      "metadata": {
        "id": "YO3IY3NQn9Gh"
      }
    },
    {
      "cell_type": "code",
      "source": [
        "# experiment to be run on each set\n",
        "def run_experiment_q3(topic_set):\n",
        "  return pt.Experiment(\n",
        "      # note the experiment is now done on the pipeline\n",
        "      [query_exp_pipeline],\n",
        "      pt.get_dataset(\"trec-wt-2004\").get_topics(topic_set),\n",
        "      pt.get_dataset(\"trec-wt-2004\").get_qrels(topic_set),\n",
        "      eval_metrics=['map'],\n",
        "      round={\"map\" : 4},\n",
        "      names=[\"PL2 + QE\"]\n",
        "  )"
      ],
      "metadata": {
        "id": "PQEGCQQtSEaM"
      },
      "execution_count": null,
      "outputs": []
    },
    {
      "cell_type": "markdown",
      "source": [
        "Run the experiment on the 'hp' set."
      ],
      "metadata": {
        "id": "wUtspH-5TnZN"
      }
    },
    {
      "cell_type": "code",
      "source": [
        "run_experiment_q3('hp')"
      ],
      "metadata": {
        "colab": {
          "base_uri": "https://localhost:8080/",
          "height": 81
        },
        "id": "KVx6W0qKShfb",
        "outputId": "8c7744d4-e63e-4520-b3d3-93bcdc470e62"
      },
      "execution_count": null,
      "outputs": [
        {
          "output_type": "execute_result",
          "data": {
            "text/plain": [
              "       name     map\n",
              "0  PL2 + QE  0.2423"
            ],
            "text/html": [
              "\n",
              "  <div id=\"df-a8524e6a-ca8e-4cd1-be0a-61df8df4f078\">\n",
              "    <div class=\"colab-df-container\">\n",
              "      <div>\n",
              "<style scoped>\n",
              "    .dataframe tbody tr th:only-of-type {\n",
              "        vertical-align: middle;\n",
              "    }\n",
              "\n",
              "    .dataframe tbody tr th {\n",
              "        vertical-align: top;\n",
              "    }\n",
              "\n",
              "    .dataframe thead th {\n",
              "        text-align: right;\n",
              "    }\n",
              "</style>\n",
              "<table border=\"1\" class=\"dataframe\">\n",
              "  <thead>\n",
              "    <tr style=\"text-align: right;\">\n",
              "      <th></th>\n",
              "      <th>name</th>\n",
              "      <th>map</th>\n",
              "    </tr>\n",
              "  </thead>\n",
              "  <tbody>\n",
              "    <tr>\n",
              "      <th>0</th>\n",
              "      <td>PL2 + QE</td>\n",
              "      <td>0.2423</td>\n",
              "    </tr>\n",
              "  </tbody>\n",
              "</table>\n",
              "</div>\n",
              "      <button class=\"colab-df-convert\" onclick=\"convertToInteractive('df-a8524e6a-ca8e-4cd1-be0a-61df8df4f078')\"\n",
              "              title=\"Convert this dataframe to an interactive table.\"\n",
              "              style=\"display:none;\">\n",
              "        \n",
              "  <svg xmlns=\"http://www.w3.org/2000/svg\" height=\"24px\"viewBox=\"0 0 24 24\"\n",
              "       width=\"24px\">\n",
              "    <path d=\"M0 0h24v24H0V0z\" fill=\"none\"/>\n",
              "    <path d=\"M18.56 5.44l.94 2.06.94-2.06 2.06-.94-2.06-.94-.94-2.06-.94 2.06-2.06.94zm-11 1L8.5 8.5l.94-2.06 2.06-.94-2.06-.94L8.5 2.5l-.94 2.06-2.06.94zm10 10l.94 2.06.94-2.06 2.06-.94-2.06-.94-.94-2.06-.94 2.06-2.06.94z\"/><path d=\"M17.41 7.96l-1.37-1.37c-.4-.4-.92-.59-1.43-.59-.52 0-1.04.2-1.43.59L10.3 9.45l-7.72 7.72c-.78.78-.78 2.05 0 2.83L4 21.41c.39.39.9.59 1.41.59.51 0 1.02-.2 1.41-.59l7.78-7.78 2.81-2.81c.8-.78.8-2.07 0-2.86zM5.41 20L4 18.59l7.72-7.72 1.47 1.35L5.41 20z\"/>\n",
              "  </svg>\n",
              "      </button>\n",
              "      \n",
              "  <style>\n",
              "    .colab-df-container {\n",
              "      display:flex;\n",
              "      flex-wrap:wrap;\n",
              "      gap: 12px;\n",
              "    }\n",
              "\n",
              "    .colab-df-convert {\n",
              "      background-color: #E8F0FE;\n",
              "      border: none;\n",
              "      border-radius: 50%;\n",
              "      cursor: pointer;\n",
              "      display: none;\n",
              "      fill: #1967D2;\n",
              "      height: 32px;\n",
              "      padding: 0 0 0 0;\n",
              "      width: 32px;\n",
              "    }\n",
              "\n",
              "    .colab-df-convert:hover {\n",
              "      background-color: #E2EBFA;\n",
              "      box-shadow: 0px 1px 2px rgba(60, 64, 67, 0.3), 0px 1px 3px 1px rgba(60, 64, 67, 0.15);\n",
              "      fill: #174EA6;\n",
              "    }\n",
              "\n",
              "    [theme=dark] .colab-df-convert {\n",
              "      background-color: #3B4455;\n",
              "      fill: #D2E3FC;\n",
              "    }\n",
              "\n",
              "    [theme=dark] .colab-df-convert:hover {\n",
              "      background-color: #434B5C;\n",
              "      box-shadow: 0px 1px 3px 1px rgba(0, 0, 0, 0.15);\n",
              "      filter: drop-shadow(0px 1px 2px rgba(0, 0, 0, 0.3));\n",
              "      fill: #FFFFFF;\n",
              "    }\n",
              "  </style>\n",
              "\n",
              "      <script>\n",
              "        const buttonEl =\n",
              "          document.querySelector('#df-a8524e6a-ca8e-4cd1-be0a-61df8df4f078 button.colab-df-convert');\n",
              "        buttonEl.style.display =\n",
              "          google.colab.kernel.accessAllowed ? 'block' : 'none';\n",
              "\n",
              "        async function convertToInteractive(key) {\n",
              "          const element = document.querySelector('#df-a8524e6a-ca8e-4cd1-be0a-61df8df4f078');\n",
              "          const dataTable =\n",
              "            await google.colab.kernel.invokeFunction('convertToInteractive',\n",
              "                                                     [key], {});\n",
              "          if (!dataTable) return;\n",
              "\n",
              "          const docLinkHtml = 'Like what you see? Visit the ' +\n",
              "            '<a target=\"_blank\" href=https://colab.research.google.com/notebooks/data_table.ipynb>data table notebook</a>'\n",
              "            + ' to learn more about interactive tables.';\n",
              "          element.innerHTML = '';\n",
              "          dataTable['output_type'] = 'display_data';\n",
              "          await google.colab.output.renderOutput(dataTable, element);\n",
              "          const docLink = document.createElement('div');\n",
              "          docLink.innerHTML = docLinkHtml;\n",
              "          element.appendChild(docLink);\n",
              "        }\n",
              "      </script>\n",
              "    </div>\n",
              "  </div>\n",
              "  "
            ]
          },
          "metadata": {},
          "execution_count": 107
        }
      ]
    },
    {
      "cell_type": "markdown",
      "source": [
        "Run the experiment on the 'np' set."
      ],
      "metadata": {
        "id": "1J7HdEk7TqtG"
      }
    },
    {
      "cell_type": "code",
      "source": [
        "run_experiment_q3('np')"
      ],
      "metadata": {
        "colab": {
          "base_uri": "https://localhost:8080/",
          "height": 81
        },
        "id": "EUCePZ3YSi2z",
        "outputId": "a69b90ef-b48c-43d9-9d15-c353a451d9ec"
      },
      "execution_count": null,
      "outputs": [
        {
          "output_type": "execute_result",
          "data": {
            "text/plain": [
              "       name     map\n",
              "0  PL2 + QE  0.4442"
            ],
            "text/html": [
              "\n",
              "  <div id=\"df-dbf669af-9621-4e0e-86c0-279fa539aa31\">\n",
              "    <div class=\"colab-df-container\">\n",
              "      <div>\n",
              "<style scoped>\n",
              "    .dataframe tbody tr th:only-of-type {\n",
              "        vertical-align: middle;\n",
              "    }\n",
              "\n",
              "    .dataframe tbody tr th {\n",
              "        vertical-align: top;\n",
              "    }\n",
              "\n",
              "    .dataframe thead th {\n",
              "        text-align: right;\n",
              "    }\n",
              "</style>\n",
              "<table border=\"1\" class=\"dataframe\">\n",
              "  <thead>\n",
              "    <tr style=\"text-align: right;\">\n",
              "      <th></th>\n",
              "      <th>name</th>\n",
              "      <th>map</th>\n",
              "    </tr>\n",
              "  </thead>\n",
              "  <tbody>\n",
              "    <tr>\n",
              "      <th>0</th>\n",
              "      <td>PL2 + QE</td>\n",
              "      <td>0.4442</td>\n",
              "    </tr>\n",
              "  </tbody>\n",
              "</table>\n",
              "</div>\n",
              "      <button class=\"colab-df-convert\" onclick=\"convertToInteractive('df-dbf669af-9621-4e0e-86c0-279fa539aa31')\"\n",
              "              title=\"Convert this dataframe to an interactive table.\"\n",
              "              style=\"display:none;\">\n",
              "        \n",
              "  <svg xmlns=\"http://www.w3.org/2000/svg\" height=\"24px\"viewBox=\"0 0 24 24\"\n",
              "       width=\"24px\">\n",
              "    <path d=\"M0 0h24v24H0V0z\" fill=\"none\"/>\n",
              "    <path d=\"M18.56 5.44l.94 2.06.94-2.06 2.06-.94-2.06-.94-.94-2.06-.94 2.06-2.06.94zm-11 1L8.5 8.5l.94-2.06 2.06-.94-2.06-.94L8.5 2.5l-.94 2.06-2.06.94zm10 10l.94 2.06.94-2.06 2.06-.94-2.06-.94-.94-2.06-.94 2.06-2.06.94z\"/><path d=\"M17.41 7.96l-1.37-1.37c-.4-.4-.92-.59-1.43-.59-.52 0-1.04.2-1.43.59L10.3 9.45l-7.72 7.72c-.78.78-.78 2.05 0 2.83L4 21.41c.39.39.9.59 1.41.59.51 0 1.02-.2 1.41-.59l7.78-7.78 2.81-2.81c.8-.78.8-2.07 0-2.86zM5.41 20L4 18.59l7.72-7.72 1.47 1.35L5.41 20z\"/>\n",
              "  </svg>\n",
              "      </button>\n",
              "      \n",
              "  <style>\n",
              "    .colab-df-container {\n",
              "      display:flex;\n",
              "      flex-wrap:wrap;\n",
              "      gap: 12px;\n",
              "    }\n",
              "\n",
              "    .colab-df-convert {\n",
              "      background-color: #E8F0FE;\n",
              "      border: none;\n",
              "      border-radius: 50%;\n",
              "      cursor: pointer;\n",
              "      display: none;\n",
              "      fill: #1967D2;\n",
              "      height: 32px;\n",
              "      padding: 0 0 0 0;\n",
              "      width: 32px;\n",
              "    }\n",
              "\n",
              "    .colab-df-convert:hover {\n",
              "      background-color: #E2EBFA;\n",
              "      box-shadow: 0px 1px 2px rgba(60, 64, 67, 0.3), 0px 1px 3px 1px rgba(60, 64, 67, 0.15);\n",
              "      fill: #174EA6;\n",
              "    }\n",
              "\n",
              "    [theme=dark] .colab-df-convert {\n",
              "      background-color: #3B4455;\n",
              "      fill: #D2E3FC;\n",
              "    }\n",
              "\n",
              "    [theme=dark] .colab-df-convert:hover {\n",
              "      background-color: #434B5C;\n",
              "      box-shadow: 0px 1px 3px 1px rgba(0, 0, 0, 0.15);\n",
              "      filter: drop-shadow(0px 1px 2px rgba(0, 0, 0, 0.3));\n",
              "      fill: #FFFFFF;\n",
              "    }\n",
              "  </style>\n",
              "\n",
              "      <script>\n",
              "        const buttonEl =\n",
              "          document.querySelector('#df-dbf669af-9621-4e0e-86c0-279fa539aa31 button.colab-df-convert');\n",
              "        buttonEl.style.display =\n",
              "          google.colab.kernel.accessAllowed ? 'block' : 'none';\n",
              "\n",
              "        async function convertToInteractive(key) {\n",
              "          const element = document.querySelector('#df-dbf669af-9621-4e0e-86c0-279fa539aa31');\n",
              "          const dataTable =\n",
              "            await google.colab.kernel.invokeFunction('convertToInteractive',\n",
              "                                                     [key], {});\n",
              "          if (!dataTable) return;\n",
              "\n",
              "          const docLinkHtml = 'Like what you see? Visit the ' +\n",
              "            '<a target=\"_blank\" href=https://colab.research.google.com/notebooks/data_table.ipynb>data table notebook</a>'\n",
              "            + ' to learn more about interactive tables.';\n",
              "          element.innerHTML = '';\n",
              "          dataTable['output_type'] = 'display_data';\n",
              "          await google.colab.output.renderOutput(dataTable, element);\n",
              "          const docLink = document.createElement('div');\n",
              "          docLink.innerHTML = docLinkHtml;\n",
              "          element.appendChild(docLink);\n",
              "        }\n",
              "      </script>\n",
              "    </div>\n",
              "  </div>\n",
              "  "
            ]
          },
          "metadata": {},
          "execution_count": 29
        }
      ]
    },
    {
      "cell_type": "markdown",
      "source": [
        "Run the experiment on the 'td' set."
      ],
      "metadata": {
        "id": "hu949oLETrnz"
      }
    },
    {
      "cell_type": "code",
      "source": [
        "run_experiment_q3('td')"
      ],
      "metadata": {
        "colab": {
          "base_uri": "https://localhost:8080/",
          "height": 81
        },
        "id": "KpOYfjSKSjuA",
        "outputId": "89a2dd8d-0fb3-409a-d4ff-b6beeb2e9167"
      },
      "execution_count": null,
      "outputs": [
        {
          "output_type": "execute_result",
          "data": {
            "text/plain": [
              "       name     map\n",
              "0  PL2 + QE  0.0671"
            ],
            "text/html": [
              "\n",
              "  <div id=\"df-0d53d06f-5afc-48a5-b7e0-6f56b4611d23\">\n",
              "    <div class=\"colab-df-container\">\n",
              "      <div>\n",
              "<style scoped>\n",
              "    .dataframe tbody tr th:only-of-type {\n",
              "        vertical-align: middle;\n",
              "    }\n",
              "\n",
              "    .dataframe tbody tr th {\n",
              "        vertical-align: top;\n",
              "    }\n",
              "\n",
              "    .dataframe thead th {\n",
              "        text-align: right;\n",
              "    }\n",
              "</style>\n",
              "<table border=\"1\" class=\"dataframe\">\n",
              "  <thead>\n",
              "    <tr style=\"text-align: right;\">\n",
              "      <th></th>\n",
              "      <th>name</th>\n",
              "      <th>map</th>\n",
              "    </tr>\n",
              "  </thead>\n",
              "  <tbody>\n",
              "    <tr>\n",
              "      <th>0</th>\n",
              "      <td>PL2 + QE</td>\n",
              "      <td>0.0671</td>\n",
              "    </tr>\n",
              "  </tbody>\n",
              "</table>\n",
              "</div>\n",
              "      <button class=\"colab-df-convert\" onclick=\"convertToInteractive('df-0d53d06f-5afc-48a5-b7e0-6f56b4611d23')\"\n",
              "              title=\"Convert this dataframe to an interactive table.\"\n",
              "              style=\"display:none;\">\n",
              "        \n",
              "  <svg xmlns=\"http://www.w3.org/2000/svg\" height=\"24px\"viewBox=\"0 0 24 24\"\n",
              "       width=\"24px\">\n",
              "    <path d=\"M0 0h24v24H0V0z\" fill=\"none\"/>\n",
              "    <path d=\"M18.56 5.44l.94 2.06.94-2.06 2.06-.94-2.06-.94-.94-2.06-.94 2.06-2.06.94zm-11 1L8.5 8.5l.94-2.06 2.06-.94-2.06-.94L8.5 2.5l-.94 2.06-2.06.94zm10 10l.94 2.06.94-2.06 2.06-.94-2.06-.94-.94-2.06-.94 2.06-2.06.94z\"/><path d=\"M17.41 7.96l-1.37-1.37c-.4-.4-.92-.59-1.43-.59-.52 0-1.04.2-1.43.59L10.3 9.45l-7.72 7.72c-.78.78-.78 2.05 0 2.83L4 21.41c.39.39.9.59 1.41.59.51 0 1.02-.2 1.41-.59l7.78-7.78 2.81-2.81c.8-.78.8-2.07 0-2.86zM5.41 20L4 18.59l7.72-7.72 1.47 1.35L5.41 20z\"/>\n",
              "  </svg>\n",
              "      </button>\n",
              "      \n",
              "  <style>\n",
              "    .colab-df-container {\n",
              "      display:flex;\n",
              "      flex-wrap:wrap;\n",
              "      gap: 12px;\n",
              "    }\n",
              "\n",
              "    .colab-df-convert {\n",
              "      background-color: #E8F0FE;\n",
              "      border: none;\n",
              "      border-radius: 50%;\n",
              "      cursor: pointer;\n",
              "      display: none;\n",
              "      fill: #1967D2;\n",
              "      height: 32px;\n",
              "      padding: 0 0 0 0;\n",
              "      width: 32px;\n",
              "    }\n",
              "\n",
              "    .colab-df-convert:hover {\n",
              "      background-color: #E2EBFA;\n",
              "      box-shadow: 0px 1px 2px rgba(60, 64, 67, 0.3), 0px 1px 3px 1px rgba(60, 64, 67, 0.15);\n",
              "      fill: #174EA6;\n",
              "    }\n",
              "\n",
              "    [theme=dark] .colab-df-convert {\n",
              "      background-color: #3B4455;\n",
              "      fill: #D2E3FC;\n",
              "    }\n",
              "\n",
              "    [theme=dark] .colab-df-convert:hover {\n",
              "      background-color: #434B5C;\n",
              "      box-shadow: 0px 1px 3px 1px rgba(0, 0, 0, 0.15);\n",
              "      filter: drop-shadow(0px 1px 2px rgba(0, 0, 0, 0.3));\n",
              "      fill: #FFFFFF;\n",
              "    }\n",
              "  </style>\n",
              "\n",
              "      <script>\n",
              "        const buttonEl =\n",
              "          document.querySelector('#df-0d53d06f-5afc-48a5-b7e0-6f56b4611d23 button.colab-df-convert');\n",
              "        buttonEl.style.display =\n",
              "          google.colab.kernel.accessAllowed ? 'block' : 'none';\n",
              "\n",
              "        async function convertToInteractive(key) {\n",
              "          const element = document.querySelector('#df-0d53d06f-5afc-48a5-b7e0-6f56b4611d23');\n",
              "          const dataTable =\n",
              "            await google.colab.kernel.invokeFunction('convertToInteractive',\n",
              "                                                     [key], {});\n",
              "          if (!dataTable) return;\n",
              "\n",
              "          const docLinkHtml = 'Like what you see? Visit the ' +\n",
              "            '<a target=\"_blank\" href=https://colab.research.google.com/notebooks/data_table.ipynb>data table notebook</a>'\n",
              "            + ' to learn more about interactive tables.';\n",
              "          element.innerHTML = '';\n",
              "          dataTable['output_type'] = 'display_data';\n",
              "          await google.colab.output.renderOutput(dataTable, element);\n",
              "          const docLink = document.createElement('div');\n",
              "          docLink.innerHTML = docLinkHtml;\n",
              "          element.appendChild(docLink);\n",
              "        }\n",
              "      </script>\n",
              "    </div>\n",
              "  </div>\n",
              "  "
            ]
          },
          "metadata": {},
          "execution_count": 30
        }
      ]
    },
    {
      "cell_type": "markdown",
      "metadata": {
        "id": "5yPScO7S_RcC"
      },
      "source": [
        "#Q3(b)\n",
        "\n",
        "This question calls for a query-delta bar chart (See example in Lecture 5). You will need to use the ` perquery=True` option for `pt.Experiment()`.\n",
        "\n",
        "*Hints*:\n",
        " - You may need a [self-join](https://www.w3schools.com/sql/sql_join_self.asp) on a dataframe.\n",
        " - You can iterate through a dataframe using [`dataframe.iterrows()`](https://cmdlinetips.com/2018/12/how-to-loop-through-pandas-rows-or-how-to-iterate-over-pandas-rows/)"
      ]
    },
    {
      "cell_type": "markdown",
      "source": [
        "Here we run the two experiments, first with PL2 alone, then PL2 + QE."
      ],
      "metadata": {
        "id": "rItzgmcOoK7q"
      }
    },
    {
      "cell_type": "code",
      "metadata": {
        "id": "rDfFUuDzI1QG"
      },
      "source": [
        "# import extra measures so we can use AP\n",
        "from pyterrier.measures import *\n",
        "\n",
        "# run the experiment using Pl2 without query expansion\n",
        "td_pl2 = pt.Experiment(\n",
        "    [pl2],\n",
        "    pt.get_dataset(\"trec-wt-2004\").get_topics('td'),\n",
        "    pt.get_dataset(\"trec-wt-2004\").get_qrels('td'),\n",
        "    # using AP not map\n",
        "    eval_metrics=[AP],\n",
        "    names=[\"PL2\"],\n",
        "    perquery=True\n",
        ")\n",
        "\n",
        "# run the experiment using Pl2 with query expansion\n",
        "td_pl2_qe = pt.Experiment(\n",
        "    [query_exp_pipeline],\n",
        "    pt.get_dataset(\"trec-wt-2004\").get_topics('td'),\n",
        "    pt.get_dataset(\"trec-wt-2004\").get_qrels('td'),\n",
        "    # using AP not map\n",
        "    eval_metrics=[AP],\n",
        "    names=[\"PL2\"],\n",
        "    perquery=True\n",
        ")"
      ],
      "execution_count": null,
      "outputs": []
    },
    {
      "cell_type": "markdown",
      "source": [
        "Let's rename the value columns so that they merge into separate columns."
      ],
      "metadata": {
        "id": "zfwTsxAnbSIk"
      }
    },
    {
      "cell_type": "code",
      "source": [
        "# rename columns\n",
        "td_pl2 = td_pl2.rename(columns={\"value\": \"pl2_val\"})\n",
        "td_pl2_qe = td_pl2_qe.rename(columns={\"value\": \"pl2_qe_val\"})"
      ],
      "metadata": {
        "id": "CT7HqG8MZTr0"
      },
      "execution_count": null,
      "outputs": []
    },
    {
      "cell_type": "markdown",
      "source": [
        "Let's join the two dataframes. We will also add a column for delta_ap."
      ],
      "metadata": {
        "id": "AdRrllvaY9pr"
      }
    },
    {
      "cell_type": "code",
      "source": [
        "# perform join\n",
        "td_both = pd.merge(td_pl2, td_pl2_qe)\n",
        "td_both['delta_ap'] = td_both['pl2_qe_val'] - td_both['pl2_val']"
      ],
      "metadata": {
        "id": "vODoa9wYY_TP"
      },
      "execution_count": null,
      "outputs": []
    },
    {
      "cell_type": "markdown",
      "source": [
        "Let's create a subset dataframe for the figure, this will only include rows where abs(delta_ap) > 2%."
      ],
      "metadata": {
        "id": "uenQyqCQb-3m"
      }
    },
    {
      "cell_type": "code",
      "source": [
        "# copy the td_both dataframe for the figure\n",
        "td_both_for_fig = td_both.copy()\n",
        "td_both_for_fig = td_both_for_fig.sort_values(by=['delta_ap'], ascending=False)\n",
        "\n",
        "# iterate thru dataframe\n",
        "for ind, row in td_both_for_fig.iterrows():\n",
        "  # if the delat_ap value for a row is less than 2% absolute, drop that row\n",
        "  if abs(row['delta_ap']) < 0.02:\n",
        "    td_both_for_fig.drop(ind, axis=0, inplace=True)\n",
        "\n",
        "# reset the index afterwards\n",
        "td_both_for_fig.reset_index(drop=True, inplace=True)"
      ],
      "metadata": {
        "id": "ZgKzoMdkcIwG"
      },
      "execution_count": null,
      "outputs": []
    },
    {
      "cell_type": "markdown",
      "source": [
        "Now let's make the bar chart."
      ],
      "metadata": {
        "id": "N1J1gPCOe9fU"
      }
    },
    {
      "cell_type": "code",
      "source": [
        "# y axis is the delta_ap values\n",
        "y_axis = td_both_for_fig['delta_ap'].tolist()\n",
        "# x axis will hold the qids and original queries\n",
        "x_axis = []\n",
        "\n",
        "# define dataframe that is the topics dataset\n",
        "df = pt.get_dataset(\"trec-wt-2004\").get_topics('td')\n",
        "# iterate through our high absolute delta ap dataframe\n",
        "for ind, row in td_both_for_fig.iterrows():\n",
        "  # query and id concatenated into one string and appended to x axis list\n",
        "  query = str(row['qid']) + \": \" + df.loc[df['qid'] == row['qid'], 'query'].iloc[0]\n",
        "  x_axis.append(query)"
      ],
      "metadata": {
        "id": "_rPmzUZde_BB"
      },
      "execution_count": null,
      "outputs": []
    },
    {
      "cell_type": "code",
      "source": [
        "# create bar chart using matplotlib\n",
        "plt.bar(x_axis, y_axis)\n",
        "plt.title('Query Delta Bar Chart')\n",
        "plt.xlabel('Query')\n",
        "# rotate the x axis ticks\n",
        "plt.xticks(rotation=90, ha='right')\n",
        "plt.ylabel('Delta Avg. Precision (AP)')\n",
        "# bbox_inches = 'tight' makes it so that the entire image saves\n",
        "# without this parameter, the image was cutting off the bottom of the x axis ticks\n",
        "plt.savefig('QueryDeltaBarChart.png', bbox_inches='tight')\n",
        "plt.show()"
      ],
      "metadata": {
        "id": "2g8NvNF6hFxQ",
        "colab": {
          "base_uri": "https://localhost:8080/",
          "height": 499
        },
        "outputId": "1667f454-8b00-46d9-aec7-d94c5d4d4470"
      },
      "execution_count": null,
      "outputs": [
        {
          "output_type": "display_data",
          "data": {
            "text/plain": [
              "<Figure size 432x288 with 1 Axes>"
            ],
            "image/png": "[encoded data removed]"
          },
          "metadata": {
            "needs_background": "light"
          }
        }
      ]
    },
    {
      "cell_type": "markdown",
      "source": [
        "Taking a look at reformulated queries for best affected qid 97 (\"ufos\") and worst affected qid 74 (\"skin cancer\")."
      ],
      "metadata": {
        "id": "FdJa_FDWmeAR"
      }
    },
    {
      "cell_type": "code",
      "source": [
        "# save expanded queries\n",
        "expanded_queries = query_exp_pipeline(pt.get_dataset(\"trec-wt-2004\").get_topics('td'))"
      ],
      "metadata": {
        "id": "w8CwQrqeoWl-"
      },
      "execution_count": null,
      "outputs": []
    },
    {
      "cell_type": "code",
      "source": [
        "# inspect the reformulated query for ufos\n",
        "for ind, row in expanded_queries.iterrows():\n",
        "  if row['qid'] == '97':\n",
        "    print(row['query'])\n",
        "    break"
      ],
      "metadata": {
        "id": "UiOQni1_qIc2",
        "colab": {
          "base_uri": "https://localhost:8080/"
        },
        "outputId": "6ca0db3c-a94a-47e2-c61f-d00b459cae2f"
      },
      "execution_count": null,
      "outputs": [
        {
          "output_type": "stream",
          "name": "stdout",
          "text": [
            "applypipeline:off ufo^1.782897603 unidentifi^0.293526425 roswel^0.180836979 extraterrestri^0.155083480 forc^0.149192371 fly^0.144446932 blue^0.138189354 book^0.121246517 air^0.115234556 sight^0.114460152\n"
          ]
        }
      ]
    },
    {
      "cell_type": "code",
      "source": [
        "# inspect the reformulated query for skin cancer\n",
        "for ind, row in expanded_queries.iterrows():\n",
        "  if row['qid'] == '74':\n",
        "    print(row['query'])\n",
        "    break"
      ],
      "metadata": {
        "colab": {
          "base_uri": "https://localhost:8080/"
        },
        "id": "bpqROFsQrNZx",
        "outputId": "76339839-4639-4b9e-cfe8-b8ad4a030277"
      },
      "execution_count": null,
      "outputs": [
        {
          "output_type": "stream",
          "name": "stdout",
          "text": [
            "applypipeline:off skin^1.402936462 cancer^1.233351080 sunscreen^0.081970932 cell^0.071433646 melanoma^0.070226770 sun^0.068207895 squamou^0.067213993 carcinoma^0.063889040 uv^0.055406079 basal^0.054696254\n"
          ]
        }
      ]
    },
    {
      "cell_type": "markdown",
      "metadata": {
        "id": "-msK8wu79sXy"
      },
      "source": [
        "# Q4 Word Embeddings\n",
        "\n",
        "Q4 asks for a word2vec-based query expansion model. Word2vec (also called word embeddings) is a shallow neural network where semantically similar words end up with similar embedding vectors.\n",
        "\n",
        "If you haven't taken Text-as-Data, you can do some background reading about word embeddings at:\n",
        " - https://towardsdatascience.com/introduction-to-word-embedding-and-word2vec-652d0c2060fa\n",
        " - https://en.wikipedia.org/wiki/Word2vec\n",
        " - https://en.wikipedia.org/wiki/Word_embedding\n",
        "\n",
        "In general, while word2vec is still a very widely used model, note that it has been surpassed by more complex models such as BERT. But word2vec is still useful to consider in the context of query expansion.\n"
      ]
    },
    {
      "cell_type": "markdown",
      "metadata": {
        "id": "Urs_h1V5OBNk"
      },
      "source": [
        "In this part of the exercise, we will use [Gensim](https://radimrehurek.com/gensim/auto_examples/tutorials/run_word2vec.html), a Python toolkit for working with a word2vec model.\n",
        "\n",
        "We are providing a pre-trained word2vec model that Gensim will download and open - the file is very large, so this might take a few minutes to download and a couple of minutes to load. You can read on while it opens."
      ]
    },
    {
      "cell_type": "code",
      "metadata": {
        "id": "sd87GzpQafAw",
        "colab": {
          "base_uri": "https://localhost:8080/"
        },
        "outputId": "aa2b07f0-464c-4dd2-9abf-71139aa5d00c"
      },
      "source": [
        "import gensim.downloader as api\n",
        "%time model = api.load(\"glove-wiki-gigaword-300\")"
      ],
      "execution_count": null,
      "outputs": [
        {
          "output_type": "stream",
          "name": "stdout",
          "text": [
            "[==================================================] 100.0% 376.1/376.1MB downloaded\n",
            "CPU times: user 2min 54s, sys: 9.43 s, total: 3min 3s\n",
            "Wall time: 3min 19s\n"
          ]
        }
      ]
    },
    {
      "cell_type": "markdown",
      "metadata": {
        "id": "gWW6jMYsPdVu"
      },
      "source": [
        "`model` is of type [gensim.models.keyedvectors.KeyedVectors](https://radimrehurek.com/gensim/models/keyedvectors.html#gensim.models.keyedvectors.KeyedVectors).\n",
        "\n",
        "You can think of this as a dictionary mapping string words to the vector embeddings for each word.  For example, we can get the vector for the word `'government'` as follows:"
      ]
    },
    {
      "cell_type": "code",
      "metadata": {
        "id": "-qAOz8MNPsXr",
        "colab": {
          "base_uri": "https://localhost:8080/"
        },
        "outputId": "30039244-4516-4eac-c611-93b25b1a7c45"
      },
      "source": [
        "emb = model.get_vector(\"government\")\n",
        "print(emb.shape)\n",
        "print(emb)"
      ],
      "execution_count": null,
      "outputs": [
        {
          "output_type": "stream",
          "name": "stdout",
          "text": [
            "(300,)\n",
            "[ 2.5470e-02 -1.0216e-01 -2.8455e-01  2.8603e-01  1.9018e-01 -4.7529e-01\n",
            "  1.4468e-01  1.9805e-01 -4.2931e-02 -2.9325e+00 -6.3137e-01  9.7630e-02\n",
            "  1.0803e-01  5.4072e-01 -1.1834e-02  6.8399e-01  3.7241e-02 -3.8651e-01\n",
            "  5.1331e-01 -4.0682e-01  3.3802e-01  3.9780e-02  1.0934e+00 -2.6993e-02\n",
            " -3.2652e-01  1.8426e-01  2.5084e-02 -1.9201e-02 -1.9761e-01  4.9951e-01\n",
            " -2.3426e-01 -1.1926e-01  4.3991e-02  3.2443e-01 -2.6306e-01 -1.7991e-01\n",
            "  2.3484e-01  3.4124e-01 -3.1304e-01 -1.9777e-01 -1.9651e-01  2.8835e-01\n",
            " -1.6815e-01  3.8187e-01 -1.6562e-01 -4.0849e-01 -3.9998e-01  2.6185e-01\n",
            " -5.3972e-01  2.4353e-01  1.3366e-01 -3.0213e-01  3.7712e-01  1.8414e-01\n",
            "  7.4082e-03  1.4511e-01  3.2574e-01  1.6853e-01 -1.0872e-01  1.9417e-02\n",
            " -3.2784e-01  3.9864e-01 -7.8588e-01  2.3249e-01  2.8092e-02 -4.3737e-01\n",
            "  1.3954e-01 -4.0254e-01 -3.2712e-01  4.1180e-01  1.3976e-01  6.8819e-01\n",
            "  3.9624e-02  2.7002e-02  2.3729e-01 -6.6964e-02  5.5686e-02  2.4415e-01\n",
            "  1.2575e-03  5.1176e-01  1.3287e-01 -3.3563e-01  4.3484e-01  2.8397e-01\n",
            "  5.1968e-01  1.0791e-01 -7.4799e-02 -3.4167e-03 -1.3757e-01 -5.0712e-02\n",
            " -1.3372e-01 -1.9203e-01 -2.6988e-01  1.2323e-01  3.8608e-01 -2.7709e-02\n",
            " -8.5306e-02  3.0588e-01 -2.0863e-01  5.1200e-01  2.7791e-01 -2.6512e-01\n",
            " -3.6793e-01 -2.7299e-01  1.2325e-01  2.4941e-02 -5.6067e-01  5.3860e-02\n",
            " -6.0468e-02  1.2572e-01 -7.2452e-02 -6.5689e-01 -2.7048e-01 -5.1343e-01\n",
            "  3.5888e-01  2.4968e-01  9.2726e-02  1.1145e-01  4.1245e-01 -8.3346e-01\n",
            "  9.9315e-02 -6.8263e-02 -2.6200e-01  1.5697e-01  6.5353e-02 -6.1494e-01\n",
            "  2.0978e-01  1.9596e-01  1.0233e-02  4.2670e-01 -3.0503e-01 -7.2013e-02\n",
            " -2.5165e-02 -9.4581e-02  4.2129e-01  2.5155e-01  2.1072e-01 -2.4235e-02\n",
            "  3.6006e-01 -1.4018e-01 -9.7339e-02  4.7664e-01 -3.1374e-01  8.3262e-02\n",
            " -5.9347e-01 -1.3060e-01  1.9546e-01  2.6835e-01  4.3899e-02 -1.7273e-02\n",
            "  1.0099e+00 -1.4987e-02  1.7707e-02  3.1759e-01  2.7929e-01  4.5154e-01\n",
            "  1.0662e-02  7.6270e-02  3.9064e-02 -1.2765e-01  1.5507e-01  1.2937e-01\n",
            "  2.8904e-01  5.7720e-02 -4.1774e-01 -1.8795e-01  1.6175e-01 -1.4805e-01\n",
            " -1.9554e-03  1.1287e-01 -2.9316e-01 -2.7471e-01 -7.4981e-01  2.0245e-01\n",
            "  5.4333e-02  2.0324e-01 -4.1409e-01 -2.2466e-01 -1.5163e-01  7.4656e-01\n",
            "  9.3554e-02  2.2191e-01  1.7560e-01 -1.6155e-01 -7.8256e-02  3.3462e-01\n",
            " -1.1481e-01 -3.6853e-02  3.7746e-01 -1.0307e-01  2.1646e-01 -7.7427e-02\n",
            " -6.4254e-02  1.7607e-01  2.8693e-01  4.3777e-01  2.1964e-02  2.3730e-01\n",
            "  2.6717e-02 -1.1660e-01  2.7223e-01 -7.8559e-02  2.1517e-02 -2.8614e-02\n",
            "  1.9661e-03 -2.1028e-01 -1.5228e-01 -2.4300e-02  4.9377e-01 -8.3850e-02\n",
            " -4.5019e-02  5.1382e-02  6.9632e-02  1.0506e-01  1.6457e-01  3.2654e-01\n",
            " -6.0213e-02  2.7409e-01  1.2652e-01  6.7440e-01  6.0100e-01 -6.1608e-02\n",
            " -2.8924e-01  2.1374e-01  2.0753e-02 -1.8507e-01  4.3709e-01 -4.9838e-02\n",
            "  1.3316e-01 -3.4565e-01  2.7452e-01 -6.8051e-02  1.6351e-01  4.9942e-01\n",
            " -3.5026e-02 -5.0862e-02 -1.7264e-01 -1.8708e-01  4.8739e-01 -7.9031e-02\n",
            "  2.0715e-01 -6.5269e-02  3.7214e-01 -1.2470e-02 -6.2193e-01  9.5748e-01\n",
            "  4.7598e-01 -5.1563e-01  9.2283e-02  9.4128e-02  1.2573e-02 -1.8689e-01\n",
            "  2.2435e-01 -1.5478e-01  7.8359e-01 -1.7577e-01 -4.5908e-01  3.9201e-01\n",
            " -4.5039e-01 -1.6417e-01 -1.5380e-01 -1.8668e-01 -1.7151e-02 -5.4394e-02\n",
            "  9.7406e-02 -2.0390e-01  1.4467e-01  2.5500e-01 -1.8374e-01 -9.3682e-02\n",
            "  9.2240e-02  3.2854e-01  6.4037e-02  5.8784e-02  2.4794e-01  1.6599e-01\n",
            " -2.4789e+00  2.0171e-01  1.2950e+00 -1.8016e-01  8.4134e-01 -5.2966e-01\n",
            "  8.2971e-02 -5.5717e-02  2.7861e-01 -1.1111e-01 -2.5051e-02  3.9859e-01\n",
            " -1.1919e-01 -1.6299e-01  1.9196e-01 -2.6775e-01  2.3950e-01 -1.8337e-01\n",
            "  5.0646e-01  9.7249e-01 -1.0446e-01 -5.4483e-01 -1.3254e-01 -7.3358e-02]\n"
          ]
        }
      ]
    },
    {
      "cell_type": "markdown",
      "metadata": {
        "id": "kTmkl3ZjP5lr"
      },
      "source": [
        "As you can see, each word is represented by a 300-dimension vector.\n",
        "\n",
        "We can also ask `model` for the most similar words to `'government'` using [`model.most_similar()`](https://radimrehurek.com/gensim/models/keyedvectors.html#gensim.models.keyedvectors.KeyedVectors.most_similar). It returns the 10 most similar words, based on the cosine similarity of their emebddings to that of `'government'`.\n",
        "\n",
        "See also: [Example in Gensim documentation](https://radimrehurek.com/gensim/models/keyedvectors.html#what-can-i-do-with-word-vectors)."
      ]
    },
    {
      "cell_type": "code",
      "metadata": {
        "id": "Ji4egT__bQYZ",
        "colab": {
          "base_uri": "https://localhost:8080/"
        },
        "outputId": "0b827c12-6e14-42ef-c71d-0d4dbafc3084"
      },
      "source": [
        "model.most_similar(\"government\")"
      ],
      "execution_count": null,
      "outputs": [
        {
          "output_type": "execute_result",
          "data": {
            "text/plain": [
              "[('governments', 0.6940836906433105),\n",
              " ('administration', 0.6544793844223022),\n",
              " ('authorities', 0.6283242702484131),\n",
              " ('officials', 0.6262894868850708),\n",
              " ('federal', 0.6101000905036926),\n",
              " ('opposition', 0.6081914901733398),\n",
              " ('official', 0.5788125395774841),\n",
              " ('saying', 0.5778090953826904),\n",
              " ('public', 0.575609564781189),\n",
              " ('ministry', 0.5619341135025024)]"
            ]
          },
          "metadata": {},
          "execution_count": 42
        }
      ]
    },
    {
      "cell_type": "markdown",
      "metadata": {
        "id": "ejW6i4hUQjmp"
      },
      "source": [
        "As you can see, some words are clearly related to the original word `'government'`, including some lexical variations (`'governments'`), as well as semantically similar (`\"authorities\"`) words. You can also see some words that perhaps seem unrelated - probably they are highly weighted because they appeared in similar contexts to `\"government\"` (e.g. `\"saying\"`)."
      ]
    },
    {
      "cell_type": "markdown",
      "metadata": {
        "id": "8ElGY5PwQbd8"
      },
      "source": [
        "#Q4 Word2Vec-based Query Expansion\n",
        "\n",
        "The next task is to use `model` to develop your custom transformer for a word2vec-based query expansion, and use it with PL2.\n",
        "\n",
        "*Hints about the customer transformer*:\n",
        " - Inspired by Pandas, PyTerrier has the notion of [apply functions](https://pyterrier.readthedocs.io/en/latest/apply.html) for applying transformations.\n",
        " - What to do with out-of-vocabulary (OOV) words?\n",
        " - How many similar terms to identify for each existing query term?\n",
        " - How to ensure fair comparison with the experiments conducted in Q3.\n",
        " - What is the relative importance of these new terms compared to the existing query terms? e.g. you might want to give more emphasis to the original query terms (See Lecture 6).\n",
        " - How/if to integrate the Word2Vec cosine distance into your weighting formula?\n",
        " - How to deal with special characters not recognised by the default Terrier query parser, causing a QueryParserException (e.g `/`)?\n",
        "\n",
        "*Hints about integration*:\n",
        " - Think carefully about the required pipeline to use your custom W2V-based query expansion transformer. It should not be used in the same way as Bo1.\n",
        "\n",
        "You now have sufficient information to make a start on Q4.\n",
        "\n",
        "Compare the performance of your model in comparison to the PL2 baseline on the topic distillation (“td”) topic set. How many queries are improved or are degraded? Check how your new query\n",
        "expansion mechanism compares to Terrier’s Bo1 query expansion mechanism.\n",
        "\n",
        "*NB:* Ensure that your notebook shows evidence of all work you have done to answer all of the Q4 Quiz questions."
      ]
    },
    {
      "cell_type": "markdown",
      "source": [
        "Define the Word2Vec function (see pipeline in next block)."
      ],
      "metadata": {
        "id": "c6d9n_WepM_e"
      }
    },
    {
      "cell_type": "code",
      "metadata": {
        "id": "CohQ29flI20e",
        "colab": {
          "base_uri": "https://localhost:8080/"
        },
        "outputId": "d7744540-00f3-4d1c-e558-ee86a759c9a6"
      },
      "source": [
        "import string\n",
        "import nltk\n",
        "from nltk.corpus import stopwords\n",
        "nltk.download('stopwords')\n",
        "\n",
        "def word2vec(query, index):\n",
        "  # define a set of stop words\n",
        "  stops = set(stopwords.words('english'))\n",
        "  # define list of query terms\n",
        "  query_terms = []\n",
        "  # add original query terms to list, weights will be adjusted later\n",
        "  for term in query:\n",
        "    query_terms.append([term, 0])\n",
        "\n",
        "  # used to calculate weight for original terms\n",
        "  max_weights = [0] * len(query)\n",
        "  # iterate thru terms in query\n",
        "  for term in range(len(query)):\n",
        "    # if term is not a stopword, expand it\n",
        "    if query[term] not in stops:\n",
        "      # find top 100 most similar terms to query term\n",
        "      # this will be reduced later on top 10 overall terms from all expansion\n",
        "      new_terms = model.most_similar(query[term], topn=100) # use of cosine similarity\n",
        "\n",
        "      # check new terms\n",
        "      for t1 in range(len(new_terms)):\n",
        "        # the following code checks two things\n",
        "        #   (1) That the new term is not already in the weighted list\n",
        "        #   (2) That the new term is in our lexicon\n",
        "        term_is_new = True\n",
        "        term_is_oov = False\n",
        "\n",
        "        # this try/except block checks if new term is in our vocab\n",
        "        try:\n",
        "          index.getLexicon()[new_terms[t1][0]]\n",
        "        # if not, term is OOV, not added to query_terms\n",
        "        except:\n",
        "          term_is_oov = True\n",
        "\n",
        "        # this for loop checks that the new term is not in our list already\n",
        "        for t2 in range(len(query_terms)):\n",
        "          if (new_terms[t1][0] == query_terms[t2][0]):\n",
        "            term_is_new = False\n",
        "\n",
        "        # if term satisifies conditons, appended to query_terms\n",
        "        if term_is_new == True and term_is_oov == False:\n",
        "          query_terms.append(new_terms[t1])\n",
        "          # this is used for calculation of original term weights (see below)\n",
        "          if new_terms[t1][1] > max_weights[term]:\n",
        "            max_weights[term] = new_terms[t1][1]\n",
        "\n",
        "  # weight original query terms as inverse of the max weighted semantically\n",
        "  # close term to the given original query term\n",
        "  for term in range(len(query)):\n",
        "    try:\n",
        "      query_terms[term][1] = 1/max_weights[term]\n",
        "    # stop_words, which will have max_weight of 0 are given value 1\n",
        "    #   note: this is still larger than any of the added words\n",
        "    except:\n",
        "      query_terms[term][1] = 1.0\n",
        "\n",
        "  # sort by weight and return only top 10, will always include original terms\n",
        "  query_terms.sort(reverse=True, key=lambda tup: tup[1])\n",
        "  query_terms = query_terms[0:10]\n",
        "\n",
        "  # string concatenation into weighting string\n",
        "  concat = ''\n",
        "  for term in query_terms:\n",
        "    term_final = term[0]\n",
        "    # remove characters not recognized by query parser\n",
        "    if any(c in string.punctuation for c in term[0]):\n",
        "      term_final = ''\n",
        "      for c in term[0]:\n",
        "        if c not in string.punctuation:\n",
        "          term_final += c\n",
        "    concat += term_final + \"^\" + str(term[1]) + \" \"\n",
        "\n",
        "  return concat"
      ],
      "execution_count": null,
      "outputs": [
        {
          "output_type": "stream",
          "name": "stderr",
          "text": [
            "[nltk_data] Downloading package stopwords to /root/nltk_data...\n",
            "[nltk_data]   Package stopwords is already up-to-date!\n"
          ]
        }
      ]
    },
    {
      "cell_type": "markdown",
      "source": [
        "Define the Word2Vec pipeline."
      ],
      "metadata": {
        "id": "2DBVJ405pUQb"
      }
    },
    {
      "cell_type": "code",
      "source": [
        "# define word2vec pipeline which applies word2vec to query split by whitespace, then batch retrieves\n",
        "word2vec_pipeline = pt.apply.query(\n",
        "    lambda q : word2vec(q[\"query\"].split(\" \"), index), verbose=True\n",
        "    ) >> pt.BatchRetrieve(index, wmodel='PL2')"
      ],
      "metadata": {
        "id": "ipk2wjK3pV_6"
      },
      "execution_count": null,
      "outputs": []
    },
    {
      "cell_type": "markdown",
      "source": [
        "Run the experiment on the 'td' dataset with baseline PL2. This will let us compare the Word2Vec model with PL2. Although it is not a question in the quiz instance, I have also included the Bo1 pipeline so that we can compare our Word2Vec model to Bo1."
      ],
      "metadata": {
        "id": "6-gWEUVbUQx_"
      }
    },
    {
      "cell_type": "code",
      "source": [
        "# run the experiment using the word2vec pipeline\n",
        "td_word2vec = pt.Experiment(\n",
        "    [pl2, word2vec_pipeline, query_exp_pipeline],\n",
        "    pt.get_dataset(\"trec-wt-2004\").get_topics('td'),\n",
        "    pt.get_dataset(\"trec-wt-2004\").get_qrels('td'),\n",
        "    # using map\n",
        "    eval_metrics=['map'],\n",
        "    round={'map':4},\n",
        "    names=[\"PL2\", \"W2V\", \"Bo1\"],\n",
        "    baseline=0\n",
        ")\n",
        "\n",
        "td_word2vec"
      ],
      "metadata": {
        "colab": {
          "base_uri": "https://localhost:8080/",
          "height": 175,
          "referenced_widgets": [
            "00f9ca4a17af441687e80a709536af63",
            "a14db67302444ef28e9fd84e91e6c749",
            "c269e912be174f878c33213cb4efea4f",
            "13bb4c865a02466fbf76b3165de97f5b",
            "8ba77499f93d4e74b0103c4d45a5a453",
            "a9d93fd06a0247299756fb4248cdfc0a",
            "24d3fced9ff742cb8771443fbe127b9d",
            "2e4f6481ef344304b23e1a421c273cd1",
            "8ff43487255942f3a10c39289bf8cd52",
            "14c122fb7a3b40b9a3ced4c99617b3bd",
            "0c17ff7de35546ab97b0ae743ae5868d"
          ]
        },
        "id": "x7QANdp4gGpj",
        "outputId": "63e4fa04-d9fb-4605-93c0-245ca41b12ee"
      },
      "execution_count": null,
      "outputs": [
        {
          "output_type": "display_data",
          "data": {
            "text/plain": [
              "pt.apply.query:   0%|          | 0/75 [00:00<?, ?d/s]"
            ],
            "application/vnd.jupyter.widget-view+json": {
              "version_major": 2,
              "version_minor": 0,
              "model_id": "00f9ca4a17af441687e80a709536af63"
            }
          },
          "metadata": {}
        },
        {
          "output_type": "execute_result",
          "data": {
            "text/plain": [
              "  name     map  map +  map -  map p-value\n",
              "0  PL2  0.0695    NaN    NaN          NaN\n",
              "1  W2V  0.0557   16.0   59.0     0.067899\n",
              "2  Bo1  0.0671   30.0   45.0     0.239678"
            ],
            "text/html": [
              "\n",
              "  <div id=\"df-832435ea-e86a-486e-8ad5-6e565f67b479\">\n",
              "    <div class=\"colab-df-container\">\n",
              "      <div>\n",
              "<style scoped>\n",
              "    .dataframe tbody tr th:only-of-type {\n",
              "        vertical-align: middle;\n",
              "    }\n",
              "\n",
              "    .dataframe tbody tr th {\n",
              "        vertical-align: top;\n",
              "    }\n",
              "\n",
              "    .dataframe thead th {\n",
              "        text-align: right;\n",
              "    }\n",
              "</style>\n",
              "<table border=\"1\" class=\"dataframe\">\n",
              "  <thead>\n",
              "    <tr style=\"text-align: right;\">\n",
              "      <th></th>\n",
              "      <th>name</th>\n",
              "      <th>map</th>\n",
              "      <th>map +</th>\n",
              "      <th>map -</th>\n",
              "      <th>map p-value</th>\n",
              "    </tr>\n",
              "  </thead>\n",
              "  <tbody>\n",
              "    <tr>\n",
              "      <th>0</th>\n",
              "      <td>PL2</td>\n",
              "      <td>0.0695</td>\n",
              "      <td>NaN</td>\n",
              "      <td>NaN</td>\n",
              "      <td>NaN</td>\n",
              "    </tr>\n",
              "    <tr>\n",
              "      <th>1</th>\n",
              "      <td>W2V</td>\n",
              "      <td>0.0557</td>\n",
              "      <td>16.0</td>\n",
              "      <td>59.0</td>\n",
              "      <td>0.067899</td>\n",
              "    </tr>\n",
              "    <tr>\n",
              "      <th>2</th>\n",
              "      <td>Bo1</td>\n",
              "      <td>0.0671</td>\n",
              "      <td>30.0</td>\n",
              "      <td>45.0</td>\n",
              "      <td>0.239678</td>\n",
              "    </tr>\n",
              "  </tbody>\n",
              "</table>\n",
              "</div>\n",
              "      <button class=\"colab-df-convert\" onclick=\"convertToInteractive('df-832435ea-e86a-486e-8ad5-6e565f67b479')\"\n",
              "              title=\"Convert this dataframe to an interactive table.\"\n",
              "              style=\"display:none;\">\n",
              "        \n",
              "  <svg xmlns=\"http://www.w3.org/2000/svg\" height=\"24px\"viewBox=\"0 0 24 24\"\n",
              "       width=\"24px\">\n",
              "    <path d=\"M0 0h24v24H0V0z\" fill=\"none\"/>\n",
              "    <path d=\"M18.56 5.44l.94 2.06.94-2.06 2.06-.94-2.06-.94-.94-2.06-.94 2.06-2.06.94zm-11 1L8.5 8.5l.94-2.06 2.06-.94-2.06-.94L8.5 2.5l-.94 2.06-2.06.94zm10 10l.94 2.06.94-2.06 2.06-.94-2.06-.94-.94-2.06-.94 2.06-2.06.94z\"/><path d=\"M17.41 7.96l-1.37-1.37c-.4-.4-.92-.59-1.43-.59-.52 0-1.04.2-1.43.59L10.3 9.45l-7.72 7.72c-.78.78-.78 2.05 0 2.83L4 21.41c.39.39.9.59 1.41.59.51 0 1.02-.2 1.41-.59l7.78-7.78 2.81-2.81c.8-.78.8-2.07 0-2.86zM5.41 20L4 18.59l7.72-7.72 1.47 1.35L5.41 20z\"/>\n",
              "  </svg>\n",
              "      </button>\n",
              "      \n",
              "  <style>\n",
              "    .colab-df-container {\n",
              "      display:flex;\n",
              "      flex-wrap:wrap;\n",
              "      gap: 12px;\n",
              "    }\n",
              "\n",
              "    .colab-df-convert {\n",
              "      background-color: #E8F0FE;\n",
              "      border: none;\n",
              "      border-radius: 50%;\n",
              "      cursor: pointer;\n",
              "      display: none;\n",
              "      fill: #1967D2;\n",
              "      height: 32px;\n",
              "      padding: 0 0 0 0;\n",
              "      width: 32px;\n",
              "    }\n",
              "\n",
              "    .colab-df-convert:hover {\n",
              "      background-color: #E2EBFA;\n",
              "      box-shadow: 0px 1px 2px rgba(60, 64, 67, 0.3), 0px 1px 3px 1px rgba(60, 64, 67, 0.15);\n",
              "      fill: #174EA6;\n",
              "    }\n",
              "\n",
              "    [theme=dark] .colab-df-convert {\n",
              "      background-color: #3B4455;\n",
              "      fill: #D2E3FC;\n",
              "    }\n",
              "\n",
              "    [theme=dark] .colab-df-convert:hover {\n",
              "      background-color: #434B5C;\n",
              "      box-shadow: 0px 1px 3px 1px rgba(0, 0, 0, 0.15);\n",
              "      filter: drop-shadow(0px 1px 2px rgba(0, 0, 0, 0.3));\n",
              "      fill: #FFFFFF;\n",
              "    }\n",
              "  </style>\n",
              "\n",
              "      <script>\n",
              "        const buttonEl =\n",
              "          document.querySelector('#df-832435ea-e86a-486e-8ad5-6e565f67b479 button.colab-df-convert');\n",
              "        buttonEl.style.display =\n",
              "          google.colab.kernel.accessAllowed ? 'block' : 'none';\n",
              "\n",
              "        async function convertToInteractive(key) {\n",
              "          const element = document.querySelector('#df-832435ea-e86a-486e-8ad5-6e565f67b479');\n",
              "          const dataTable =\n",
              "            await google.colab.kernel.invokeFunction('convertToInteractive',\n",
              "                                                     [key], {});\n",
              "          if (!dataTable) return;\n",
              "\n",
              "          const docLinkHtml = 'Like what you see? Visit the ' +\n",
              "            '<a target=\"_blank\" href=https://colab.research.google.com/notebooks/data_table.ipynb>data table notebook</a>'\n",
              "            + ' to learn more about interactive tables.';\n",
              "          element.innerHTML = '';\n",
              "          dataTable['output_type'] = 'display_data';\n",
              "          await google.colab.output.renderOutput(dataTable, element);\n",
              "          const docLink = document.createElement('div');\n",
              "          docLink.innerHTML = docLinkHtml;\n",
              "          element.appendChild(docLink);\n",
              "        }\n",
              "      </script>\n",
              "    </div>\n",
              "  </div>\n",
              "  "
            ]
          },
          "metadata": {},
          "execution_count": 119
        }
      ]
    },
    {
      "cell_type": "markdown",
      "source": [
        "Let's look at which terms are in the expansions for \"ufos\" and \"natural language processing\"."
      ],
      "metadata": {
        "id": "LmOv5nFTcea0"
      }
    },
    {
      "cell_type": "code",
      "source": [
        "word2vec_pipeline.search(\"ufos\").iloc[0]['query']"
      ],
      "metadata": {
        "colab": {
          "base_uri": "https://localhost:8080/",
          "height": 85,
          "referenced_widgets": [
            "35e15ef2951a40a28b826c36e3a65be2",
            "28aaa46cca694603b7e2eeb4cc81e41f",
            "5ddbaf2240f34eb9ab27a3e201d07e4c",
            "e7e8f8b699e74d538181ef06e7383c3e",
            "bb3541b731c341219be8de82db664195",
            "1580e970ce394ba99b2ad360bed62c27",
            "a2dbc051ca66479c9af180d309b2ffcb",
            "fbe76af253d24b5a86222561e3e3d234",
            "1a51eb0bf5684fe3969429f2018ed671",
            "086fd066465b46a89a4669b81bf47205",
            "f449bc072c4842a7a609dd4d0bce805e"
          ]
        },
        "id": "2VDiXXCvcrIc",
        "outputId": "215fb658-95cd-4ddc-bf91-196fbc5ec753"
      },
      "execution_count": null,
      "outputs": [
        {
          "output_type": "display_data",
          "data": {
            "text/plain": [
              "pt.apply.query:   0%|          | 0/1 [00:00<?, ?d/s]"
            ],
            "application/vnd.jupyter.widget-view+json": {
              "version_major": 2,
              "version_minor": 0,
              "model_id": "35e15ef2951a40a28b826c36e3a65be2"
            }
          },
          "metadata": {}
        },
        {
          "output_type": "execute_result",
          "data": {
            "text/plain": [
              "'ufos^1.6081544467864644 ufo^0.6218308210372925 paranormal^0.4786444306373596 phenomena^0.4251202940940857 bigfoot^0.4118858575820923 alien^0.38783615827560425 debunk^0.356128990650177 saucer^0.3554207682609558 purport^0.34586918354034424 spaceship^0.33829525113105774 '"
            ],
            "application/vnd.google.colaboratory.intrinsic+json": {
              "type": "string"
            }
          },
          "metadata": {},
          "execution_count": 120
        }
      ]
    },
    {
      "cell_type": "code",
      "source": [
        "word2vec_pipeline.search(\"natural language processing\").iloc[0]['query']"
      ],
      "metadata": {
        "colab": {
          "base_uri": "https://localhost:8080/",
          "height": 85,
          "referenced_widgets": [
            "0a62a3c3255047a99ef9d1e9d11eacaa",
            "f963ac7d02df48069e80d2885ed8386b",
            "ff1d09536fc945dbad3005b46655e0d8",
            "19b79b034f534f0ebe3d9b179e2aa9bb",
            "11ace6bfd6b44bd3acff3df82d1c7647",
            "f0b1c003a8af447b9333f6fcc15488fd",
            "43f2e25123e64fda96941b96fd06a3d7",
            "c3bb9a8fd65541bd8f08e1373adba1d0",
            "9dda7c0d66c94a5db9f9d94eee10bfab",
            "08f02f95c3d848a0abaa3100350746f6",
            "57c9d1df00714d5f8bc68c9585ab2cdb"
          ]
        },
        "id": "ZHF0doJkdPkB",
        "outputId": "6619d830-38df-4a74-f61e-faf59ee02bbb"
      },
      "execution_count": null,
      "outputs": [
        {
          "output_type": "display_data",
          "data": {
            "text/plain": [
              "pt.apply.query:   0%|          | 0/1 [00:00<?, ?d/s]"
            ],
            "application/vnd.jupyter.widget-view+json": {
              "version_major": 2,
              "version_minor": 0,
              "model_id": "0a62a3c3255047a99ef9d1e9d11eacaa"
            }
          },
          "metadata": {}
        },
        {
          "output_type": "execute_result",
          "data": {
            "text/plain": [
              "'natural^1.778409452277717 processing^1.692465001117737 language^1.5883078117381981 arabic^0.6296008825302124 word^0.6114097237586975 english^0.6094553470611572 spoken^0.6066469550132751 processes^0.5908541679382324 resources^0.5623002052307129 speak^0.5336695909500122 '"
            ],
            "application/vnd.google.colaboratory.intrinsic+json": {
              "type": "string"
            }
          },
          "metadata": {},
          "execution_count": 121
        }
      ]
    },
    {
      "cell_type": "markdown",
      "source": [
        "Let's look at results for 'ohio damns and locks' and 'hiv aids'."
      ],
      "metadata": {
        "id": "GLQJcD4Wd4hf"
      }
    },
    {
      "cell_type": "code",
      "source": [
        "word2vec_pipeline.search('ohio dams and locks').iloc[0]['query']"
      ],
      "metadata": {
        "colab": {
          "base_uri": "https://localhost:8080/",
          "height": 85,
          "referenced_widgets": [
            "21ff31e4da7640a09101bb4498e90d56",
            "c9c06bdf1b274910a1bf9b32b6f8f285",
            "535da8abc3db4613b20af4537a097beb",
            "d092246be73141fcb59be90d96e9da87",
            "50cc4b1ee092458c8b00b76bc412116e",
            "9e4428a296ff4aaa9d00876dfb5dd686",
            "bd60a93131ea4a8bb02b6ee9f1df9dc8",
            "f852a5c8c18b446f8b2e09d98e056ade",
            "53b73c012ddd4030946897a7e8dbbea9",
            "c25cd13e21f1443bb112e6b138914d56",
            "e4fb15f91f4b4c5a94cf0c609e3c35c8"
          ]
        },
        "id": "8xDud99rd4GE",
        "outputId": "912d65e5-e2c8-4b85-8d4d-b87662860bb2"
      },
      "execution_count": null,
      "outputs": [
        {
          "output_type": "display_data",
          "data": {
            "text/plain": [
              "pt.apply.query:   0%|          | 0/1 [00:00<?, ?d/s]"
            ],
            "application/vnd.jupyter.widget-view+json": {
              "version_major": 2,
              "version_minor": 0,
              "model_id": "21ff31e4da7640a09101bb4498e90d56"
            }
          },
          "metadata": {}
        },
        {
          "output_type": "execute_result",
          "data": {
            "text/plain": [
              "'locks^1.59667668641272 ohio^1.4503568443954074 dams^1.413475351361252 and^1.0 dam^0.7074760794639587 michigan^0.689485490322113 illinois^0.676207423210144 missouri^0.636448860168457 lock^0.6263008713722229 indiana^0.6224435567855835 '"
            ],
            "application/vnd.google.colaboratory.intrinsic+json": {
              "type": "string"
            }
          },
          "metadata": {},
          "execution_count": 122
        }
      ]
    },
    {
      "cell_type": "code",
      "source": [
        "word2vec_pipeline.search('hiv aids').iloc[0]['query']"
      ],
      "metadata": {
        "colab": {
          "base_uri": "https://localhost:8080/",
          "height": 85,
          "referenced_widgets": [
            "64747508161f427f8c9f660b642f0557",
            "3ac9eeae777e4c6a9af054d9845b4cb5",
            "b4a7e09be9e04833bfbd4eb6bc0321da",
            "42f387c6971c4ff9bb1e94cc72be0eea",
            "faf1ae41b9a14a188897b1b77bebac1b",
            "a545fb83fc3c41ff98b0806d13b36423",
            "c454569e765540349727c970f0792711",
            "4a1b99ce9761477a95057017e89b7797",
            "f1edd503f2f84ec3963caf5df01c9ae2",
            "102280bb10f5434f9f771f7e8029b347",
            "157a79a430fd4b55ae296e9b2213a4c9"
          ]
        },
        "id": "jkreV2Fcei2h",
        "outputId": "2c9f7ce1-4e39-4755-d7a5-a3a3b52cf554"
      },
      "execution_count": null,
      "outputs": [
        {
          "output_type": "display_data",
          "data": {
            "text/plain": [
              "pt.apply.query:   0%|          | 0/1 [00:00<?, ?d/s]"
            ],
            "application/vnd.jupyter.widget-view+json": {
              "version_major": 2,
              "version_minor": 0,
              "model_id": "64747508161f427f8c9f660b642f0557"
            }
          },
          "metadata": {}
        },
        {
          "output_type": "execute_result",
          "data": {
            "text/plain": [
              "'aids^2.139772796985149 hiv^1.5345333704804471 virus^0.6516638994216919 malaria^0.6349388360977173 diseases^0.5649459362030029 tb^0.5511175394058228 vaccine^0.5497093200683594 influenza^0.5362955927848816 antiretroviral^0.5306987166404724 flu^0.5121867656707764 '"
            ],
            "application/vnd.google.colaboratory.intrinsic+json": {
              "type": "string"
            }
          },
          "metadata": {},
          "execution_count": 123
        }
      ]
    },
    {
      "cell_type": "markdown",
      "source": [
        "Let's look at the results for the query 'salmon'."
      ],
      "metadata": {
        "id": "7Bg0N-kjfpII"
      }
    },
    {
      "cell_type": "code",
      "source": [
        "word2vec_pipeline.search('salmon').iloc[0]['query']"
      ],
      "metadata": {
        "colab": {
          "base_uri": "https://localhost:8080/",
          "height": 85,
          "referenced_widgets": [
            "7f5b2c28ee3c4a6ab861e163281f1efd",
            "db3552cdefd94c0a9fda060891746cec",
            "541fc3c58cec4ce88be3226c9181d27d",
            "a5352004b001489f9f0fa783725a4aaf",
            "ae6b33edfb15470889855c3f71da0937",
            "ffb23c64890b4f4196c95d94bb3ef981",
            "7e73c526612a42e8940450b5796cd980",
            "f60c2f88869c44759d369d852c58a044",
            "6a503ade787c4ba5b5208c449551bf91",
            "bfff4adfbf7c459fbf4ba7675bf85677",
            "5ac60a7d1bb44239be4e6159fdcab10a"
          ]
        },
        "id": "vuQCIv0Dfoco",
        "outputId": "70d877b9-7daa-4f94-a009-376d4defa9a5"
      },
      "execution_count": null,
      "outputs": [
        {
          "output_type": "display_data",
          "data": {
            "text/plain": [
              "pt.apply.query:   0%|          | 0/1 [00:00<?, ?d/s]"
            ],
            "application/vnd.jupyter.widget-view+json": {
              "version_major": 2,
              "version_minor": 0,
              "model_id": "7f5b2c28ee3c4a6ab861e163281f1efd"
            }
          },
          "metadata": {}
        },
        {
          "output_type": "execute_result",
          "data": {
            "text/plain": [
              "'salmon^1.5061946473635872 trout^0.6639248132705688 fish^0.6541996002197266 coho^0.6121472120285034 steelhead^0.5847512483596802 tuna^0.5719752907752991 halibut^0.5349948406219482 lobster^0.5336666107177734 herring^0.5222011804580688 shrimp^0.514826238155365 '"
            ],
            "application/vnd.google.colaboratory.intrinsic+json": {
              "type": "string"
            }
          },
          "metadata": {},
          "execution_count": 124
        }
      ]
    },
    {
      "cell_type": "markdown",
      "metadata": {
        "id": "BLuwITIISDL-"
      },
      "source": [
        "# That's all Folks\n",
        "\n",
        "**Submission Instructions:** Complete this notebook, and answer the related questions in the Exercise 1 Quiz Instance on Moodle. As part of the Quiz, you will be asked to upload your .ipynb notebook (showing both your solutions and the results of their execution) and answer various corresponding questions as per the exercise specification (use File... Download .ipynb).\n",
        "\n",
        "Your completed notebook **MUST** show both your solutions and the results of their executions.\n",
        "\n",
        "Your responses to the Quiz along with your ipynb notebook solution must be submitted by **the deadline stated on the Exercise 1 Specification.**"
      ]
    }
  ]
}